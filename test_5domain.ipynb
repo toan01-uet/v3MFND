{
  "nbformat": 4,
  "nbformat_minor": 0,
  "metadata": {
    "colab": {
      "name": "test.ipynb",
      "provenance": [],
      "collapsed_sections": [],
      "private_outputs": true,
      "machine_shape": "hm",
      "background_execution": "on",
      "include_colab_link": true
    },
    "kernelspec": {
      "name": "python3",
      "display_name": "Python 3"
    },
    "language_info": {
      "name": "python"
    },
    "accelerator": "GPU"
  },
  "cells": [
    {
      "cell_type": "markdown",
      "metadata": {
        "id": "view-in-github",
        "colab_type": "text"
      },
      "source": [
        "<a href=\"https://colab.research.google.com/github/toan01-uet/v3MFND/blob/main/test_5domain.ipynb\" target=\"_parent\"><img src=\"https://colab.research.google.com/assets/colab-badge.svg\" alt=\"Open In Colab\"/></a>"
      ]
    },
    {
      "cell_type": "code",
      "execution_count": null,
      "metadata": {
        "id": "azXTLnR0vAZ9"
      },
      "outputs": [],
      "source": [
        "from google.colab import drive\n",
        "drive.mount('/content/drive/', force_remount=True)"
      ]
    },
    {
      "cell_type": "code",
      "source": [
        "%cd '/content/drive/MyDrive/VuongToan/MDFEND-Weibo21/MDFEND-Weibo21'\n",
        "!pwd"
      ],
      "metadata": {
        "id": "P1ihXSxbvHSa"
      },
      "execution_count": null,
      "outputs": []
    },
    {
      "cell_type": "code",
      "source": [
        "!pip install transformers==4.18.0"
      ],
      "metadata": {
        "id": "CoOHz0fsvRi8"
      },
      "execution_count": null,
      "outputs": []
    },
    {
      "cell_type": "code",
      "source": [
        "!pip3 install pickle5\n",
        "import pickle5 as pickle"
      ],
      "metadata": {
        "id": "UPSejWduwNaD"
      },
      "execution_count": null,
      "outputs": []
    },
    {
      "cell_type": "code",
      "source": [
        "# !pip uninstall torch torchvision torchaudio"
      ],
      "metadata": {
        "id": "4pPdqVBlGQgj"
      },
      "execution_count": null,
      "outputs": []
    },
    {
      "cell_type": "code",
      "source": [
        "# !pwd \n",
        "# !ls pretrained_model_vn\n",
        "# !pip3 install torch torchvision torchaudio --extra-index-url https://download.pytorch.org/whl/cu113"
      ],
      "metadata": {
        "id": "ljSoSHVw3uFT"
      },
      "execution_count": null,
      "outputs": []
    },
    {
      "cell_type": "code",
      "source": [
        "!nvidia-smi"
      ],
      "metadata": {
        "id": "bQZFukeJzJnX"
      },
      "execution_count": null,
      "outputs": []
    },
    {
      "cell_type": "code",
      "source": [
        "import torch \n",
        "print(torch.version.cuda) #11.3\n",
        "print(torch.backends.cudnn.version()) #8200\n",
        "print(torch.__version__) ## 1.11 + cu113\n"
      ],
      "metadata": {
        "id": "6HtGjj8m6VhB"
      },
      "execution_count": null,
      "outputs": []
    },
    {
      "cell_type": "markdown",
      "source": [
        "## 1. MDFEND - 5domain"
      ],
      "metadata": {
        "id": "loqi71FA2pnC"
      }
    },
    {
      "cell_type": "code",
      "source": [
        "!python3 main.py --model_name mdfend --batchsize 32 --lr 0.001 --type_fusion 0"
      ],
      "metadata": {
        "id": "vVoUDPKh2o_r"
      },
      "execution_count": null,
      "outputs": []
    },
    {
      "cell_type": "markdown",
      "source": [
        "## 2. v3MFND - 5domain"
      ],
      "metadata": {
        "id": "NgpqYkWz25zy"
      }
    },
    {
      "cell_type": "code",
      "source": [
        "## concat - lr: 0.01\n",
        "!python3 main.py --model_name mdfend --batchsize 32 --lr 0.01 --type_fusion 1"
      ],
      "metadata": {
        "id": "6ZeWeeU024O6"
      },
      "execution_count": null,
      "outputs": []
    },
    {
      "cell_type": "code",
      "source": [
        "## sum - lr: 0.01\n",
        "!python3 main.py --model_name mdfend --batchsize 32 --lr 0.01 --type_fusion 1"
      ],
      "metadata": {
        "id": "0IlNoi-EvUV8"
      },
      "execution_count": null,
      "outputs": []
    },
    {
      "cell_type": "code",
      "source": [
        "## avg - lr: 0.001\n",
        "!python3 main.py --model_name mdfend --batchsize 32 --lr 0.001 --type_fusion 1"
      ],
      "metadata": {
        "id": "qyLfD1-h3Ypb"
      },
      "execution_count": null,
      "outputs": []
    },
    {
      "cell_type": "markdown",
      "source": [
        "## 3. mdfend + meta - 5domain"
      ],
      "metadata": {
        "id": "JUqjviaz3cMD"
      }
    },
    {
      "cell_type": "code",
      "source": [
        "## concat - lr: 0.001\n",
        "!python3 main.py --model_name mdfend --batchsize 32 --lr 0.001 --type_fusion 3"
      ],
      "metadata": {
        "id": "R6G0znVU3sfB"
      },
      "execution_count": null,
      "outputs": []
    },
    {
      "cell_type": "code",
      "source": [
        "## sum - lr: 0.001\n",
        "!python3 main.py --model_name mdfend --batchsize 32 --lr 0.001 --type_fusion 3"
      ],
      "metadata": {
        "id": "ke8lFti73sTR"
      },
      "execution_count": null,
      "outputs": []
    },
    {
      "cell_type": "code",
      "source": [
        "## avg - lr: 0.001\n",
        "!python3 main.py --model_name mdfend --batchsize 32 --lr 0.001 --type_fusion 3"
      ],
      "metadata": {
        "id": "BFXFW-ie3sH1"
      },
      "execution_count": null,
      "outputs": []
    },
    {
      "cell_type": "markdown",
      "source": [
        "## 4. v3MFND + meta - 5domain"
      ],
      "metadata": {
        "id": "OAvsTLHY3kBz"
      }
    },
    {
      "cell_type": "code",
      "source": [
        "## concat - lr: 0.01\n",
        "!python3 main.py --model_name mdfend --batchsize 32 --lr 0.01 --type_fusion 2"
      ],
      "metadata": {
        "id": "sa4cJIUR3xE1"
      },
      "execution_count": null,
      "outputs": []
    },
    {
      "cell_type": "code",
      "source": [
        "## sum - lr: 0.01\n",
        "!python3 main.py --model_name mdfend --batchsize 32 --lr 0.01 --type_fusion 2"
      ],
      "metadata": {
        "id": "7WyeYHHz3w7B"
      },
      "execution_count": null,
      "outputs": []
    },
    {
      "cell_type": "code",
      "source": [
        "## avg - lr: 0.01\n",
        "!python3 main.py --model_name mdfend --batchsize 32 --lr 0.01 --type_fusion 2"
      ],
      "metadata": {
        "id": "86YisFxZ3wy6"
      },
      "execution_count": null,
      "outputs": []
    }
  ]
}