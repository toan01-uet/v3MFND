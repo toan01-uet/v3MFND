{
  "nbformat": 4,
  "nbformat_minor": 0,
  "metadata": {
    "colab": {
      "name": "test.ipynb",
      "provenance": [],
      "collapsed_sections": [],
      "machine_shape": "hm",
      "background_execution": "on",
      "include_colab_link": true
    },
    "kernelspec": {
      "name": "python3",
      "display_name": "Python 3"
    },
    "language_info": {
      "name": "python"
    },
    "accelerator": "GPU"
  },
  "cells": [
    {
      "cell_type": "markdown",
      "metadata": {
        "id": "view-in-github",
        "colab_type": "text"
      },
      "source": [
        "<a href=\"https://colab.research.google.com/github/toan01-uet/v3MFND/blob/main/test_5domain.ipynb\" target=\"_parent\"><img src=\"https://colab.research.google.com/assets/colab-badge.svg\" alt=\"Open In Colab\"/></a>"
      ]
    },
    {
      "cell_type": "code",
      "execution_count": 1,
      "metadata": {
        "id": "azXTLnR0vAZ9",
        "colab": {
          "base_uri": "https://localhost:8080/"
        },
        "outputId": "9669652f-6e27-472f-e4a0-f183e59fde8b"
      },
      "outputs": [
        {
          "output_type": "stream",
          "name": "stdout",
          "text": [
            "Mounted at /content/drive/\n"
          ]
        }
      ],
      "source": [
        "from google.colab import drive\n",
        "drive.mount('/content/drive/', force_remount=True)"
      ]
    },
    {
      "cell_type": "code",
      "source": [
        "%cd '/content/drive/MyDrive/VuongToan/MDFEND-Weibo21/MDFEND-Weibo21'\n",
        "!pwd"
      ],
      "metadata": {
        "id": "P1ihXSxbvHSa",
        "colab": {
          "base_uri": "https://localhost:8080/"
        },
        "outputId": "ad1ff9ef-1094-4e1c-e25c-f68818c863df"
      },
      "execution_count": 2,
      "outputs": [
        {
          "output_type": "stream",
          "name": "stdout",
          "text": [
            "/content/drive/MyDrive/VuongToan/MDFEND-Weibo21/MDFEND-Weibo21\n",
            "/content/drive/MyDrive/VuongToan/MDFEND-Weibo21/MDFEND-Weibo21\n"
          ]
        }
      ]
    },
    {
      "cell_type": "code",
      "source": [
        "!pip install transformers==4.18.0"
      ],
      "metadata": {
        "id": "CoOHz0fsvRi8",
        "colab": {
          "base_uri": "https://localhost:8080/"
        },
        "outputId": "6c59f1c8-06a8-4892-9f87-aa57c73f1fc8"
      },
      "execution_count": 3,
      "outputs": [
        {
          "output_type": "stream",
          "name": "stdout",
          "text": [
            "Collecting transformers==4.18.0\n",
            "  Downloading transformers-4.18.0-py3-none-any.whl (4.0 MB)\n",
            "\u001b[K     |████████████████████████████████| 4.0 MB 12.0 MB/s \n",
            "\u001b[?25hCollecting pyyaml>=5.1\n",
            "  Downloading PyYAML-6.0-cp37-cp37m-manylinux_2_5_x86_64.manylinux1_x86_64.manylinux_2_12_x86_64.manylinux2010_x86_64.whl (596 kB)\n",
            "\u001b[K     |████████████████████████████████| 596 kB 53.6 MB/s \n",
            "\u001b[?25hRequirement already satisfied: packaging>=20.0 in /usr/local/lib/python3.7/dist-packages (from transformers==4.18.0) (21.3)\n",
            "Collecting tokenizers!=0.11.3,<0.13,>=0.11.1\n",
            "  Downloading tokenizers-0.12.1-cp37-cp37m-manylinux_2_12_x86_64.manylinux2010_x86_64.whl (6.6 MB)\n",
            "\u001b[K     |████████████████████████████████| 6.6 MB 51.5 MB/s \n",
            "\u001b[?25hCollecting huggingface-hub<1.0,>=0.1.0\n",
            "  Downloading huggingface_hub-0.5.1-py3-none-any.whl (77 kB)\n",
            "\u001b[K     |████████████████████████████████| 77 kB 6.1 MB/s \n",
            "\u001b[?25hRequirement already satisfied: regex!=2019.12.17 in /usr/local/lib/python3.7/dist-packages (from transformers==4.18.0) (2019.12.20)\n",
            "Requirement already satisfied: filelock in /usr/local/lib/python3.7/dist-packages (from transformers==4.18.0) (3.6.0)\n",
            "Requirement already satisfied: numpy>=1.17 in /usr/local/lib/python3.7/dist-packages (from transformers==4.18.0) (1.21.6)\n",
            "Requirement already satisfied: importlib-metadata in /usr/local/lib/python3.7/dist-packages (from transformers==4.18.0) (4.11.3)\n",
            "Requirement already satisfied: tqdm>=4.27 in /usr/local/lib/python3.7/dist-packages (from transformers==4.18.0) (4.64.0)\n",
            "Requirement already satisfied: requests in /usr/local/lib/python3.7/dist-packages (from transformers==4.18.0) (2.23.0)\n",
            "Collecting sacremoses\n",
            "  Downloading sacremoses-0.0.53.tar.gz (880 kB)\n",
            "\u001b[K     |████████████████████████████████| 880 kB 49.5 MB/s \n",
            "\u001b[?25hRequirement already satisfied: typing-extensions>=3.7.4.3 in /usr/local/lib/python3.7/dist-packages (from huggingface-hub<1.0,>=0.1.0->transformers==4.18.0) (4.2.0)\n",
            "Requirement already satisfied: pyparsing!=3.0.5,>=2.0.2 in /usr/local/lib/python3.7/dist-packages (from packaging>=20.0->transformers==4.18.0) (3.0.8)\n",
            "Requirement already satisfied: zipp>=0.5 in /usr/local/lib/python3.7/dist-packages (from importlib-metadata->transformers==4.18.0) (3.8.0)\n",
            "Requirement already satisfied: certifi>=2017.4.17 in /usr/local/lib/python3.7/dist-packages (from requests->transformers==4.18.0) (2021.10.8)\n",
            "Requirement already satisfied: urllib3!=1.25.0,!=1.25.1,<1.26,>=1.21.1 in /usr/local/lib/python3.7/dist-packages (from requests->transformers==4.18.0) (1.24.3)\n",
            "Requirement already satisfied: chardet<4,>=3.0.2 in /usr/local/lib/python3.7/dist-packages (from requests->transformers==4.18.0) (3.0.4)\n",
            "Requirement already satisfied: idna<3,>=2.5 in /usr/local/lib/python3.7/dist-packages (from requests->transformers==4.18.0) (2.10)\n",
            "Requirement already satisfied: six in /usr/local/lib/python3.7/dist-packages (from sacremoses->transformers==4.18.0) (1.15.0)\n",
            "Requirement already satisfied: click in /usr/local/lib/python3.7/dist-packages (from sacremoses->transformers==4.18.0) (7.1.2)\n",
            "Requirement already satisfied: joblib in /usr/local/lib/python3.7/dist-packages (from sacremoses->transformers==4.18.0) (1.1.0)\n",
            "Building wheels for collected packages: sacremoses\n",
            "  Building wheel for sacremoses (setup.py) ... \u001b[?25l\u001b[?25hdone\n",
            "  Created wheel for sacremoses: filename=sacremoses-0.0.53-py3-none-any.whl size=895260 sha256=366a8f889bcbf694707d86668fbeb06cacfe9ee1cd35145fe45847407da778ca\n",
            "  Stored in directory: /root/.cache/pip/wheels/87/39/dd/a83eeef36d0bf98e7a4d1933a4ad2d660295a40613079bafc9\n",
            "Successfully built sacremoses\n",
            "Installing collected packages: pyyaml, tokenizers, sacremoses, huggingface-hub, transformers\n",
            "  Attempting uninstall: pyyaml\n",
            "    Found existing installation: PyYAML 3.13\n",
            "    Uninstalling PyYAML-3.13:\n",
            "      Successfully uninstalled PyYAML-3.13\n",
            "Successfully installed huggingface-hub-0.5.1 pyyaml-6.0 sacremoses-0.0.53 tokenizers-0.12.1 transformers-4.18.0\n"
          ]
        }
      ]
    },
    {
      "cell_type": "code",
      "source": [
        "!pip3 install pickle5\n",
        "import pickle5 as pickle"
      ],
      "metadata": {
        "id": "UPSejWduwNaD",
        "colab": {
          "base_uri": "https://localhost:8080/"
        },
        "outputId": "dc8aaf6e-cfe4-4452-8728-87c9291f9c44"
      },
      "execution_count": 4,
      "outputs": [
        {
          "output_type": "stream",
          "name": "stdout",
          "text": [
            "Collecting pickle5\n",
            "  Downloading pickle5-0.0.12-cp37-cp37m-manylinux_2_5_x86_64.manylinux1_x86_64.whl (256 kB)\n",
            "\u001b[?25l\r\u001b[K     |█▎                              | 10 kB 30.9 MB/s eta 0:00:01\r\u001b[K     |██▋                             | 20 kB 34.7 MB/s eta 0:00:01\r\u001b[K     |███▉                            | 30 kB 24.4 MB/s eta 0:00:01\r\u001b[K     |█████▏                          | 40 kB 12.5 MB/s eta 0:00:01\r\u001b[K     |██████▍                         | 51 kB 11.1 MB/s eta 0:00:01\r\u001b[K     |███████▊                        | 61 kB 13.0 MB/s eta 0:00:01\r\u001b[K     |█████████                       | 71 kB 13.0 MB/s eta 0:00:01\r\u001b[K     |██████████▎                     | 81 kB 12.7 MB/s eta 0:00:01\r\u001b[K     |███████████▌                    | 92 kB 14.0 MB/s eta 0:00:01\r\u001b[K     |████████████▉                   | 102 kB 12.6 MB/s eta 0:00:01\r\u001b[K     |██████████████                  | 112 kB 12.6 MB/s eta 0:00:01\r\u001b[K     |███████████████▍                | 122 kB 12.6 MB/s eta 0:00:01\r\u001b[K     |████████████████▋               | 133 kB 12.6 MB/s eta 0:00:01\r\u001b[K     |██████████████████              | 143 kB 12.6 MB/s eta 0:00:01\r\u001b[K     |███████████████████▏            | 153 kB 12.6 MB/s eta 0:00:01\r\u001b[K     |████████████████████▌           | 163 kB 12.6 MB/s eta 0:00:01\r\u001b[K     |█████████████████████▊          | 174 kB 12.6 MB/s eta 0:00:01\r\u001b[K     |███████████████████████         | 184 kB 12.6 MB/s eta 0:00:01\r\u001b[K     |████████████████████████▎       | 194 kB 12.6 MB/s eta 0:00:01\r\u001b[K     |█████████████████████████▋      | 204 kB 12.6 MB/s eta 0:00:01\r\u001b[K     |██████████████████████████▉     | 215 kB 12.6 MB/s eta 0:00:01\r\u001b[K     |████████████████████████████▏   | 225 kB 12.6 MB/s eta 0:00:01\r\u001b[K     |█████████████████████████████▍  | 235 kB 12.6 MB/s eta 0:00:01\r\u001b[K     |██████████████████████████████▊ | 245 kB 12.6 MB/s eta 0:00:01\r\u001b[K     |████████████████████████████████| 256 kB 12.6 MB/s eta 0:00:01\r\u001b[K     |████████████████████████████████| 256 kB 12.6 MB/s \n",
            "\u001b[?25hInstalling collected packages: pickle5\n",
            "Successfully installed pickle5-0.0.12\n"
          ]
        }
      ]
    },
    {
      "cell_type": "code",
      "source": [
        "# !pip uninstall torch torchvision torchaudio"
      ],
      "metadata": {
        "id": "4pPdqVBlGQgj"
      },
      "execution_count": 5,
      "outputs": []
    },
    {
      "cell_type": "code",
      "source": [
        "# !pwd \n",
        "# !ls pretrained_model_vn\n",
        "# !pip3 install torch torchvision torchaudio --extra-index-url https://download.pytorch.org/whl/cu113"
      ],
      "metadata": {
        "id": "ljSoSHVw3uFT"
      },
      "execution_count": 6,
      "outputs": []
    },
    {
      "cell_type": "code",
      "source": [
        "!nvidia-smi"
      ],
      "metadata": {
        "id": "bQZFukeJzJnX",
        "colab": {
          "base_uri": "https://localhost:8080/"
        },
        "outputId": "bb3ea5b4-8a93-4e71-d0cf-5ea7ea17a336"
      },
      "execution_count": 7,
      "outputs": [
        {
          "output_type": "stream",
          "name": "stdout",
          "text": [
            "Wed May 11 01:40:50 2022       \n",
            "+-----------------------------------------------------------------------------+\n",
            "| NVIDIA-SMI 460.32.03    Driver Version: 460.32.03    CUDA Version: 11.2     |\n",
            "|-------------------------------+----------------------+----------------------+\n",
            "| GPU  Name        Persistence-M| Bus-Id        Disp.A | Volatile Uncorr. ECC |\n",
            "| Fan  Temp  Perf  Pwr:Usage/Cap|         Memory-Usage | GPU-Util  Compute M. |\n",
            "|                               |                      |               MIG M. |\n",
            "|===============================+======================+======================|\n",
            "|   0  Tesla P100-PCIE...  Off  | 00000000:00:04.0 Off |                    0 |\n",
            "| N/A   40C    P0    28W / 250W |      0MiB / 16280MiB |      0%      Default |\n",
            "|                               |                      |                  N/A |\n",
            "+-------------------------------+----------------------+----------------------+\n",
            "                                                                               \n",
            "+-----------------------------------------------------------------------------+\n",
            "| Processes:                                                                  |\n",
            "|  GPU   GI   CI        PID   Type   Process name                  GPU Memory |\n",
            "|        ID   ID                                                   Usage      |\n",
            "|=============================================================================|\n",
            "|  No running processes found                                                 |\n",
            "+-----------------------------------------------------------------------------+\n"
          ]
        }
      ]
    },
    {
      "cell_type": "code",
      "source": [
        "import torch \n",
        "print(torch.version.cuda) #11.3\n",
        "print(torch.backends.cudnn.version()) #8200\n",
        "print(torch.__version__) ## 1.11 + cu113\n"
      ],
      "metadata": {
        "id": "6HtGjj8m6VhB",
        "colab": {
          "base_uri": "https://localhost:8080/"
        },
        "outputId": "7938c077-9aef-4d19-d16e-a013992997b7"
      },
      "execution_count": 8,
      "outputs": [
        {
          "output_type": "stream",
          "name": "stdout",
          "text": [
            "11.3\n",
            "8200\n",
            "1.11.0+cu113\n"
          ]
        }
      ]
    },
    {
      "cell_type": "markdown",
      "source": [
        "## 1. MDFEND - 5domain"
      ],
      "metadata": {
        "id": "loqi71FA2pnC"
      }
    },
    {
      "cell_type": "code",
      "source": [
        "!python3 main.py --model_name mdfend --batchsize 32 --lr 0.001 --type_fusion 0"
      ],
      "metadata": {
        "colab": {
          "base_uri": "https://localhost:8080/"
        },
        "id": "vVoUDPKh2o_r",
        "outputId": "3d614f68-176e-4256-ece6-ea6b6f9e09b9"
      },
      "execution_count": 13,
      "outputs": [
        {
          "output_type": "stream",
          "name": "stdout",
          "text": [
            "type_fusion: 0; lr: 0.001; model name: mdfend; emb_type: bert; batchsize: 32; epoch: 50; gpu: 0; emb_dim: 768\n",
            "Special tokens have been added in the vocabulary, make sure the associated word embeddings are fine-tuned or trained.\n",
            "Special tokens have been added in the vocabulary, make sure the associated word embeddings are fine-tuned or trained.\n",
            "Special tokens have been added in the vocabulary, make sure the associated word embeddings are fine-tuned or trained.\n",
            "Some weights of the model checkpoint at vinai/phobert-base were not used when initializing RobertaModel: ['lm_head.layer_norm.bias', 'lm_head.layer_norm.weight', 'lm_head.dense.bias', 'lm_head.dense.weight', 'lm_head.decoder.weight', 'lm_head.bias', 'lm_head.decoder.bias']\n",
            "- This IS expected if you are initializing RobertaModel from the checkpoint of a model trained on another task or with another architecture (e.g. initializing a BertForSequenceClassification model from a BertForPreTraining model).\n",
            "- This IS NOT expected if you are initializing RobertaModel from the checkpoint of a model that you expect to be exactly identical (initializing a BertForSequenceClassification model from a BertForSequenceClassification model).\n",
            "100% 96/96 [00:19<00:00,  4.84it/s]\n",
            "100% 27/27 [00:04<00:00,  5.59it/s]\n",
            "5_domain_concat_type1 - VAL Epoch 1;  VAL_AUC 0.9331255236533662\n",
            "curent {'DISASTERS': {'precision': 0.9134, 'recall': 0.7124, 'fscore': 0.7578, 'auc': 0.9535, 'acc': 0.8676}, 'FINANCE': {'precision': 0.9909, 'recall': 0.875, 'fscore': 0.924, 'auc': 0.9861, 'acc': 0.9828}, 'POLITICS': {'precision': 1.0, 'recall': 1.0, 'fscore': 1.0, 'auc': 1.0, 'acc': 1.0}, 'SOCIETY': {'precision': 0.8853, 'recall': 0.6648, 'fscore': 0.7116, 'auc': 0.912, 'acc': 0.8821}, 'HEALTH': {'precision': 0.9688, 'recall': 0.75, 'fscore': 0.8172, 'auc': 1.0, 'acc': 0.9412}, 'metric': 0.9331255236533662, 'fscore': 0.7521756487025948, 'recall': 0.7009928017369527, 'precision': 0.912171149866982, 'acc': 0.8877314814814815}\n",
            "Max {'DISASTERS': {'precision': 0.9134, 'recall': 0.7124, 'fscore': 0.7578, 'auc': 0.9535, 'acc': 0.8676}, 'FINANCE': {'precision': 0.9909, 'recall': 0.875, 'fscore': 0.924, 'auc': 0.9861, 'acc': 0.9828}, 'POLITICS': {'precision': 1.0, 'recall': 1.0, 'fscore': 1.0, 'auc': 1.0, 'acc': 1.0}, 'SOCIETY': {'precision': 0.8853, 'recall': 0.6648, 'fscore': 0.7116, 'auc': 0.912, 'acc': 0.8821}, 'HEALTH': {'precision': 0.9688, 'recall': 0.75, 'fscore': 0.8172, 'auc': 1.0, 'acc': 0.9412}, 'metric': 0.9331255236533662, 'fscore': 0.7521756487025948, 'recall': 0.7009928017369527, 'precision': 0.912171149866982, 'acc': 0.8877314814814815}\n",
            "100% 96/96 [00:19<00:00,  4.86it/s]\n",
            "100% 27/27 [00:04<00:00,  5.58it/s]\n",
            "/usr/local/lib/python3.7/dist-packages/sklearn/metrics/_classification.py:1318: UndefinedMetricWarning: Precision is ill-defined and being set to 0.0 in labels with no predicted samples. Use `zero_division` parameter to control this behavior.\n",
            "  _warn_prf(average, modifier, msg_start, len(result))\n",
            "/usr/local/lib/python3.7/dist-packages/sklearn/metrics/_classification.py:1318: UndefinedMetricWarning: Precision is ill-defined and being set to 0.0 in labels with no predicted samples. Use `zero_division` parameter to control this behavior.\n",
            "  _warn_prf(average, modifier, msg_start, len(result))\n",
            "5_domain_concat_type1 - VAL Epoch 2;  VAL_AUC 0.9380985414283012\n",
            "curent {'DISASTERS': {'precision': 0.9206, 'recall': 0.7384, 'fscore': 0.7855, 'auc': 0.9697, 'acc': 0.8794}, 'FINANCE': {'precision': 0.4655, 'recall': 0.5, 'fscore': 0.4821, 'auc': 0.9352, 'acc': 0.931}, 'POLITICS': {'precision': 1.0, 'recall': 1.0, 'fscore': 1.0, 'auc': 1.0, 'acc': 1.0}, 'SOCIETY': {'precision': 0.834, 'recall': 0.5605, 'fscore': 0.568, 'auc': 0.9141, 'acc': 0.8491}, 'HEALTH': {'precision': 0.4412, 'recall': 0.5, 'fscore': 0.4688, 'auc': 1.0, 'acc': 0.8824}, 'metric': 0.9380985414283012, 'fscore': 0.6979125652421796, 'recall': 0.6539293146785106, 'precision': 0.904651383099659, 'acc': 0.8715277777777778}\n",
            "Max {'DISASTERS': {'precision': 0.9206, 'recall': 0.7384, 'fscore': 0.7855, 'auc': 0.9697, 'acc': 0.8794}, 'FINANCE': {'precision': 0.4655, 'recall': 0.5, 'fscore': 0.4821, 'auc': 0.9352, 'acc': 0.931}, 'POLITICS': {'precision': 1.0, 'recall': 1.0, 'fscore': 1.0, 'auc': 1.0, 'acc': 1.0}, 'SOCIETY': {'precision': 0.834, 'recall': 0.5605, 'fscore': 0.568, 'auc': 0.9141, 'acc': 0.8491}, 'HEALTH': {'precision': 0.4412, 'recall': 0.5, 'fscore': 0.4688, 'auc': 1.0, 'acc': 0.8824}, 'metric': 0.9380985414283012, 'fscore': 0.6979125652421796, 'recall': 0.6539293146785106, 'precision': 0.904651383099659, 'acc': 0.8715277777777778}\n",
            "100% 96/96 [00:19<00:00,  4.87it/s]\n",
            "100% 27/27 [00:04<00:00,  5.58it/s]\n",
            "5_domain_concat_type1 - VAL Epoch 3;  VAL_AUC 0.9349904053189668\n",
            "curent {'DISASTERS': {'precision': 0.8817, 'recall': 0.7502, 'fscore': 0.7902, 'auc': 0.9493, 'acc': 0.8765}, 'FINANCE': {'precision': 0.8152, 'recall': 0.7407, 'fscore': 0.772, 'auc': 0.9815, 'acc': 0.9483}, 'POLITICS': {'precision': 0.875, 'recall': 0.9773, 'fscore': 0.9169, 'auc': 0.9848, 'acc': 0.96}, 'SOCIETY': {'precision': 0.8737, 'recall': 0.7239, 'fscore': 0.7702, 'auc': 0.9255, 'acc': 0.8962}, 'HEALTH': {'precision': 0.9688, 'recall': 0.75, 'fscore': 0.8172, 'auc': 1.0, 'acc': 0.9412}, 'metric': 0.9349904053189668, 'fscore': 0.78650504655539, 'recall': 0.7423985801673889, 'precision': 0.8788296913719307, 'acc': 0.8946759259259259}\n",
            "Max {'DISASTERS': {'precision': 0.9206, 'recall': 0.7384, 'fscore': 0.7855, 'auc': 0.9697, 'acc': 0.8794}, 'FINANCE': {'precision': 0.4655, 'recall': 0.5, 'fscore': 0.4821, 'auc': 0.9352, 'acc': 0.931}, 'POLITICS': {'precision': 1.0, 'recall': 1.0, 'fscore': 1.0, 'auc': 1.0, 'acc': 1.0}, 'SOCIETY': {'precision': 0.834, 'recall': 0.5605, 'fscore': 0.568, 'auc': 0.9141, 'acc': 0.8491}, 'HEALTH': {'precision': 0.4412, 'recall': 0.5, 'fscore': 0.4688, 'auc': 1.0, 'acc': 0.8824}, 'metric': 0.9380985414283012, 'fscore': 0.6979125652421796, 'recall': 0.6539293146785106, 'precision': 0.904651383099659, 'acc': 0.8715277777777778}\n",
            "100% 96/96 [00:19<00:00,  4.87it/s]\n",
            "100% 27/27 [00:04<00:00,  5.56it/s]\n",
            "/usr/local/lib/python3.7/dist-packages/sklearn/metrics/_classification.py:1318: UndefinedMetricWarning: Precision is ill-defined and being set to 0.0 in labels with no predicted samples. Use `zero_division` parameter to control this behavior.\n",
            "  _warn_prf(average, modifier, msg_start, len(result))\n",
            "5_domain_concat_type1 - VAL Epoch 4;  VAL_AUC 0.9461436589518826\n",
            "curent {'DISASTERS': {'precision': 0.8851, 'recall': 0.6715, 'fscore': 0.7094, 'auc': 0.9657, 'acc': 0.8471}, 'FINANCE': {'precision': 0.9737, 'recall': 0.625, 'fscore': 0.6865, 'auc': 0.9907, 'acc': 0.9483}, 'POLITICS': {'precision': 1.0, 'recall': 1.0, 'fscore': 1.0, 'auc': 1.0, 'acc': 1.0}, 'SOCIETY': {'precision': 0.8911, 'recall': 0.638, 'fscore': 0.68, 'auc': 0.9197, 'acc': 0.875}, 'HEALTH': {'precision': 0.4412, 'recall': 0.5, 'fscore': 0.4688, 'auc': 1.0, 'acc': 0.8824}, 'metric': 0.9461436589518826, 'fscore': 0.7042863543585404, 'recall': 0.6595915278516022, 'precision': 0.8981233846499607, 'acc': 0.8726851851851852}\n",
            "Max {'DISASTERS': {'precision': 0.8851, 'recall': 0.6715, 'fscore': 0.7094, 'auc': 0.9657, 'acc': 0.8471}, 'FINANCE': {'precision': 0.9737, 'recall': 0.625, 'fscore': 0.6865, 'auc': 0.9907, 'acc': 0.9483}, 'POLITICS': {'precision': 1.0, 'recall': 1.0, 'fscore': 1.0, 'auc': 1.0, 'acc': 1.0}, 'SOCIETY': {'precision': 0.8911, 'recall': 0.638, 'fscore': 0.68, 'auc': 0.9197, 'acc': 0.875}, 'HEALTH': {'precision': 0.4412, 'recall': 0.5, 'fscore': 0.4688, 'auc': 1.0, 'acc': 0.8824}, 'metric': 0.9461436589518826, 'fscore': 0.7042863543585404, 'recall': 0.6595915278516022, 'precision': 0.8981233846499607, 'acc': 0.8726851851851852}\n",
            "100% 96/96 [00:19<00:00,  4.86it/s]\n",
            "100% 27/27 [00:04<00:00,  5.59it/s]\n",
            "5_domain_concat_type1 - VAL Epoch 5;  VAL_AUC 0.9475580861088839\n",
            "curent {'DISASTERS': {'precision': 0.9112, 'recall': 0.8041, 'fscore': 0.8421, 'auc': 0.9642, 'acc': 0.9029}, 'FINANCE': {'precision': 0.8152, 'recall': 0.7407, 'fscore': 0.772, 'auc': 0.9861, 'acc': 0.9483}, 'POLITICS': {'precision': 0.9783, 'recall': 0.8333, 'fscore': 0.8889, 'auc': 1.0, 'acc': 0.96}, 'SOCIETY': {'precision': 0.832, 'recall': 0.7562, 'fscore': 0.786, 'auc': 0.926, 'acc': 0.8939}, 'HEALTH': {'precision': 0.8333, 'recall': 0.9667, 'fscore': 0.8828, 'auc': 1.0, 'acc': 0.9412}, 'metric': 0.9475580861088839, 'fscore': 0.8172807672414013, 'recall': 0.7827412859575311, 'precision': 0.8726253799392097, 'acc': 0.9039351851851852}\n",
            "Max {'DISASTERS': {'precision': 0.9112, 'recall': 0.8041, 'fscore': 0.8421, 'auc': 0.9642, 'acc': 0.9029}, 'FINANCE': {'precision': 0.8152, 'recall': 0.7407, 'fscore': 0.772, 'auc': 0.9861, 'acc': 0.9483}, 'POLITICS': {'precision': 0.9783, 'recall': 0.8333, 'fscore': 0.8889, 'auc': 1.0, 'acc': 0.96}, 'SOCIETY': {'precision': 0.832, 'recall': 0.7562, 'fscore': 0.786, 'auc': 0.926, 'acc': 0.8939}, 'HEALTH': {'precision': 0.8333, 'recall': 0.9667, 'fscore': 0.8828, 'auc': 1.0, 'acc': 0.9412}, 'metric': 0.9475580861088839, 'fscore': 0.8172807672414013, 'recall': 0.7827412859575311, 'precision': 0.8726253799392097, 'acc': 0.9039351851851852}\n",
            "100% 96/96 [00:19<00:00,  4.86it/s]\n",
            "100% 27/27 [00:04<00:00,  5.59it/s]\n",
            "5_domain_concat_type1 - VAL Epoch 6;  VAL_AUC 0.9492517950612168\n",
            "curent {'DISASTERS': {'precision': 0.9018, 'recall': 0.7781, 'fscore': 0.8187, 'auc': 0.9681, 'acc': 0.8912}, 'FINANCE': {'precision': 0.8657, 'recall': 0.8657, 'fscore': 0.8657, 'auc': 0.9954, 'acc': 0.9655}, 'POLITICS': {'precision': 1.0, 'recall': 1.0, 'fscore': 1.0, 'auc': 1.0, 'acc': 1.0}, 'SOCIETY': {'precision': 0.8593, 'recall': 0.7999, 'fscore': 0.8252, 'auc': 0.9266, 'acc': 0.9104}, 'HEALTH': {'precision': 0.8333, 'recall': 0.9667, 'fscore': 0.8828, 'auc': 0.9333, 'acc': 0.9412}, 'metric': 0.9492517950612168, 'fscore': 0.8298319327731092, 'recall': 0.7961873530392165, 'precision': 0.8816857258953967, 'acc': 0.9097222222222222}\n",
            "Max {'DISASTERS': {'precision': 0.9018, 'recall': 0.7781, 'fscore': 0.8187, 'auc': 0.9681, 'acc': 0.8912}, 'FINANCE': {'precision': 0.8657, 'recall': 0.8657, 'fscore': 0.8657, 'auc': 0.9954, 'acc': 0.9655}, 'POLITICS': {'precision': 1.0, 'recall': 1.0, 'fscore': 1.0, 'auc': 1.0, 'acc': 1.0}, 'SOCIETY': {'precision': 0.8593, 'recall': 0.7999, 'fscore': 0.8252, 'auc': 0.9266, 'acc': 0.9104}, 'HEALTH': {'precision': 0.8333, 'recall': 0.9667, 'fscore': 0.8828, 'auc': 0.9333, 'acc': 0.9412}, 'metric': 0.9492517950612168, 'fscore': 0.8298319327731092, 'recall': 0.7961873530392165, 'precision': 0.8816857258953967, 'acc': 0.9097222222222222}\n",
            "100% 96/96 [00:19<00:00,  4.86it/s]\n",
            "100% 27/27 [00:04<00:00,  5.59it/s]\n",
            "/usr/local/lib/python3.7/dist-packages/sklearn/metrics/_classification.py:1318: UndefinedMetricWarning: Precision is ill-defined and being set to 0.0 in labels with no predicted samples. Use `zero_division` parameter to control this behavior.\n",
            "  _warn_prf(average, modifier, msg_start, len(result))\n",
            "5_domain_concat_type1 - VAL Epoch 7;  VAL_AUC 0.9492698132415607\n",
            "curent {'DISASTERS': {'precision': 0.9277, 'recall': 0.7643, 'fscore': 0.8116, 'auc': 0.9716, 'acc': 0.8912}, 'FINANCE': {'precision': 0.7232, 'recall': 0.6157, 'fscore': 0.6485, 'auc': 0.9769, 'acc': 0.931}, 'POLITICS': {'precision': 1.0, 'recall': 1.0, 'fscore': 1.0, 'auc': 1.0, 'acc': 1.0}, 'SOCIETY': {'precision': 0.8447, 'recall': 0.6873, 'fscore': 0.7305, 'auc': 0.9246, 'acc': 0.8821}, 'HEALTH': {'precision': 0.4412, 'recall': 0.5, 'fscore': 0.4688, 'auc': 0.9333, 'acc': 0.8824}, 'metric': 0.9492698132415607, 'fscore': 0.7742103177836912, 'recall': 0.7261191542266147, 'precision': 0.891413511321814, 'acc': 0.8923611111111112}\n",
            "Max {'DISASTERS': {'precision': 0.9277, 'recall': 0.7643, 'fscore': 0.8116, 'auc': 0.9716, 'acc': 0.8912}, 'FINANCE': {'precision': 0.7232, 'recall': 0.6157, 'fscore': 0.6485, 'auc': 0.9769, 'acc': 0.931}, 'POLITICS': {'precision': 1.0, 'recall': 1.0, 'fscore': 1.0, 'auc': 1.0, 'acc': 1.0}, 'SOCIETY': {'precision': 0.8447, 'recall': 0.6873, 'fscore': 0.7305, 'auc': 0.9246, 'acc': 0.8821}, 'HEALTH': {'precision': 0.4412, 'recall': 0.5, 'fscore': 0.4688, 'auc': 0.9333, 'acc': 0.8824}, 'metric': 0.9492698132415607, 'fscore': 0.7742103177836912, 'recall': 0.7261191542266147, 'precision': 0.891413511321814, 'acc': 0.8923611111111112}\n",
            "100% 96/96 [00:19<00:00,  4.86it/s]\n",
            "100% 27/27 [00:04<00:00,  5.58it/s]\n",
            "/usr/local/lib/python3.7/dist-packages/sklearn/metrics/_classification.py:1318: UndefinedMetricWarning: Precision is ill-defined and being set to 0.0 in labels with no predicted samples. Use `zero_division` parameter to control this behavior.\n",
            "  _warn_prf(average, modifier, msg_start, len(result))\n",
            "5_domain_concat_type1 - VAL Epoch 8;  VAL_AUC 0.9494319768646564\n",
            "curent {'DISASTERS': {'precision': 0.9058, 'recall': 0.73, 'fscore': 0.775, 'auc': 0.9738, 'acc': 0.8735}, 'FINANCE': {'precision': 0.9737, 'recall': 0.625, 'fscore': 0.6865, 'auc': 0.9676, 'acc': 0.9483}, 'POLITICS': {'precision': 1.0, 'recall': 1.0, 'fscore': 1.0, 'auc': 1.0, 'acc': 1.0}, 'SOCIETY': {'precision': 0.8883, 'recall': 0.6718, 'fscore': 0.7198, 'auc': 0.9241, 'acc': 0.8844}, 'HEALTH': {'precision': 0.4412, 'recall': 0.5, 'fscore': 0.4688, 'auc': 0.9667, 'acc': 0.8824}, 'metric': 0.9494319768646564, 'fscore': 0.7540318201962275, 'recall': 0.703470301534248, 'precision': 0.9063512054695935, 'acc': 0.8877314814814815}\n",
            "Max {'DISASTERS': {'precision': 0.9058, 'recall': 0.73, 'fscore': 0.775, 'auc': 0.9738, 'acc': 0.8735}, 'FINANCE': {'precision': 0.9737, 'recall': 0.625, 'fscore': 0.6865, 'auc': 0.9676, 'acc': 0.9483}, 'POLITICS': {'precision': 1.0, 'recall': 1.0, 'fscore': 1.0, 'auc': 1.0, 'acc': 1.0}, 'SOCIETY': {'precision': 0.8883, 'recall': 0.6718, 'fscore': 0.7198, 'auc': 0.9241, 'acc': 0.8844}, 'HEALTH': {'precision': 0.4412, 'recall': 0.5, 'fscore': 0.4688, 'auc': 0.9667, 'acc': 0.8824}, 'metric': 0.9494319768646564, 'fscore': 0.7540318201962275, 'recall': 0.703470301534248, 'precision': 0.9063512054695935, 'acc': 0.8877314814814815}\n",
            "100% 96/96 [00:19<00:00,  4.86it/s]\n",
            "100% 27/27 [00:04<00:00,  5.56it/s]\n",
            "/usr/local/lib/python3.7/dist-packages/sklearn/metrics/_classification.py:1318: UndefinedMetricWarning: Precision is ill-defined and being set to 0.0 in labels with no predicted samples. Use `zero_division` parameter to control this behavior.\n",
            "  _warn_prf(average, modifier, msg_start, len(result))\n",
            "5_domain_concat_type1 - VAL Epoch 9;  VAL_AUC 0.9360805052297768\n",
            "curent {'DISASTERS': {'precision': 0.9072, 'recall': 0.8152, 'fscore': 0.8496, 'auc': 0.9605, 'acc': 0.9059}, 'FINANCE': {'precision': 0.9737, 'recall': 0.625, 'fscore': 0.6865, 'auc': 0.9815, 'acc': 0.9483}, 'POLITICS': {'precision': 1.0, 'recall': 1.0, 'fscore': 1.0, 'auc': 1.0, 'acc': 1.0}, 'SOCIETY': {'precision': 0.8582, 'recall': 0.6155, 'fscore': 0.6492, 'auc': 0.9176, 'acc': 0.8656}, 'HEALTH': {'precision': 0.4412, 'recall': 0.5, 'fscore': 0.4688, 'auc': 0.8667, 'acc': 0.8824}, 'metric': 0.9360805052297768, 'fscore': 0.769346117144545, 'recall': 0.7204569410535231, 'precision': 0.8945900185439006, 'acc': 0.8912037037037037}\n",
            "Max {'DISASTERS': {'precision': 0.9058, 'recall': 0.73, 'fscore': 0.775, 'auc': 0.9738, 'acc': 0.8735}, 'FINANCE': {'precision': 0.9737, 'recall': 0.625, 'fscore': 0.6865, 'auc': 0.9676, 'acc': 0.9483}, 'POLITICS': {'precision': 1.0, 'recall': 1.0, 'fscore': 1.0, 'auc': 1.0, 'acc': 1.0}, 'SOCIETY': {'precision': 0.8883, 'recall': 0.6718, 'fscore': 0.7198, 'auc': 0.9241, 'acc': 0.8844}, 'HEALTH': {'precision': 0.4412, 'recall': 0.5, 'fscore': 0.4688, 'auc': 0.9667, 'acc': 0.8824}, 'metric': 0.9494319768646564, 'fscore': 0.7540318201962275, 'recall': 0.703470301534248, 'precision': 0.9063512054695935, 'acc': 0.8877314814814815}\n",
            "100% 96/96 [00:19<00:00,  4.87it/s]\n",
            "100% 27/27 [00:04<00:00,  5.59it/s]\n",
            "/usr/local/lib/python3.7/dist-packages/sklearn/metrics/_classification.py:1318: UndefinedMetricWarning: Precision is ill-defined and being set to 0.0 in labels with no predicted samples. Use `zero_division` parameter to control this behavior.\n",
            "  _warn_prf(average, modifier, msg_start, len(result))\n",
            "5_domain_concat_type1 - VAL Epoch 10;  VAL_AUC 0.9300263966342038\n",
            "curent {'DISASTERS': {'precision': 0.8892, 'recall': 0.6345, 'fscore': 0.6631, 'auc': 0.9667, 'acc': 0.8324}, 'FINANCE': {'precision': 0.9737, 'recall': 0.625, 'fscore': 0.6865, 'auc': 0.9861, 'acc': 0.9483}, 'POLITICS': {'precision': 0.9583, 'recall': 0.6667, 'fscore': 0.7283, 'auc': 1.0, 'acc': 0.92}, 'SOCIETY': {'precision': 0.8528, 'recall': 0.6816, 'fscore': 0.726, 'auc': 0.9023, 'acc': 0.8821}, 'HEALTH': {'precision': 0.4412, 'recall': 0.5, 'fscore': 0.4688, 'auc': 0.9, 'acc': 0.8824}, 'metric': 0.9300263966342038, 'fscore': 0.6959962468672453, 'recall': 0.6542851737403039, 'precision': 0.8723015717732994, 'acc': 0.8680555555555556}\n",
            "Max {'DISASTERS': {'precision': 0.9058, 'recall': 0.73, 'fscore': 0.775, 'auc': 0.9738, 'acc': 0.8735}, 'FINANCE': {'precision': 0.9737, 'recall': 0.625, 'fscore': 0.6865, 'auc': 0.9676, 'acc': 0.9483}, 'POLITICS': {'precision': 1.0, 'recall': 1.0, 'fscore': 1.0, 'auc': 1.0, 'acc': 1.0}, 'SOCIETY': {'precision': 0.8883, 'recall': 0.6718, 'fscore': 0.7198, 'auc': 0.9241, 'acc': 0.8844}, 'HEALTH': {'precision': 0.4412, 'recall': 0.5, 'fscore': 0.4688, 'auc': 0.9667, 'acc': 0.8824}, 'metric': 0.9494319768646564, 'fscore': 0.7540318201962275, 'recall': 0.703470301534248, 'precision': 0.9063512054695935, 'acc': 0.8877314814814815}\n",
            "100% 96/96 [00:19<00:00,  4.87it/s]\n",
            "100% 27/27 [00:04<00:00,  5.58it/s]\n",
            "/usr/local/lib/python3.7/dist-packages/sklearn/metrics/_classification.py:1318: UndefinedMetricWarning: Precision is ill-defined and being set to 0.0 in labels with no predicted samples. Use `zero_division` parameter to control this behavior.\n",
            "  _warn_prf(average, modifier, msg_start, len(result))\n",
            "5_domain_concat_type1 - VAL Epoch 11;  VAL_AUC 0.9462787953044622\n",
            "curent {'DISASTERS': {'precision': 0.8982, 'recall': 0.741, 'fscore': 0.7847, 'auc': 0.9724, 'acc': 0.8765}, 'FINANCE': {'precision': 0.9737, 'recall': 0.625, 'fscore': 0.6865, 'auc': 0.9676, 'acc': 0.9483}, 'POLITICS': {'precision': 0.9583, 'recall': 0.6667, 'fscore': 0.7283, 'auc': 0.9848, 'acc': 0.92}, 'SOCIETY': {'precision': 0.8501, 'recall': 0.6549, 'fscore': 0.6969, 'auc': 0.9159, 'acc': 0.875}, 'HEALTH': {'precision': 0.4412, 'recall': 0.5, 'fscore': 0.4688, 'auc': 1.0, 'acc': 0.8824}, 'metric': 0.9462787953044622, 'fscore': 0.7423157894736843, 'recall': 0.6949792340471537, 'precision': 0.8843933715787791, 'acc': 0.8819444444444444}\n",
            "Max {'DISASTERS': {'precision': 0.9058, 'recall': 0.73, 'fscore': 0.775, 'auc': 0.9738, 'acc': 0.8735}, 'FINANCE': {'precision': 0.9737, 'recall': 0.625, 'fscore': 0.6865, 'auc': 0.9676, 'acc': 0.9483}, 'POLITICS': {'precision': 1.0, 'recall': 1.0, 'fscore': 1.0, 'auc': 1.0, 'acc': 1.0}, 'SOCIETY': {'precision': 0.8883, 'recall': 0.6718, 'fscore': 0.7198, 'auc': 0.9241, 'acc': 0.8844}, 'HEALTH': {'precision': 0.4412, 'recall': 0.5, 'fscore': 0.4688, 'auc': 0.9667, 'acc': 0.8824}, 'metric': 0.9494319768646564, 'fscore': 0.7540318201962275, 'recall': 0.703470301534248, 'precision': 0.9063512054695935, 'acc': 0.8877314814814815}\n",
            "100% 13/13 [00:02<00:00,  5.34it/s]\n",
            "/usr/local/lib/python3.7/dist-packages/sklearn/metrics/_classification.py:1318: UndefinedMetricWarning: Precision is ill-defined and being set to 0.0 in labels with no predicted samples. Use `zero_division` parameter to control this behavior.\n",
            "  _warn_prf(average, modifier, msg_start, len(result))\n",
            "{'DISASTERS': {'precision': 0.9281, 'recall': 0.7308, 'fscore': 0.777, 'auc': 0.9616, 'acc': 0.872}, 'FINANCE': {'precision': 0.4844, 'recall': 0.4844, 'fscore': 0.4844, 'auc': 0.9688, 'acc': 0.9394}, 'POLITICS': {'precision': 0.35, 'recall': 0.4375, 'fscore': 0.3889, 'auc': 0.75, 'acc': 0.6364}, 'SOCIETY': {'precision': 0.8737, 'recall': 0.6099, 'fscore': 0.6441, 'auc': 0.8856, 'acc': 0.8724}, 'HEALTH': {'precision': 0.4167, 'recall': 0.5, 'fscore': 0.4545, 'auc': 1.0, 'acc': 0.8333}, 'metric': 0.9253482972136223, 'fscore': 0.7032967032967034, 'recall': 0.660061919504644, 'precision': 0.8807069219440353, 'acc': 0.8701923076923077}\n"
          ]
        }
      ]
    },
    {
      "cell_type": "markdown",
      "source": [
        "## 2. v3MFND - 5domain"
      ],
      "metadata": {
        "id": "NgpqYkWz25zy"
      }
    },
    {
      "cell_type": "code",
      "source": [
        "## concat - lr: 0.01\n",
        "!python3 main.py --model_name mdfend --batchsize 32 --lr 0.01 --type_fusion 1"
      ],
      "metadata": {
        "colab": {
          "base_uri": "https://localhost:8080/"
        },
        "id": "6ZeWeeU024O6",
        "outputId": "e8c76e60-7cf0-4c08-e7ea-a7f3d944abe8"
      },
      "execution_count": 14,
      "outputs": [
        {
          "output_type": "stream",
          "name": "stdout",
          "text": [
            "type_fusion: 1; lr: 0.01; model name: mdfend; emb_type: bert; batchsize: 32; epoch: 50; gpu: 0; emb_dim: 768\n",
            "Special tokens have been added in the vocabulary, make sure the associated word embeddings are fine-tuned or trained.\n",
            "Special tokens have been added in the vocabulary, make sure the associated word embeddings are fine-tuned or trained.\n",
            "Special tokens have been added in the vocabulary, make sure the associated word embeddings are fine-tuned or trained.\n",
            "Some weights of the model checkpoint at vinai/phobert-base were not used when initializing RobertaModel: ['lm_head.dense.bias', 'lm_head.decoder.weight', 'lm_head.layer_norm.weight', 'lm_head.decoder.bias', 'lm_head.layer_norm.bias', 'lm_head.bias', 'lm_head.dense.weight']\n",
            "- This IS expected if you are initializing RobertaModel from the checkpoint of a model trained on another task or with another architecture (e.g. initializing a BertForSequenceClassification model from a BertForPreTraining model).\n",
            "- This IS NOT expected if you are initializing RobertaModel from the checkpoint of a model that you expect to be exactly identical (initializing a BertForSequenceClassification model from a BertForSequenceClassification model).\n",
            "100% 96/96 [00:20<00:00,  4.77it/s]\n",
            "100% 27/27 [00:04<00:00,  5.58it/s]\n",
            "5_domain_concat_type1 - VAL Epoch 1;  VAL_AUC 0.9313777601600015\n",
            "curent {'DISASTERS': {'precision': 0.8544, 'recall': 0.7621, 'fscore': 0.7943, 'auc': 0.9179, 'acc': 0.8735}, 'FINANCE': {'precision': 0.8152, 'recall': 0.7407, 'fscore': 0.772, 'auc': 0.9861, 'acc': 0.9483}, 'POLITICS': {'precision': 0.9783, 'recall': 0.8333, 'fscore': 0.8889, 'auc': 0.9697, 'acc': 0.96}, 'SOCIETY': {'precision': 0.8727, 'recall': 0.7436, 'fscore': 0.7872, 'auc': 0.9374, 'acc': 0.9009}, 'HEALTH': {'precision': 0.8333, 'recall': 0.9667, 'fscore': 0.8828, 'auc': 1.0, 'acc': 0.9412}, 'metric': 0.9313777601600015, 'fscore': 0.7962691259693985, 'recall': 0.7579707925296624, 'precision': 0.8653151831392011, 'acc': 0.8958333333333334}\n",
            "Max {'DISASTERS': {'precision': 0.8544, 'recall': 0.7621, 'fscore': 0.7943, 'auc': 0.9179, 'acc': 0.8735}, 'FINANCE': {'precision': 0.8152, 'recall': 0.7407, 'fscore': 0.772, 'auc': 0.9861, 'acc': 0.9483}, 'POLITICS': {'precision': 0.9783, 'recall': 0.8333, 'fscore': 0.8889, 'auc': 0.9697, 'acc': 0.96}, 'SOCIETY': {'precision': 0.8727, 'recall': 0.7436, 'fscore': 0.7872, 'auc': 0.9374, 'acc': 0.9009}, 'HEALTH': {'precision': 0.8333, 'recall': 0.9667, 'fscore': 0.8828, 'auc': 1.0, 'acc': 0.9412}, 'metric': 0.9313777601600015, 'fscore': 0.7962691259693985, 'recall': 0.7579707925296624, 'precision': 0.8653151831392011, 'acc': 0.8958333333333334}\n",
            "100% 96/96 [00:20<00:00,  4.78it/s]\n",
            "100% 27/27 [00:04<00:00,  5.58it/s]\n",
            "5_domain_concat_type1 - VAL Epoch 2;  VAL_AUC 0.9372156505914467\n",
            "curent {'DISASTERS': {'precision': 0.9161, 'recall': 0.7624, 'fscore': 0.8077, 'auc': 0.9497, 'acc': 0.8882}, 'FINANCE': {'precision': 0.8152, 'recall': 0.7407, 'fscore': 0.772, 'auc': 0.9259, 'acc': 0.9483}, 'POLITICS': {'precision': 0.8106, 'recall': 0.8106, 'fscore': 0.8106, 'auc': 0.9848, 'acc': 0.92}, 'SOCIETY': {'precision': 0.8543, 'recall': 0.6619, 'fscore': 0.7052, 'auc': 0.9242, 'acc': 0.8774}, 'HEALTH': {'precision': 1.0, 'recall': 1.0, 'fscore': 1.0, 'auc': 1.0, 'acc': 1.0}, 'metric': 0.9372156505914467, 'fscore': 0.7677202455237756, 'recall': 0.7197497274750223, 'precision': 0.8889030612244897, 'acc': 0.8900462962962963}\n",
            "Max {'DISASTERS': {'precision': 0.9161, 'recall': 0.7624, 'fscore': 0.8077, 'auc': 0.9497, 'acc': 0.8882}, 'FINANCE': {'precision': 0.8152, 'recall': 0.7407, 'fscore': 0.772, 'auc': 0.9259, 'acc': 0.9483}, 'POLITICS': {'precision': 0.8106, 'recall': 0.8106, 'fscore': 0.8106, 'auc': 0.9848, 'acc': 0.92}, 'SOCIETY': {'precision': 0.8543, 'recall': 0.6619, 'fscore': 0.7052, 'auc': 0.9242, 'acc': 0.8774}, 'HEALTH': {'precision': 1.0, 'recall': 1.0, 'fscore': 1.0, 'auc': 1.0, 'acc': 1.0}, 'metric': 0.9372156505914467, 'fscore': 0.7677202455237756, 'recall': 0.7197497274750223, 'precision': 0.8889030612244897, 'acc': 0.8900462962962963}\n",
            "100% 96/96 [00:20<00:00,  4.79it/s]\n",
            "100% 27/27 [00:04<00:00,  5.58it/s]\n",
            "5_domain_concat_type1 - VAL Epoch 3;  VAL_AUC 0.9423147956287895\n",
            "curent {'DISASTERS': {'precision': 0.8719, 'recall': 0.7483, 'fscore': 0.7866, 'auc': 0.9492, 'acc': 0.8735}, 'FINANCE': {'precision': 0.8152, 'recall': 0.7407, 'fscore': 0.772, 'auc': 0.9444, 'acc': 0.9483}, 'POLITICS': {'precision': 0.9783, 'recall': 0.8333, 'fscore': 0.8889, 'auc': 1.0, 'acc': 0.96}, 'SOCIETY': {'precision': 0.8768, 'recall': 0.7309, 'fscore': 0.7771, 'auc': 0.9334, 'acc': 0.8986}, 'HEALTH': {'precision': 1.0, 'recall': 1.0, 'fscore': 1.0, 'auc': 1.0, 'acc': 1.0}, 'metric': 0.9423147956287895, 'fscore': 0.789553450608931, 'recall': 0.7455832935431851, 'precision': 0.8801723777247814, 'acc': 0.8958333333333334}\n",
            "Max {'DISASTERS': {'precision': 0.8719, 'recall': 0.7483, 'fscore': 0.7866, 'auc': 0.9492, 'acc': 0.8735}, 'FINANCE': {'precision': 0.8152, 'recall': 0.7407, 'fscore': 0.772, 'auc': 0.9444, 'acc': 0.9483}, 'POLITICS': {'precision': 0.9783, 'recall': 0.8333, 'fscore': 0.8889, 'auc': 1.0, 'acc': 0.96}, 'SOCIETY': {'precision': 0.8768, 'recall': 0.7309, 'fscore': 0.7771, 'auc': 0.9334, 'acc': 0.8986}, 'HEALTH': {'precision': 1.0, 'recall': 1.0, 'fscore': 1.0, 'auc': 1.0, 'acc': 1.0}, 'metric': 0.9423147956287895, 'fscore': 0.789553450608931, 'recall': 0.7455832935431851, 'precision': 0.8801723777247814, 'acc': 0.8958333333333334}\n",
            "100% 96/96 [00:20<00:00,  4.79it/s]\n",
            "100% 27/27 [00:04<00:00,  5.59it/s]\n",
            "5_domain_concat_type1 - VAL Epoch 4;  VAL_AUC 0.9267380787214301\n",
            "curent {'DISASTERS': {'precision': 0.8317, 'recall': 0.6704, 'fscore': 0.7039, 'auc': 0.9474, 'acc': 0.8382}, 'FINANCE': {'precision': 0.8152, 'recall': 0.7407, 'fscore': 0.772, 'auc': 0.9306, 'acc': 0.9483}, 'POLITICS': {'precision': 0.75, 'recall': 0.9318, 'fscore': 0.7967, 'auc': 0.8939, 'acc': 0.88}, 'SOCIETY': {'precision': 0.8786, 'recall': 0.6507, 'fscore': 0.6946, 'auc': 0.9042, 'acc': 0.8774}, 'HEALTH': {'precision': 1.0, 'recall': 1.0, 'fscore': 1.0, 'auc': 1.0, 'acc': 1.0}, 'metric': 0.9267380787214301, 'fscore': 0.71345974930076, 'recall': 0.672334885899873, 'precision': 0.8441705649514214, 'acc': 0.8692129629629629}\n",
            "Max {'DISASTERS': {'precision': 0.8719, 'recall': 0.7483, 'fscore': 0.7866, 'auc': 0.9492, 'acc': 0.8735}, 'FINANCE': {'precision': 0.8152, 'recall': 0.7407, 'fscore': 0.772, 'auc': 0.9444, 'acc': 0.9483}, 'POLITICS': {'precision': 0.9783, 'recall': 0.8333, 'fscore': 0.8889, 'auc': 1.0, 'acc': 0.96}, 'SOCIETY': {'precision': 0.8768, 'recall': 0.7309, 'fscore': 0.7771, 'auc': 0.9334, 'acc': 0.8986}, 'HEALTH': {'precision': 1.0, 'recall': 1.0, 'fscore': 1.0, 'auc': 1.0, 'acc': 1.0}, 'metric': 0.9423147956287895, 'fscore': 0.789553450608931, 'recall': 0.7455832935431851, 'precision': 0.8801723777247814, 'acc': 0.8958333333333334}\n",
            "100% 96/96 [00:20<00:00,  4.80it/s]\n",
            "100% 27/27 [00:04<00:00,  5.57it/s]\n",
            "5_domain_concat_type1 - VAL Epoch 5;  VAL_AUC 0.9401165776268254\n",
            "curent {'DISASTERS': {'precision': 0.9326, 'recall': 0.7338, 'fscore': 0.7824, 'auc': 0.948, 'acc': 0.8794}, 'FINANCE': {'precision': 0.9737, 'recall': 0.625, 'fscore': 0.6865, 'auc': 0.9537, 'acc': 0.9483}, 'POLITICS': {'precision': 0.9783, 'recall': 0.8333, 'fscore': 0.8889, 'auc': 1.0, 'acc': 0.96}, 'SOCIETY': {'precision': 0.905, 'recall': 0.6732, 'fscore': 0.7231, 'auc': 0.9294, 'acc': 0.8868}, 'HEALTH': {'precision': 0.9688, 'recall': 0.75, 'fscore': 0.8172, 'auc': 1.0, 'acc': 0.9412}, 'metric': 0.9401165776268254, 'fscore': 0.7589285714285714, 'recall': 0.7055919422697502, 'precision': 0.9273581902282815, 'acc': 0.8912037037037037}\n",
            "Max {'DISASTERS': {'precision': 0.8719, 'recall': 0.7483, 'fscore': 0.7866, 'auc': 0.9492, 'acc': 0.8735}, 'FINANCE': {'precision': 0.8152, 'recall': 0.7407, 'fscore': 0.772, 'auc': 0.9444, 'acc': 0.9483}, 'POLITICS': {'precision': 0.9783, 'recall': 0.8333, 'fscore': 0.8889, 'auc': 1.0, 'acc': 0.96}, 'SOCIETY': {'precision': 0.8768, 'recall': 0.7309, 'fscore': 0.7771, 'auc': 0.9334, 'acc': 0.8986}, 'HEALTH': {'precision': 1.0, 'recall': 1.0, 'fscore': 1.0, 'auc': 1.0, 'acc': 1.0}, 'metric': 0.9423147956287895, 'fscore': 0.789553450608931, 'recall': 0.7455832935431851, 'precision': 0.8801723777247814, 'acc': 0.8958333333333334}\n",
            "100% 96/96 [00:20<00:00,  4.79it/s]\n",
            "100% 27/27 [00:04<00:00,  5.60it/s]\n",
            "5_domain_concat_type1 - VAL Epoch 6;  VAL_AUC 0.9464589771079018\n",
            "curent {'DISASTERS': {'precision': 0.9028, 'recall': 0.754, 'fscore': 0.7976, 'auc': 0.9584, 'acc': 0.8824}, 'FINANCE': {'precision': 0.9821, 'recall': 0.75, 'fscore': 0.8242, 'auc': 0.9306, 'acc': 0.9655}, 'POLITICS': {'precision': 1.0, 'recall': 1.0, 'fscore': 1.0, 'auc': 1.0, 'acc': 1.0}, 'SOCIETY': {'precision': 0.8712, 'recall': 0.6366, 'fscore': 0.677, 'auc': 0.9307, 'acc': 0.8726}, 'HEALTH': {'precision': 1.0, 'recall': 1.0, 'fscore': 1.0, 'auc': 1.0, 'acc': 1.0}, 'metric': 0.9464589771079018, 'fscore': 0.7592616241945782, 'recall': 0.7091325147073397, 'precision': 0.902014096946816, 'acc': 0.8888888888888888}\n",
            "Max {'DISASTERS': {'precision': 0.9028, 'recall': 0.754, 'fscore': 0.7976, 'auc': 0.9584, 'acc': 0.8824}, 'FINANCE': {'precision': 0.9821, 'recall': 0.75, 'fscore': 0.8242, 'auc': 0.9306, 'acc': 0.9655}, 'POLITICS': {'precision': 1.0, 'recall': 1.0, 'fscore': 1.0, 'auc': 1.0, 'acc': 1.0}, 'SOCIETY': {'precision': 0.8712, 'recall': 0.6366, 'fscore': 0.677, 'auc': 0.9307, 'acc': 0.8726}, 'HEALTH': {'precision': 1.0, 'recall': 1.0, 'fscore': 1.0, 'auc': 1.0, 'acc': 1.0}, 'metric': 0.9464589771079018, 'fscore': 0.7592616241945782, 'recall': 0.7091325147073397, 'precision': 0.902014096946816, 'acc': 0.8888888888888888}\n",
            "100% 96/96 [00:20<00:00,  4.79it/s]\n",
            "100% 27/27 [00:04<00:00,  5.58it/s]\n",
            "5_domain_concat_type1 - VAL Epoch 7;  VAL_AUC 0.9421165956450058\n",
            "curent {'DISASTERS': {'precision': 0.8923, 'recall': 0.7762, 'fscore': 0.8149, 'auc': 0.9544, 'acc': 0.8882}, 'FINANCE': {'precision': 0.9821, 'recall': 0.75, 'fscore': 0.8242, 'auc': 0.912, 'acc': 0.9655}, 'POLITICS': {'precision': 1.0, 'recall': 1.0, 'fscore': 1.0, 'auc': 1.0, 'acc': 1.0}, 'SOCIETY': {'precision': 0.885, 'recall': 0.7253, 'fscore': 0.7737, 'auc': 0.9283, 'acc': 0.8986}, 'HEALTH': {'precision': 1.0, 'recall': 1.0, 'fscore': 1.0, 'auc': 1.0, 'acc': 1.0}, 'metric': 0.9421165956450058, 'fscore': 0.8065638596595339, 'recall': 0.7604437877818719, 'precision': 0.8994059132357004, 'acc': 0.9039351851851852}\n",
            "Max {'DISASTERS': {'precision': 0.9028, 'recall': 0.754, 'fscore': 0.7976, 'auc': 0.9584, 'acc': 0.8824}, 'FINANCE': {'precision': 0.9821, 'recall': 0.75, 'fscore': 0.8242, 'auc': 0.9306, 'acc': 0.9655}, 'POLITICS': {'precision': 1.0, 'recall': 1.0, 'fscore': 1.0, 'auc': 1.0, 'acc': 1.0}, 'SOCIETY': {'precision': 0.8712, 'recall': 0.6366, 'fscore': 0.677, 'auc': 0.9307, 'acc': 0.8726}, 'HEALTH': {'precision': 1.0, 'recall': 1.0, 'fscore': 1.0, 'auc': 1.0, 'acc': 1.0}, 'metric': 0.9464589771079018, 'fscore': 0.7592616241945782, 'recall': 0.7091325147073397, 'precision': 0.902014096946816, 'acc': 0.8888888888888888}\n",
            "100% 96/96 [00:20<00:00,  4.79it/s]\n",
            "100% 27/27 [00:04<00:00,  5.57it/s]\n",
            "5_domain_concat_type1 - VAL Epoch 8;  VAL_AUC 0.9364498779268282\n",
            "curent {'DISASTERS': {'precision': 0.8467, 'recall': 0.7315, 'fscore': 0.7668, 'auc': 0.9462, 'acc': 0.8618}, 'FINANCE': {'precision': 0.9821, 'recall': 0.75, 'fscore': 0.8242, 'auc': 0.9815, 'acc': 0.9655}, 'POLITICS': {'precision': 0.8106, 'recall': 0.8106, 'fscore': 0.8106, 'auc': 0.9848, 'acc': 0.92}, 'SOCIETY': {'precision': 0.907, 'recall': 0.7211, 'fscore': 0.7736, 'auc': 0.9185, 'acc': 0.9009}, 'HEALTH': {'precision': 1.0, 'recall': 1.0, 'fscore': 1.0, 'auc': 1.0, 'acc': 1.0}, 'metric': 0.9364498779268282, 'fscore': 0.7788487208774272, 'recall': 0.733551653618501, 'precision': 0.8796274601686973, 'acc': 0.8923611111111112}\n",
            "Max {'DISASTERS': {'precision': 0.9028, 'recall': 0.754, 'fscore': 0.7976, 'auc': 0.9584, 'acc': 0.8824}, 'FINANCE': {'precision': 0.9821, 'recall': 0.75, 'fscore': 0.8242, 'auc': 0.9306, 'acc': 0.9655}, 'POLITICS': {'precision': 1.0, 'recall': 1.0, 'fscore': 1.0, 'auc': 1.0, 'acc': 1.0}, 'SOCIETY': {'precision': 0.8712, 'recall': 0.6366, 'fscore': 0.677, 'auc': 0.9307, 'acc': 0.8726}, 'HEALTH': {'precision': 1.0, 'recall': 1.0, 'fscore': 1.0, 'auc': 1.0, 'acc': 1.0}, 'metric': 0.9464589771079018, 'fscore': 0.7592616241945782, 'recall': 0.7091325147073397, 'precision': 0.902014096946816, 'acc': 0.8888888888888888}\n",
            "100% 96/96 [00:20<00:00,  4.80it/s]\n",
            "100% 27/27 [00:04<00:00,  5.56it/s]\n",
            "5_domain_concat_type1 - VAL Epoch 9;  VAL_AUC 0.9300534239047199\n",
            "curent {'DISASTERS': {'precision': 0.8513, 'recall': 0.8065, 'fscore': 0.8255, 'auc': 0.9373, 'acc': 0.8853}, 'FINANCE': {'precision': 0.8657, 'recall': 0.8657, 'fscore': 0.8657, 'auc': 0.9537, 'acc': 0.9655}, 'POLITICS': {'precision': 0.9783, 'recall': 0.8333, 'fscore': 0.8889, 'auc': 0.9848, 'acc': 0.96}, 'SOCIETY': {'precision': 0.882, 'recall': 0.7183, 'fscore': 0.7666, 'auc': 0.9191, 'acc': 0.8962}, 'HEALTH': {'precision': 1.0, 'recall': 1.0, 'fscore': 1.0, 'auc': 1.0, 'acc': 1.0}, 'metric': 0.9300534239047199, 'fscore': 0.8089340999557717, 'recall': 0.7731871458301426, 'precision': 0.8684731757700954, 'acc': 0.9004629629629629}\n",
            "Max {'DISASTERS': {'precision': 0.9028, 'recall': 0.754, 'fscore': 0.7976, 'auc': 0.9584, 'acc': 0.8824}, 'FINANCE': {'precision': 0.9821, 'recall': 0.75, 'fscore': 0.8242, 'auc': 0.9306, 'acc': 0.9655}, 'POLITICS': {'precision': 1.0, 'recall': 1.0, 'fscore': 1.0, 'auc': 1.0, 'acc': 1.0}, 'SOCIETY': {'precision': 0.8712, 'recall': 0.6366, 'fscore': 0.677, 'auc': 0.9307, 'acc': 0.8726}, 'HEALTH': {'precision': 1.0, 'recall': 1.0, 'fscore': 1.0, 'auc': 1.0, 'acc': 1.0}, 'metric': 0.9464589771079018, 'fscore': 0.7592616241945782, 'recall': 0.7091325147073397, 'precision': 0.902014096946816, 'acc': 0.8888888888888888}\n",
            "100% 13/13 [00:02<00:00,  5.33it/s]\n",
            "/usr/local/lib/python3.7/dist-packages/sklearn/metrics/_classification.py:1318: UndefinedMetricWarning: Precision is ill-defined and being set to 0.0 in labels with no predicted samples. Use `zero_division` parameter to control this behavior.\n",
            "  _warn_prf(average, modifier, msg_start, len(result))\n",
            "{'DISASTERS': {'precision': 0.9496, 'recall': 0.8205, 'fscore': 0.8641, 'auc': 0.9707, 'acc': 0.9146}, 'FINANCE': {'precision': 0.4848, 'recall': 0.5, 'fscore': 0.4923, 'auc': 1.0, 'acc': 0.9697}, 'POLITICS': {'precision': 0.35, 'recall': 0.4375, 'fscore': 0.3889, 'auc': 0.8333, 'acc': 0.6364}, 'SOCIETY': {'precision': 0.8382, 'recall': 0.623, 'fscore': 0.6595, 'auc': 0.8815, 'acc': 0.8724}, 'HEALTH': {'precision': 1.0, 'recall': 1.0, 'fscore': 1.0, 'auc': 1.0, 'acc': 1.0}, 'metric': 0.9324303405572756, 'fscore': 0.7763768753359722, 'recall': 0.7258513931888545, 'precision': 0.9062935115566695, 'acc': 0.8942307692307693}\n"
          ]
        }
      ]
    },
    {
      "cell_type": "code",
      "source": [
        "## sum - lr: 0.01\n",
        "!python3 main.py --model_name mdfend --batchsize 32 --lr 0.01 --type_fusion 1"
      ],
      "metadata": {
        "id": "0IlNoi-EvUV8",
        "colab": {
          "base_uri": "https://localhost:8080/"
        },
        "outputId": "1b57e290-0f8f-4bb5-fd00-8245f5134456"
      },
      "execution_count": 15,
      "outputs": [
        {
          "output_type": "stream",
          "name": "stdout",
          "text": [
            "type_fusion: 1; lr: 0.01; model name: mdfend; emb_type: bert; batchsize: 32; epoch: 50; gpu: 0; emb_dim: 768\n",
            "Special tokens have been added in the vocabulary, make sure the associated word embeddings are fine-tuned or trained.\n",
            "Special tokens have been added in the vocabulary, make sure the associated word embeddings are fine-tuned or trained.\n",
            "Special tokens have been added in the vocabulary, make sure the associated word embeddings are fine-tuned or trained.\n",
            "Some weights of the model checkpoint at vinai/phobert-base were not used when initializing RobertaModel: ['lm_head.layer_norm.weight', 'lm_head.bias', 'lm_head.layer_norm.bias', 'lm_head.dense.bias', 'lm_head.decoder.weight', 'lm_head.decoder.bias', 'lm_head.dense.weight']\n",
            "- This IS expected if you are initializing RobertaModel from the checkpoint of a model trained on another task or with another architecture (e.g. initializing a BertForSequenceClassification model from a BertForPreTraining model).\n",
            "- This IS NOT expected if you are initializing RobertaModel from the checkpoint of a model that you expect to be exactly identical (initializing a BertForSequenceClassification model from a BertForSequenceClassification model).\n",
            "100% 96/96 [00:20<00:00,  4.76it/s]\n",
            "100% 27/27 [00:04<00:00,  5.57it/s]\n",
            "5_domain_sum_type1 - VAL Epoch 1;  VAL_AUC 0.8898728817376733\n",
            "curent {'DISASTERS': {'precision': 0.8869, 'recall': 0.7391, 'fscore': 0.781, 'auc': 0.9365, 'acc': 0.8735}, 'FINANCE': {'precision': 0.8152, 'recall': 0.7407, 'fscore': 0.772, 'auc': 0.912, 'acc': 0.9483}, 'POLITICS': {'precision': 0.9783, 'recall': 0.8333, 'fscore': 0.8889, 'auc': 0.9848, 'acc': 0.96}, 'SOCIETY': {'precision': 0.8844, 'recall': 0.6239, 'fscore': 0.6615, 'auc': 0.9291, 'acc': 0.8703}, 'HEALTH': {'precision': 0.7, 'recall': 0.9, 'fscore': 0.7302, 'auc': 1.0, 'acc': 0.8235}, 'metric': 0.8898728817376733, 'fscore': 0.7357190091793364, 'recall': 0.690380093514356, 'precision': 0.8705808080808082, 'acc': 0.8784722222222222}\n",
            "Max {'DISASTERS': {'precision': 0.8869, 'recall': 0.7391, 'fscore': 0.781, 'auc': 0.9365, 'acc': 0.8735}, 'FINANCE': {'precision': 0.8152, 'recall': 0.7407, 'fscore': 0.772, 'auc': 0.912, 'acc': 0.9483}, 'POLITICS': {'precision': 0.9783, 'recall': 0.8333, 'fscore': 0.8889, 'auc': 0.9848, 'acc': 0.96}, 'SOCIETY': {'precision': 0.8844, 'recall': 0.6239, 'fscore': 0.6615, 'auc': 0.9291, 'acc': 0.8703}, 'HEALTH': {'precision': 0.7, 'recall': 0.9, 'fscore': 0.7302, 'auc': 1.0, 'acc': 0.8235}, 'metric': 0.8898728817376733, 'fscore': 0.7357190091793364, 'recall': 0.690380093514356, 'precision': 0.8705808080808082, 'acc': 0.8784722222222222}\n",
            "100% 96/96 [00:20<00:00,  4.79it/s]\n",
            "100% 27/27 [00:04<00:00,  5.55it/s]\n",
            "/usr/local/lib/python3.7/dist-packages/sklearn/metrics/_classification.py:1318: UndefinedMetricWarning: Precision is ill-defined and being set to 0.0 in labels with no predicted samples. Use `zero_division` parameter to control this behavior.\n",
            "  _warn_prf(average, modifier, msg_start, len(result))\n",
            "5_domain_sum_type1 - VAL Epoch 2;  VAL_AUC 0.9304588329624591\n",
            "curent {'DISASTERS': {'precision': 0.8868, 'recall': 0.628, 'fscore': 0.6543, 'auc': 0.9418, 'acc': 0.8294}, 'FINANCE': {'precision': 0.7232, 'recall': 0.6157, 'fscore': 0.6485, 'auc': 0.8889, 'acc': 0.931}, 'POLITICS': {'precision': 0.9583, 'recall': 0.6667, 'fscore': 0.7283, 'auc': 0.9697, 'acc': 0.92}, 'SOCIETY': {'precision': 0.9025, 'recall': 0.6662, 'fscore': 0.7148, 'auc': 0.9257, 'acc': 0.8844}, 'HEALTH': {'precision': 0.4412, 'recall': 0.5, 'fscore': 0.4688, 'auc': 0.9333, 'acc': 0.8824}, 'metric': 0.9304588329624591, 'fscore': 0.6844181459566075, 'recall': 0.6436679609726214, 'precision': 0.8918181818181818, 'acc': 0.8668981481481481}\n",
            "Max {'DISASTERS': {'precision': 0.8868, 'recall': 0.628, 'fscore': 0.6543, 'auc': 0.9418, 'acc': 0.8294}, 'FINANCE': {'precision': 0.7232, 'recall': 0.6157, 'fscore': 0.6485, 'auc': 0.8889, 'acc': 0.931}, 'POLITICS': {'precision': 0.9583, 'recall': 0.6667, 'fscore': 0.7283, 'auc': 0.9697, 'acc': 0.92}, 'SOCIETY': {'precision': 0.9025, 'recall': 0.6662, 'fscore': 0.7148, 'auc': 0.9257, 'acc': 0.8844}, 'HEALTH': {'precision': 0.4412, 'recall': 0.5, 'fscore': 0.4688, 'auc': 0.9333, 'acc': 0.8824}, 'metric': 0.9304588329624591, 'fscore': 0.6844181459566075, 'recall': 0.6436679609726214, 'precision': 0.8918181818181818, 'acc': 0.8668981481481481}\n",
            "100% 96/96 [00:20<00:00,  4.78it/s]\n",
            "100% 27/27 [00:04<00:00,  5.56it/s]\n",
            "5_domain_sum_type1 - VAL Epoch 3;  VAL_AUC 0.9355759961801458\n",
            "curent {'DISASTERS': {'precision': 0.9141, 'recall': 0.7559, 'fscore': 0.8014, 'auc': 0.9432, 'acc': 0.8853}, 'FINANCE': {'precision': 0.9737, 'recall': 0.625, 'fscore': 0.6865, 'auc': 0.9676, 'acc': 0.9483}, 'POLITICS': {'precision': 0.7065, 'recall': 0.6439, 'fscore': 0.6667, 'auc': 0.9545, 'acc': 0.88}, 'SOCIETY': {'precision': 0.8489, 'recall': 0.6746, 'fscore': 0.7182, 'auc': 0.9273, 'acc': 0.8797}, 'HEALTH': {'precision': 1.0, 'recall': 1.0, 'fscore': 1.0, 'auc': 1.0, 'acc': 1.0}, 'metric': 0.9355759961801458, 'fscore': 0.7644385877220885, 'recall': 0.7165650140992261, 'precision': 0.8876239619446908, 'acc': 0.8888888888888888}\n",
            "Max {'DISASTERS': {'precision': 0.9141, 'recall': 0.7559, 'fscore': 0.8014, 'auc': 0.9432, 'acc': 0.8853}, 'FINANCE': {'precision': 0.9737, 'recall': 0.625, 'fscore': 0.6865, 'auc': 0.9676, 'acc': 0.9483}, 'POLITICS': {'precision': 0.7065, 'recall': 0.6439, 'fscore': 0.6667, 'auc': 0.9545, 'acc': 0.88}, 'SOCIETY': {'precision': 0.8489, 'recall': 0.6746, 'fscore': 0.7182, 'auc': 0.9273, 'acc': 0.8797}, 'HEALTH': {'precision': 1.0, 'recall': 1.0, 'fscore': 1.0, 'auc': 1.0, 'acc': 1.0}, 'metric': 0.9355759961801458, 'fscore': 0.7644385877220885, 'recall': 0.7165650140992261, 'precision': 0.8876239619446908, 'acc': 0.8888888888888888}\n",
            "100% 96/96 [00:20<00:00,  4.79it/s]\n",
            "100% 27/27 [00:04<00:00,  5.57it/s]\n",
            "5_domain_sum_type1 - VAL Epoch 4;  VAL_AUC 0.930512887503491\n",
            "curent {'DISASTERS': {'precision': 0.8958, 'recall': 0.7346, 'fscore': 0.7781, 'auc': 0.9364, 'acc': 0.8735}, 'FINANCE': {'precision': 0.7232, 'recall': 0.6157, 'fscore': 0.6485, 'auc': 0.9398, 'acc': 0.931}, 'POLITICS': {'precision': 0.9783, 'recall': 0.8333, 'fscore': 0.8889, 'auc': 0.9394, 'acc': 0.96}, 'SOCIETY': {'precision': 0.8573, 'recall': 0.6422, 'fscore': 0.6828, 'auc': 0.9219, 'acc': 0.8726}, 'HEALTH': {'precision': 0.9688, 'recall': 0.75, 'fscore': 0.8172, 'auc': 1.0, 'acc': 0.9412}, 'metric': 0.930512887503491, 'fscore': 0.7388172936104271, 'recall': 0.6917945206713574, 'precision': 0.8830334652752789, 'acc': 0.8807870370370371}\n",
            "Max {'DISASTERS': {'precision': 0.9141, 'recall': 0.7559, 'fscore': 0.8014, 'auc': 0.9432, 'acc': 0.8853}, 'FINANCE': {'precision': 0.9737, 'recall': 0.625, 'fscore': 0.6865, 'auc': 0.9676, 'acc': 0.9483}, 'POLITICS': {'precision': 0.7065, 'recall': 0.6439, 'fscore': 0.6667, 'auc': 0.9545, 'acc': 0.88}, 'SOCIETY': {'precision': 0.8489, 'recall': 0.6746, 'fscore': 0.7182, 'auc': 0.9273, 'acc': 0.8797}, 'HEALTH': {'precision': 1.0, 'recall': 1.0, 'fscore': 1.0, 'auc': 1.0, 'acc': 1.0}, 'metric': 0.9355759961801458, 'fscore': 0.7644385877220885, 'recall': 0.7165650140992261, 'precision': 0.8876239619446908, 'acc': 0.8888888888888888}\n",
            "100% 96/96 [00:20<00:00,  4.79it/s]\n",
            "100% 27/27 [00:04<00:00,  5.55it/s]\n",
            "5_domain_sum_type1 - VAL Epoch 5;  VAL_AUC 0.9413147866196994\n",
            "curent {'DISASTERS': {'precision': 0.8431, 'recall': 0.7537, 'fscore': 0.7847, 'auc': 0.9385, 'acc': 0.8676}, 'FINANCE': {'precision': 0.9821, 'recall': 0.75, 'fscore': 0.8242, 'auc': 0.9769, 'acc': 0.9655}, 'POLITICS': {'precision': 0.9583, 'recall': 0.6667, 'fscore': 0.7283, 'auc': 0.9697, 'acc': 0.92}, 'SOCIETY': {'precision': 0.8768, 'recall': 0.7309, 'fscore': 0.7771, 'auc': 0.9354, 'acc': 0.8986}, 'HEALTH': {'precision': 1.0, 'recall': 1.0, 'fscore': 1.0, 'auc': 1.0, 'acc': 1.0}, 'metric': 0.9413147866196994, 'fscore': 0.7876900394234981, 'recall': 0.7466463661834791, 'precision': 0.8679820965335556, 'acc': 0.8935185185185185}\n",
            "Max {'DISASTERS': {'precision': 0.8431, 'recall': 0.7537, 'fscore': 0.7847, 'auc': 0.9385, 'acc': 0.8676}, 'FINANCE': {'precision': 0.9821, 'recall': 0.75, 'fscore': 0.8242, 'auc': 0.9769, 'acc': 0.9655}, 'POLITICS': {'precision': 0.9583, 'recall': 0.6667, 'fscore': 0.7283, 'auc': 0.9697, 'acc': 0.92}, 'SOCIETY': {'precision': 0.8768, 'recall': 0.7309, 'fscore': 0.7771, 'auc': 0.9354, 'acc': 0.8986}, 'HEALTH': {'precision': 1.0, 'recall': 1.0, 'fscore': 1.0, 'auc': 1.0, 'acc': 1.0}, 'metric': 0.9413147866196994, 'fscore': 0.7876900394234981, 'recall': 0.7466463661834791, 'precision': 0.8679820965335556, 'acc': 0.8935185185185185}\n",
            "100% 96/96 [00:20<00:00,  4.79it/s]\n",
            "100% 27/27 [00:04<00:00,  5.59it/s]\n",
            "5_domain_sum_type1 - VAL Epoch 6;  VAL_AUC 0.9426030865142929\n",
            "curent {'DISASTERS': {'precision': 0.8937, 'recall': 0.8003, 'fscore': 0.8345, 'auc': 0.9433, 'acc': 0.8971}, 'FINANCE': {'precision': 0.8152, 'recall': 0.7407, 'fscore': 0.772, 'auc': 0.9583, 'acc': 0.9483}, 'POLITICS': {'precision': 0.9783, 'recall': 0.8333, 'fscore': 0.8889, 'auc': 1.0, 'acc': 0.96}, 'SOCIETY': {'precision': 0.8663, 'recall': 0.7295, 'fscore': 0.7737, 'auc': 0.9335, 'acc': 0.8962}, 'HEALTH': {'precision': 1.0, 'recall': 1.0, 'fscore': 1.0, 'auc': 1.0, 'acc': 1.0}, 'metric': 0.9426030865142929, 'fscore': 0.8115178292169443, 'recall': 0.7703537869710537, 'precision': 0.8860969584684268, 'acc': 0.9039351851851852}\n",
            "Max {'DISASTERS': {'precision': 0.8937, 'recall': 0.8003, 'fscore': 0.8345, 'auc': 0.9433, 'acc': 0.8971}, 'FINANCE': {'precision': 0.8152, 'recall': 0.7407, 'fscore': 0.772, 'auc': 0.9583, 'acc': 0.9483}, 'POLITICS': {'precision': 0.9783, 'recall': 0.8333, 'fscore': 0.8889, 'auc': 1.0, 'acc': 0.96}, 'SOCIETY': {'precision': 0.8663, 'recall': 0.7295, 'fscore': 0.7737, 'auc': 0.9335, 'acc': 0.8962}, 'HEALTH': {'precision': 1.0, 'recall': 1.0, 'fscore': 1.0, 'auc': 1.0, 'acc': 1.0}, 'metric': 0.9426030865142929, 'fscore': 0.8115178292169443, 'recall': 0.7703537869710537, 'precision': 0.8860969584684268, 'acc': 0.9039351851851852}\n",
            "100% 96/96 [00:20<00:00,  4.78it/s]\n",
            "100% 27/27 [00:04<00:00,  5.58it/s]\n",
            "5_domain_sum_type1 - VAL Epoch 7;  VAL_AUC 0.9386480959287922\n",
            "curent {'DISASTERS': {'precision': 0.8831, 'recall': 0.7743, 'fscore': 0.8112, 'auc': 0.9407, 'acc': 0.8853}, 'FINANCE': {'precision': 0.8152, 'recall': 0.7407, 'fscore': 0.772, 'auc': 0.9583, 'acc': 0.9483}, 'POLITICS': {'precision': 0.9783, 'recall': 0.8333, 'fscore': 0.8889, 'auc': 0.9848, 'acc': 0.96}, 'SOCIETY': {'precision': 0.882, 'recall': 0.7183, 'fscore': 0.7666, 'auc': 0.9315, 'acc': 0.8962}, 'HEALTH': {'precision': 1.0, 'recall': 1.0, 'fscore': 1.0, 'auc': 1.0, 'acc': 1.0}, 'metric': 0.9386480959287922, 'fscore': 0.797241636028668, 'recall': 0.7526599338732781, 'precision': 0.8874689140646588, 'acc': 0.8993055555555556}\n",
            "Max {'DISASTERS': {'precision': 0.8937, 'recall': 0.8003, 'fscore': 0.8345, 'auc': 0.9433, 'acc': 0.8971}, 'FINANCE': {'precision': 0.8152, 'recall': 0.7407, 'fscore': 0.772, 'auc': 0.9583, 'acc': 0.9483}, 'POLITICS': {'precision': 0.9783, 'recall': 0.8333, 'fscore': 0.8889, 'auc': 1.0, 'acc': 0.96}, 'SOCIETY': {'precision': 0.8663, 'recall': 0.7295, 'fscore': 0.7737, 'auc': 0.9335, 'acc': 0.8962}, 'HEALTH': {'precision': 1.0, 'recall': 1.0, 'fscore': 1.0, 'auc': 1.0, 'acc': 1.0}, 'metric': 0.9426030865142929, 'fscore': 0.8115178292169443, 'recall': 0.7703537869710537, 'precision': 0.8860969584684268, 'acc': 0.9039351851851852}\n",
            "100% 96/96 [00:20<00:00,  4.79it/s]\n",
            "100% 27/27 [00:04<00:00,  5.56it/s]\n",
            "5_domain_sum_type1 - VAL Epoch 8;  VAL_AUC 0.948125658789719\n",
            "curent {'DISASTERS': {'precision': 0.904, 'recall': 0.6799, 'fscore': 0.7206, 'auc': 0.9568, 'acc': 0.8529}, 'FINANCE': {'precision': 0.9821, 'recall': 0.75, 'fscore': 0.8242, 'auc': 0.9861, 'acc': 0.9655}, 'POLITICS': {'precision': 0.9583, 'recall': 0.6667, 'fscore': 0.7283, 'auc': 0.9848, 'acc': 0.92}, 'SOCIETY': {'precision': 0.8883, 'recall': 0.6718, 'fscore': 0.7198, 'auc': 0.9351, 'acc': 0.8844}, 'HEALTH': {'precision': 1.0, 'recall': 1.0, 'fscore': 1.0, 'auc': 1.0, 'acc': 1.0}, 'metric': 0.948125658789719, 'fscore': 0.7307116206868378, 'recall': 0.6818845214821755, 'precision': 0.9060212372295069, 'acc': 0.8807870370370371}\n",
            "Max {'DISASTERS': {'precision': 0.904, 'recall': 0.6799, 'fscore': 0.7206, 'auc': 0.9568, 'acc': 0.8529}, 'FINANCE': {'precision': 0.9821, 'recall': 0.75, 'fscore': 0.8242, 'auc': 0.9861, 'acc': 0.9655}, 'POLITICS': {'precision': 0.9583, 'recall': 0.6667, 'fscore': 0.7283, 'auc': 0.9848, 'acc': 0.92}, 'SOCIETY': {'precision': 0.8883, 'recall': 0.6718, 'fscore': 0.7198, 'auc': 0.9351, 'acc': 0.8844}, 'HEALTH': {'precision': 1.0, 'recall': 1.0, 'fscore': 1.0, 'auc': 1.0, 'acc': 1.0}, 'metric': 0.948125658789719, 'fscore': 0.7307116206868378, 'recall': 0.6818845214821755, 'precision': 0.9060212372295069, 'acc': 0.8807870370370371}\n",
            "100% 96/96 [00:20<00:00,  4.79it/s]\n",
            "100% 27/27 [00:04<00:00,  5.57it/s]\n",
            "5_domain_sum_type1 - VAL Epoch 9;  VAL_AUC 0.9366751051811277\n",
            "curent {'DISASTERS': {'precision': 0.8762, 'recall': 0.7132, 'fscore': 0.7541, 'auc': 0.9473, 'acc': 0.8618}, 'FINANCE': {'precision': 0.7232, 'recall': 0.6157, 'fscore': 0.6485, 'auc': 0.963, 'acc': 0.931}, 'POLITICS': {'precision': 0.9783, 'recall': 0.8333, 'fscore': 0.8889, 'auc': 0.9848, 'acc': 0.96}, 'SOCIETY': {'precision': 0.8487, 'recall': 0.6943, 'fscore': 0.738, 'auc': 0.9228, 'acc': 0.8844}, 'HEALTH': {'precision': 1.0, 'recall': 1.0, 'fscore': 1.0, 'auc': 1.0, 'acc': 1.0}, 'metric': 0.9366751051811277, 'fscore': 0.7530499452410667, 'recall': 0.7080739466121316, 'precision': 0.8682397959183674, 'acc': 0.8831018518518519}\n",
            "Max {'DISASTERS': {'precision': 0.904, 'recall': 0.6799, 'fscore': 0.7206, 'auc': 0.9568, 'acc': 0.8529}, 'FINANCE': {'precision': 0.9821, 'recall': 0.75, 'fscore': 0.8242, 'auc': 0.9861, 'acc': 0.9655}, 'POLITICS': {'precision': 0.9583, 'recall': 0.6667, 'fscore': 0.7283, 'auc': 0.9848, 'acc': 0.92}, 'SOCIETY': {'precision': 0.8883, 'recall': 0.6718, 'fscore': 0.7198, 'auc': 0.9351, 'acc': 0.8844}, 'HEALTH': {'precision': 1.0, 'recall': 1.0, 'fscore': 1.0, 'auc': 1.0, 'acc': 1.0}, 'metric': 0.948125658789719, 'fscore': 0.7307116206868378, 'recall': 0.6818845214821755, 'precision': 0.9060212372295069, 'acc': 0.8807870370370371}\n",
            "100% 96/96 [00:20<00:00,  4.79it/s]\n",
            "100% 27/27 [00:04<00:00,  5.58it/s]\n",
            "5_domain_sum_type1 - VAL Epoch 10;  VAL_AUC 0.9325129055216714\n",
            "curent {'DISASTERS': {'precision': 0.9202, 'recall': 0.7754, 'fscore': 0.8202, 'auc': 0.9569, 'acc': 0.8941}, 'FINANCE': {'precision': 0.9737, 'recall': 0.625, 'fscore': 0.6865, 'auc': 0.912, 'acc': 0.9483}, 'POLITICS': {'precision': 0.9783, 'recall': 0.8333, 'fscore': 0.8889, 'auc': 0.9697, 'acc': 0.96}, 'SOCIETY': {'precision': 0.8879, 'recall': 0.631, 'fscore': 0.6708, 'auc': 0.9057, 'acc': 0.8726}, 'HEALTH': {'precision': 1.0, 'recall': 1.0, 'fscore': 1.0, 'auc': 1.0, 'acc': 1.0}, 'metric': 0.9325129055216714, 'fscore': 0.7625263157894737, 'recall': 0.7105469418643411, 'precision': 0.9150844537591247, 'acc': 0.8912037037037037}\n",
            "Max {'DISASTERS': {'precision': 0.904, 'recall': 0.6799, 'fscore': 0.7206, 'auc': 0.9568, 'acc': 0.8529}, 'FINANCE': {'precision': 0.9821, 'recall': 0.75, 'fscore': 0.8242, 'auc': 0.9861, 'acc': 0.9655}, 'POLITICS': {'precision': 0.9583, 'recall': 0.6667, 'fscore': 0.7283, 'auc': 0.9848, 'acc': 0.92}, 'SOCIETY': {'precision': 0.8883, 'recall': 0.6718, 'fscore': 0.7198, 'auc': 0.9351, 'acc': 0.8844}, 'HEALTH': {'precision': 1.0, 'recall': 1.0, 'fscore': 1.0, 'auc': 1.0, 'acc': 1.0}, 'metric': 0.948125658789719, 'fscore': 0.7307116206868378, 'recall': 0.6818845214821755, 'precision': 0.9060212372295069, 'acc': 0.8807870370370371}\n",
            "100% 96/96 [00:20<00:00,  4.79it/s]\n",
            "100% 27/27 [00:04<00:00,  5.59it/s]\n",
            "5_domain_sum_type1 - VAL Epoch 11;  VAL_AUC 0.9519094766619519\n",
            "curent {'DISASTERS': {'precision': 0.8982, 'recall': 0.741, 'fscore': 0.7847, 'auc': 0.9526, 'acc': 0.8765}, 'FINANCE': {'precision': 0.7232, 'recall': 0.6157, 'fscore': 0.6485, 'auc': 0.9722, 'acc': 0.931}, 'POLITICS': {'precision': 0.9583, 'recall': 0.6667, 'fscore': 0.7283, 'auc': 0.9697, 'acc': 0.92}, 'SOCIETY': {'precision': 0.8942, 'recall': 0.6859, 'fscore': 0.7359, 'auc': 0.9455, 'acc': 0.8892}, 'HEALTH': {'precision': 1.0, 'recall': 1.0, 'fscore': 1.0, 'auc': 1.0, 'acc': 1.0}, 'metric': 0.9519094766619519, 'fscore': 0.7643647638049579, 'recall': 0.7147947278804314, 'precision': 0.898109804969276, 'acc': 0.8900462962962963}\n",
            "Max {'DISASTERS': {'precision': 0.8982, 'recall': 0.741, 'fscore': 0.7847, 'auc': 0.9526, 'acc': 0.8765}, 'FINANCE': {'precision': 0.7232, 'recall': 0.6157, 'fscore': 0.6485, 'auc': 0.9722, 'acc': 0.931}, 'POLITICS': {'precision': 0.9583, 'recall': 0.6667, 'fscore': 0.7283, 'auc': 0.9697, 'acc': 0.92}, 'SOCIETY': {'precision': 0.8942, 'recall': 0.6859, 'fscore': 0.7359, 'auc': 0.9455, 'acc': 0.8892}, 'HEALTH': {'precision': 1.0, 'recall': 1.0, 'fscore': 1.0, 'auc': 1.0, 'acc': 1.0}, 'metric': 0.9519094766619519, 'fscore': 0.7643647638049579, 'recall': 0.7147947278804314, 'precision': 0.898109804969276, 'acc': 0.8900462962962963}\n",
            "100% 96/96 [00:20<00:00,  4.78it/s]\n",
            "100% 27/27 [00:04<00:00,  5.58it/s]\n",
            "5_domain_sum_type1 - VAL Epoch 12;  VAL_AUC 0.9421886683663817\n",
            "curent {'DISASTERS': {'precision': 0.8973, 'recall': 0.7892, 'fscore': 0.8268, 'auc': 0.9551, 'acc': 0.8941}, 'FINANCE': {'precision': 0.7232, 'recall': 0.6157, 'fscore': 0.6485, 'auc': 0.9537, 'acc': 0.931}, 'POLITICS': {'precision': 0.7065, 'recall': 0.6439, 'fscore': 0.6667, 'auc': 0.9394, 'acc': 0.88}, 'SOCIETY': {'precision': 0.8759, 'recall': 0.7042, 'fscore': 0.752, 'auc': 0.9269, 'acc': 0.8915}, 'HEALTH': {'precision': 1.0, 'recall': 1.0, 'fscore': 1.0, 'auc': 1.0, 'acc': 1.0}, 'metric': 0.9421886683663817, 'fscore': 0.7911972433343923, 'recall': 0.7462905071216858, 'precision': 0.8849121423744086, 'acc': 0.8969907407407407}\n",
            "Max {'DISASTERS': {'precision': 0.8982, 'recall': 0.741, 'fscore': 0.7847, 'auc': 0.9526, 'acc': 0.8765}, 'FINANCE': {'precision': 0.7232, 'recall': 0.6157, 'fscore': 0.6485, 'auc': 0.9722, 'acc': 0.931}, 'POLITICS': {'precision': 0.9583, 'recall': 0.6667, 'fscore': 0.7283, 'auc': 0.9697, 'acc': 0.92}, 'SOCIETY': {'precision': 0.8942, 'recall': 0.6859, 'fscore': 0.7359, 'auc': 0.9455, 'acc': 0.8892}, 'HEALTH': {'precision': 1.0, 'recall': 1.0, 'fscore': 1.0, 'auc': 1.0, 'acc': 1.0}, 'metric': 0.9519094766619519, 'fscore': 0.7643647638049579, 'recall': 0.7147947278804314, 'precision': 0.898109804969276, 'acc': 0.8900462962962963}\n",
            "100% 96/96 [00:20<00:00,  4.79it/s]\n",
            "100% 27/27 [00:04<00:00,  5.57it/s]\n",
            "5_domain_sum_type1 - VAL Epoch 13;  VAL_AUC 0.9477833133631834\n",
            "curent {'DISASTERS': {'precision': 0.9066, 'recall': 0.7911, 'fscore': 0.8306, 'auc': 0.9585, 'acc': 0.8971}, 'FINANCE': {'precision': 0.9737, 'recall': 0.625, 'fscore': 0.6865, 'auc': 0.963, 'acc': 0.9483}, 'POLITICS': {'precision': 0.8106, 'recall': 0.8106, 'fscore': 0.8106, 'auc': 0.9545, 'acc': 0.92}, 'SOCIETY': {'precision': 0.8638, 'recall': 0.7028, 'fscore': 0.7487, 'auc': 0.9334, 'acc': 0.8892}, 'HEALTH': {'precision': 1.0, 'recall': 1.0, 'fscore': 1.0, 'auc': 1.0, 'acc': 1.0}, 'metric': 0.9477833133631834, 'fscore': 0.7958894401133948, 'recall': 0.7501824340759826, 'precision': 0.8909945933768867, 'acc': 0.8993055555555556}\n",
            "Max {'DISASTERS': {'precision': 0.8982, 'recall': 0.741, 'fscore': 0.7847, 'auc': 0.9526, 'acc': 0.8765}, 'FINANCE': {'precision': 0.7232, 'recall': 0.6157, 'fscore': 0.6485, 'auc': 0.9722, 'acc': 0.931}, 'POLITICS': {'precision': 0.9583, 'recall': 0.6667, 'fscore': 0.7283, 'auc': 0.9697, 'acc': 0.92}, 'SOCIETY': {'precision': 0.8942, 'recall': 0.6859, 'fscore': 0.7359, 'auc': 0.9455, 'acc': 0.8892}, 'HEALTH': {'precision': 1.0, 'recall': 1.0, 'fscore': 1.0, 'auc': 1.0, 'acc': 1.0}, 'metric': 0.9519094766619519, 'fscore': 0.7643647638049579, 'recall': 0.7147947278804314, 'precision': 0.898109804969276, 'acc': 0.8900462962962963}\n",
            "100% 96/96 [00:20<00:00,  4.79it/s]\n",
            "100% 27/27 [00:04<00:00,  5.57it/s]\n",
            "5_domain_sum_type1 - VAL Epoch 14;  VAL_AUC 0.9335849872521375\n",
            "curent {'DISASTERS': {'precision': 0.9161, 'recall': 0.793, 'fscore': 0.8344, 'auc': 0.962, 'acc': 0.9}, 'FINANCE': {'precision': 0.9737, 'recall': 0.625, 'fscore': 0.6865, 'auc': 0.9259, 'acc': 0.9483}, 'POLITICS': {'precision': 0.8106, 'recall': 0.8106, 'fscore': 0.8106, 'auc': 0.9697, 'acc': 0.92}, 'SOCIETY': {'precision': 0.8432, 'recall': 0.6211, 'fscore': 0.6558, 'auc': 0.9028, 'acc': 0.8656}, 'HEALTH': {'precision': 1.0, 'recall': 1.0, 'fscore': 1.0, 'auc': 1.0, 'acc': 1.0}, 'metric': 0.9335849872521375, 'fscore': 0.7627432808155699, 'recall': 0.7140875143019307, 'precision': 0.8921434347101438, 'acc': 0.8888888888888888}\n",
            "Max {'DISASTERS': {'precision': 0.8982, 'recall': 0.741, 'fscore': 0.7847, 'auc': 0.9526, 'acc': 0.8765}, 'FINANCE': {'precision': 0.7232, 'recall': 0.6157, 'fscore': 0.6485, 'auc': 0.9722, 'acc': 0.931}, 'POLITICS': {'precision': 0.9583, 'recall': 0.6667, 'fscore': 0.7283, 'auc': 0.9697, 'acc': 0.92}, 'SOCIETY': {'precision': 0.8942, 'recall': 0.6859, 'fscore': 0.7359, 'auc': 0.9455, 'acc': 0.8892}, 'HEALTH': {'precision': 1.0, 'recall': 1.0, 'fscore': 1.0, 'auc': 1.0, 'acc': 1.0}, 'metric': 0.9519094766619519, 'fscore': 0.7643647638049579, 'recall': 0.7147947278804314, 'precision': 0.898109804969276, 'acc': 0.8900462962962963}\n",
            "100% 13/13 [00:02<00:00,  5.31it/s]\n",
            "{'DISASTERS': {'precision': 0.8976, 'recall': 0.7741, 'fscore': 0.8134, 'auc': 0.9787, 'acc': 0.8841}, 'FINANCE': {'precision': 1.0, 'recall': 1.0, 'fscore': 1.0, 'auc': 1.0, 'acc': 1.0}, 'POLITICS': {'precision': 0.6389, 'recall': 0.6042, 'fscore': 0.6118, 'auc': 0.5833, 'acc': 0.7273}, 'SOCIETY': {'precision': 0.8596, 'recall': 0.6552, 'fscore': 0.6996, 'auc': 0.8497, 'acc': 0.8827}, 'HEALTH': {'precision': 1.0, 'recall': 1.0, 'fscore': 1.0, 'auc': 1.0, 'acc': 1.0}, 'metric': 0.9226393188854489, 'fscore': 0.7762237762237763, 'recall': 0.7294891640866873, 'precision': 0.8856910569105692, 'acc': 0.8918269230769231}\n"
          ]
        }
      ]
    },
    {
      "cell_type": "code",
      "source": [
        "## avg - lr: 0.001\n",
        "!python3 main.py --model_name mdfend --batchsize 32 --lr 0.001 --type_fusion 1"
      ],
      "metadata": {
        "colab": {
          "base_uri": "https://localhost:8080/"
        },
        "id": "qyLfD1-h3Ypb",
        "outputId": "842997c4-112a-4be1-beea-8c991ba336f5"
      },
      "execution_count": 16,
      "outputs": [
        {
          "output_type": "stream",
          "name": "stdout",
          "text": [
            "type_fusion: 1; lr: 0.001; model name: mdfend; emb_type: bert; batchsize: 32; epoch: 50; gpu: 0; emb_dim: 768\n",
            "Special tokens have been added in the vocabulary, make sure the associated word embeddings are fine-tuned or trained.\n",
            "Special tokens have been added in the vocabulary, make sure the associated word embeddings are fine-tuned or trained.\n",
            "Special tokens have been added in the vocabulary, make sure the associated word embeddings are fine-tuned or trained.\n",
            "Some weights of the model checkpoint at vinai/phobert-base were not used when initializing RobertaModel: ['lm_head.decoder.weight', 'lm_head.bias', 'lm_head.dense.bias', 'lm_head.layer_norm.bias', 'lm_head.layer_norm.weight', 'lm_head.decoder.bias', 'lm_head.dense.weight']\n",
            "- This IS expected if you are initializing RobertaModel from the checkpoint of a model trained on another task or with another architecture (e.g. initializing a BertForSequenceClassification model from a BertForPreTraining model).\n",
            "- This IS NOT expected if you are initializing RobertaModel from the checkpoint of a model that you expect to be exactly identical (initializing a BertForSequenceClassification model from a BertForSequenceClassification model).\n",
            "100% 96/96 [00:20<00:00,  4.76it/s]\n",
            "100% 27/27 [00:04<00:00,  5.58it/s]\n",
            "5_domain_avg_type1 - VAL Epoch 1;  VAL_AUC 0.9388553050027477\n",
            "curent {'DISASTERS': {'precision': 0.8513, 'recall': 0.8065, 'fscore': 0.8255, 'auc': 0.947, 'acc': 0.8853}, 'FINANCE': {'precision': 0.8657, 'recall': 0.8657, 'fscore': 0.8657, 'auc': 0.9491, 'acc': 0.9655}, 'POLITICS': {'precision': 1.0, 'recall': 1.0, 'fscore': 1.0, 'auc': 1.0, 'acc': 1.0}, 'SOCIETY': {'precision': 0.8126, 'recall': 0.721, 'fscore': 0.7539, 'auc': 0.9272, 'acc': 0.8821}, 'HEALTH': {'precision': 0.8333, 'recall': 0.9667, 'fscore': 0.8828, 'auc': 1.0, 'acc': 0.9412}, 'metric': 0.9388553050027477, 'fscore': 0.802808236169685, 'recall': 0.7763763637510248, 'precision': 0.8412288800151274, 'acc': 0.8935185185185185}\n",
            "Max {'DISASTERS': {'precision': 0.8513, 'recall': 0.8065, 'fscore': 0.8255, 'auc': 0.947, 'acc': 0.8853}, 'FINANCE': {'precision': 0.8657, 'recall': 0.8657, 'fscore': 0.8657, 'auc': 0.9491, 'acc': 0.9655}, 'POLITICS': {'precision': 1.0, 'recall': 1.0, 'fscore': 1.0, 'auc': 1.0, 'acc': 1.0}, 'SOCIETY': {'precision': 0.8126, 'recall': 0.721, 'fscore': 0.7539, 'auc': 0.9272, 'acc': 0.8821}, 'HEALTH': {'precision': 0.8333, 'recall': 0.9667, 'fscore': 0.8828, 'auc': 1.0, 'acc': 0.9412}, 'metric': 0.9388553050027477, 'fscore': 0.802808236169685, 'recall': 0.7763763637510248, 'precision': 0.8412288800151274, 'acc': 0.8935185185185185}\n",
            "100% 96/96 [00:20<00:00,  4.78it/s]\n",
            "100% 27/27 [00:04<00:00,  5.56it/s]\n",
            "5_domain_avg_type1 - VAL Epoch 2;  VAL_AUC 0.948017549707655\n",
            "curent {'DISASTERS': {'precision': 0.9141, 'recall': 0.7559, 'fscore': 0.8014, 'auc': 0.9539, 'acc': 0.8853}, 'FINANCE': {'precision': 0.8152, 'recall': 0.7407, 'fscore': 0.772, 'auc': 0.9259, 'acc': 0.9483}, 'POLITICS': {'precision': 0.9583, 'recall': 0.6667, 'fscore': 0.7283, 'auc': 1.0, 'acc': 0.92}, 'SOCIETY': {'precision': 0.9121, 'recall': 0.6944, 'fscore': 0.7471, 'auc': 0.9402, 'acc': 0.8939}, 'HEALTH': {'precision': 1.0, 'recall': 1.0, 'fscore': 1.0, 'auc': 1.0, 'acc': 1.0}, 'metric': 0.948017549707655, 'fscore': 0.7808325376580069, 'recall': 0.7289480085406175, 'precision': 0.9145136034449012, 'acc': 0.8969907407407407}\n",
            "Max {'DISASTERS': {'precision': 0.9141, 'recall': 0.7559, 'fscore': 0.8014, 'auc': 0.9539, 'acc': 0.8853}, 'FINANCE': {'precision': 0.8152, 'recall': 0.7407, 'fscore': 0.772, 'auc': 0.9259, 'acc': 0.9483}, 'POLITICS': {'precision': 0.9583, 'recall': 0.6667, 'fscore': 0.7283, 'auc': 1.0, 'acc': 0.92}, 'SOCIETY': {'precision': 0.9121, 'recall': 0.6944, 'fscore': 0.7471, 'auc': 0.9402, 'acc': 0.8939}, 'HEALTH': {'precision': 1.0, 'recall': 1.0, 'fscore': 1.0, 'auc': 1.0, 'acc': 1.0}, 'metric': 0.948017549707655, 'fscore': 0.7808325376580069, 'recall': 0.7289480085406175, 'precision': 0.9145136034449012, 'acc': 0.8969907407407407}\n",
            "100% 96/96 [00:20<00:00,  4.78it/s]\n",
            "100% 27/27 [00:04<00:00,  5.56it/s]\n",
            "5_domain_avg_type1 - VAL Epoch 3;  VAL_AUC 0.9405400048649087\n",
            "curent {'DISASTERS': {'precision': 0.9161, 'recall': 0.793, 'fscore': 0.8344, 'auc': 0.946, 'acc': 0.9}, 'FINANCE': {'precision': 0.9821, 'recall': 0.75, 'fscore': 0.8242, 'auc': 0.9722, 'acc': 0.9655}, 'POLITICS': {'precision': 0.9583, 'recall': 0.6667, 'fscore': 0.7283, 'auc': 0.9848, 'acc': 0.92}, 'SOCIETY': {'precision': 0.8827, 'recall': 0.6915, 'fscore': 0.7403, 'auc': 0.9299, 'acc': 0.8892}, 'HEALTH': {'precision': 1.0, 'recall': 1.0, 'fscore': 1.0, 'auc': 1.0, 'acc': 1.0}, 'metric': 0.9405400048649087, 'fscore': 0.7964833520389075, 'recall': 0.7466418616383932, 'precision': 0.9091737908770252, 'acc': 0.9016203703703703}\n",
            "Max {'DISASTERS': {'precision': 0.9141, 'recall': 0.7559, 'fscore': 0.8014, 'auc': 0.9539, 'acc': 0.8853}, 'FINANCE': {'precision': 0.8152, 'recall': 0.7407, 'fscore': 0.772, 'auc': 0.9259, 'acc': 0.9483}, 'POLITICS': {'precision': 0.9583, 'recall': 0.6667, 'fscore': 0.7283, 'auc': 1.0, 'acc': 0.92}, 'SOCIETY': {'precision': 0.9121, 'recall': 0.6944, 'fscore': 0.7471, 'auc': 0.9402, 'acc': 0.8939}, 'HEALTH': {'precision': 1.0, 'recall': 1.0, 'fscore': 1.0, 'auc': 1.0, 'acc': 1.0}, 'metric': 0.948017549707655, 'fscore': 0.7808325376580069, 'recall': 0.7289480085406175, 'precision': 0.9145136034449012, 'acc': 0.8969907407407407}\n",
            "100% 96/96 [00:20<00:00,  4.80it/s]\n",
            "100% 27/27 [00:04<00:00,  5.56it/s]\n",
            "5_domain_avg_type1 - VAL Epoch 4;  VAL_AUC 0.9050081532266057\n",
            "curent {'DISASTERS': {'precision': 0.8614, 'recall': 0.7048, 'fscore': 0.7436, 'auc': 0.9097, 'acc': 0.8559}, 'FINANCE': {'precision': 0.8152, 'recall': 0.7407, 'fscore': 0.772, 'auc': 0.912, 'acc': 0.9483}, 'POLITICS': {'precision': 0.9583, 'recall': 0.6667, 'fscore': 0.7283, 'auc': 0.9697, 'acc': 0.92}, 'SOCIETY': {'precision': 0.8489, 'recall': 0.6746, 'fscore': 0.7182, 'auc': 0.8931, 'acc': 0.8797}, 'HEALTH': {'precision': 0.9688, 'recall': 0.75, 'fscore': 0.8172, 'auc': 0.9667, 'acc': 0.9412}, 'metric': 0.9050081532266057, 'fscore': 0.7361239166513001, 'recall': 0.6921503797331507, 'precision': 0.8604309252217998, 'acc': 0.8773148148148148}\n",
            "Max {'DISASTERS': {'precision': 0.9141, 'recall': 0.7559, 'fscore': 0.8014, 'auc': 0.9539, 'acc': 0.8853}, 'FINANCE': {'precision': 0.8152, 'recall': 0.7407, 'fscore': 0.772, 'auc': 0.9259, 'acc': 0.9483}, 'POLITICS': {'precision': 0.9583, 'recall': 0.6667, 'fscore': 0.7283, 'auc': 1.0, 'acc': 0.92}, 'SOCIETY': {'precision': 0.9121, 'recall': 0.6944, 'fscore': 0.7471, 'auc': 0.9402, 'acc': 0.8939}, 'HEALTH': {'precision': 1.0, 'recall': 1.0, 'fscore': 1.0, 'auc': 1.0, 'acc': 1.0}, 'metric': 0.948017549707655, 'fscore': 0.7808325376580069, 'recall': 0.7289480085406175, 'precision': 0.9145136034449012, 'acc': 0.8969907407407407}\n",
            "100% 96/96 [00:20<00:00,  4.79it/s]\n",
            "100% 27/27 [00:04<00:00,  5.57it/s]\n",
            "5_domain_avg_type1 - VAL Epoch 5;  VAL_AUC 0.9455760862710475\n",
            "curent {'DISASTERS': {'precision': 0.914, 'recall': 0.7865, 'fscore': 0.8285, 'auc': 0.9582, 'acc': 0.8971}, 'FINANCE': {'precision': 0.9821, 'recall': 0.75, 'fscore': 0.8242, 'auc': 0.9352, 'acc': 0.9655}, 'POLITICS': {'precision': 0.9583, 'recall': 0.6667, 'fscore': 0.7283, 'auc': 0.9545, 'acc': 0.92}, 'SOCIETY': {'precision': 0.8603, 'recall': 0.6957, 'fscore': 0.7412, 'auc': 0.9299, 'acc': 0.8868}, 'HEALTH': {'precision': 1.0, 'recall': 1.0, 'fscore': 1.0, 'auc': 1.0, 'acc': 1.0}, 'metric': 0.9455760862710475, 'fscore': 0.793116545336948, 'recall': 0.7452274344813917, 'precision': 0.8986059044048735, 'acc': 0.8993055555555556}\n",
            "Max {'DISASTERS': {'precision': 0.9141, 'recall': 0.7559, 'fscore': 0.8014, 'auc': 0.9539, 'acc': 0.8853}, 'FINANCE': {'precision': 0.8152, 'recall': 0.7407, 'fscore': 0.772, 'auc': 0.9259, 'acc': 0.9483}, 'POLITICS': {'precision': 0.9583, 'recall': 0.6667, 'fscore': 0.7283, 'auc': 1.0, 'acc': 0.92}, 'SOCIETY': {'precision': 0.9121, 'recall': 0.6944, 'fscore': 0.7471, 'auc': 0.9402, 'acc': 0.8939}, 'HEALTH': {'precision': 1.0, 'recall': 1.0, 'fscore': 1.0, 'auc': 1.0, 'acc': 1.0}, 'metric': 0.948017549707655, 'fscore': 0.7808325376580069, 'recall': 0.7289480085406175, 'precision': 0.9145136034449012, 'acc': 0.8969907407407407}\n",
            "100% 13/13 [00:02<00:00,  5.32it/s]\n",
            "{'DISASTERS': {'precision': 0.9056, 'recall': 0.7396, 'fscore': 0.783, 'auc': 0.9526, 'acc': 0.872}, 'FINANCE': {'precision': 1.0, 'recall': 1.0, 'fscore': 1.0, 'auc': 1.0, 'acc': 1.0}, 'POLITICS': {'precision': 0.6389, 'recall': 0.6042, 'fscore': 0.6118, 'auc': 0.625, 'acc': 0.7273}, 'SOCIETY': {'precision': 0.8684, 'recall': 0.6714, 'fscore': 0.7184, 'auc': 0.8618, 'acc': 0.8878}, 'HEALTH': {'precision': 0.9545, 'recall': 0.75, 'fscore': 0.8095, 'auc': 1.0, 'acc': 0.9167}, 'metric': 0.9141640866873066, 'fscore': 0.7593511145026892, 'recall': 0.7112229102167182, 'precision': 0.8892177137559722, 'acc': 0.8870192307692307}\n"
          ]
        }
      ]
    },
    {
      "cell_type": "markdown",
      "source": [
        "## 3. mdfend + meta - 5domain"
      ],
      "metadata": {
        "id": "JUqjviaz3cMD"
      }
    },
    {
      "cell_type": "code",
      "source": [
        "## concat - lr: 0.001\n",
        "!python3 main.py --model_name mdfend --batchsize 32 --lr 0.001 --type_fusion 3"
      ],
      "metadata": {
        "colab": {
          "base_uri": "https://localhost:8080/"
        },
        "id": "R6G0znVU3sfB",
        "outputId": "9b458725-4701-4b2a-8279-2a4bffb69c20"
      },
      "execution_count": 17,
      "outputs": [
        {
          "output_type": "stream",
          "name": "stdout",
          "text": [
            "type_fusion: 3; lr: 0.001; model name: mdfend; emb_type: bert; batchsize: 32; epoch: 50; gpu: 0; emb_dim: 768\n",
            "Special tokens have been added in the vocabulary, make sure the associated word embeddings are fine-tuned or trained.\n",
            "Special tokens have been added in the vocabulary, make sure the associated word embeddings are fine-tuned or trained.\n",
            "Special tokens have been added in the vocabulary, make sure the associated word embeddings are fine-tuned or trained.\n",
            "Some weights of the model checkpoint at vinai/phobert-base were not used when initializing RobertaModel: ['lm_head.layer_norm.bias', 'lm_head.layer_norm.weight', 'lm_head.dense.weight', 'lm_head.decoder.weight', 'lm_head.dense.bias', 'lm_head.bias', 'lm_head.decoder.bias']\n",
            "- This IS expected if you are initializing RobertaModel from the checkpoint of a model trained on another task or with another architecture (e.g. initializing a BertForSequenceClassification model from a BertForPreTraining model).\n",
            "- This IS NOT expected if you are initializing RobertaModel from the checkpoint of a model that you expect to be exactly identical (initializing a BertForSequenceClassification model from a BertForSequenceClassification model).\n",
            "100% 96/96 [00:19<00:00,  4.83it/s]\n",
            "100% 27/27 [00:04<00:00,  5.58it/s]\n",
            "5_domain_concat_type3 - VAL Epoch 1;  VAL_AUC 0.9950630185857531\n",
            "curent {'DISASTERS': {'precision': 0.9639, 'recall': 0.9886, 'fscore': 0.9755, 'auc': 0.9975, 'acc': 0.9824}, 'FINANCE': {'precision': 1.0, 'recall': 1.0, 'fscore': 1.0, 'auc': 1.0, 'acc': 1.0}, 'POLITICS': {'precision': 0.8, 'recall': 0.9545, 'fscore': 0.8512, 'auc': 1.0, 'acc': 0.92}, 'SOCIETY': {'precision': 0.9416, 'recall': 0.9802, 'fscore': 0.9595, 'auc': 0.9915, 'acc': 0.9764}, 'HEALTH': {'precision': 1.0, 'recall': 1.0, 'fscore': 1.0, 'auc': 1.0, 'acc': 1.0}, 'metric': 0.9950630185857531, 'fscore': 0.9662895044869293, 'recall': 0.9847926557896918, 'precision': 0.9501434630216742, 'acc': 0.9791666666666666}\n",
            "Max {'DISASTERS': {'precision': 0.9639, 'recall': 0.9886, 'fscore': 0.9755, 'auc': 0.9975, 'acc': 0.9824}, 'FINANCE': {'precision': 1.0, 'recall': 1.0, 'fscore': 1.0, 'auc': 1.0, 'acc': 1.0}, 'POLITICS': {'precision': 0.8, 'recall': 0.9545, 'fscore': 0.8512, 'auc': 1.0, 'acc': 0.92}, 'SOCIETY': {'precision': 0.9416, 'recall': 0.9802, 'fscore': 0.9595, 'auc': 0.9915, 'acc': 0.9764}, 'HEALTH': {'precision': 1.0, 'recall': 1.0, 'fscore': 1.0, 'auc': 1.0, 'acc': 1.0}, 'metric': 0.9950630185857531, 'fscore': 0.9662895044869293, 'recall': 0.9847926557896918, 'precision': 0.9501434630216742, 'acc': 0.9791666666666666}\n",
            "100% 96/96 [00:19<00:00,  4.85it/s]\n",
            "100% 27/27 [00:04<00:00,  5.59it/s]\n",
            "5_domain_concat_type3 - VAL Epoch 2;  VAL_AUC 0.9981801637852594\n",
            "curent {'DISASTERS': {'precision': 0.9873, 'recall': 0.9962, 'fscore': 0.9917, 'auc': 0.9998, 'acc': 0.9941}, 'FINANCE': {'precision': 1.0, 'recall': 1.0, 'fscore': 1.0, 'auc': 1.0, 'acc': 1.0}, 'POLITICS': {'precision': 1.0, 'recall': 1.0, 'fscore': 1.0, 'auc': 1.0, 'acc': 1.0}, 'SOCIETY': {'precision': 0.9552, 'recall': 0.9704, 'fscore': 0.9626, 'auc': 0.9959, 'acc': 0.9788}, 'HEALTH': {'precision': 1.0, 'recall': 1.0, 'fscore': 1.0, 'auc': 1.0, 'acc': 1.0}, 'metric': 0.9981801637852594, 'fscore': 0.9788551430459362, 'recall': 0.9847881512446058, 'precision': 0.9731718898385565, 'acc': 0.9872685185185185}\n",
            "Max {'DISASTERS': {'precision': 0.9873, 'recall': 0.9962, 'fscore': 0.9917, 'auc': 0.9998, 'acc': 0.9941}, 'FINANCE': {'precision': 1.0, 'recall': 1.0, 'fscore': 1.0, 'auc': 1.0, 'acc': 1.0}, 'POLITICS': {'precision': 1.0, 'recall': 1.0, 'fscore': 1.0, 'auc': 1.0, 'acc': 1.0}, 'SOCIETY': {'precision': 0.9552, 'recall': 0.9704, 'fscore': 0.9626, 'auc': 0.9959, 'acc': 0.9788}, 'HEALTH': {'precision': 1.0, 'recall': 1.0, 'fscore': 1.0, 'auc': 1.0, 'acc': 1.0}, 'metric': 0.9981801637852594, 'fscore': 0.9788551430459362, 'recall': 0.9847881512446058, 'precision': 0.9731718898385565, 'acc': 0.9872685185185185}\n",
            "100% 96/96 [00:19<00:00,  4.85it/s]\n",
            "100% 27/27 [00:04<00:00,  5.59it/s]\n",
            "5_domain_concat_type3 - VAL Epoch 3;  VAL_AUC 0.997306282038577\n",
            "curent {'DISASTERS': {'precision': 0.9753, 'recall': 0.9924, 'fscore': 0.9835, 'auc': 0.999, 'acc': 0.9882}, 'FINANCE': {'precision': 1.0, 'recall': 1.0, 'fscore': 1.0, 'auc': 1.0, 'acc': 1.0}, 'POLITICS': {'precision': 1.0, 'recall': 1.0, 'fscore': 1.0, 'auc': 1.0, 'acc': 1.0}, 'SOCIETY': {'precision': 0.9452, 'recall': 0.9746, 'fscore': 0.9591, 'auc': 0.9952, 'acc': 0.9764}, 'HEALTH': {'precision': 1.0, 'recall': 1.0, 'fscore': 1.0, 'auc': 1.0, 'acc': 1.0}, 'metric': 0.997306282038577, 'fscore': 0.9734093067426401, 'recall': 0.9851440103063991, 'precision': 0.9626371360578698, 'acc': 0.9837962962962963}\n",
            "Max {'DISASTERS': {'precision': 0.9873, 'recall': 0.9962, 'fscore': 0.9917, 'auc': 0.9998, 'acc': 0.9941}, 'FINANCE': {'precision': 1.0, 'recall': 1.0, 'fscore': 1.0, 'auc': 1.0, 'acc': 1.0}, 'POLITICS': {'precision': 1.0, 'recall': 1.0, 'fscore': 1.0, 'auc': 1.0, 'acc': 1.0}, 'SOCIETY': {'precision': 0.9552, 'recall': 0.9704, 'fscore': 0.9626, 'auc': 0.9959, 'acc': 0.9788}, 'HEALTH': {'precision': 1.0, 'recall': 1.0, 'fscore': 1.0, 'auc': 1.0, 'acc': 1.0}, 'metric': 0.9981801637852594, 'fscore': 0.9788551430459362, 'recall': 0.9847881512446058, 'precision': 0.9731718898385565, 'acc': 0.9872685185185185}\n",
            "100% 96/96 [00:19<00:00,  4.86it/s]\n",
            "100% 27/27 [00:04<00:00,  5.58it/s]\n",
            "5_domain_concat_type3 - VAL Epoch 4;  VAL_AUC 0.998351336498527\n",
            "curent {'DISASTERS': {'precision': 0.9753, 'recall': 0.9924, 'fscore': 0.9835, 'auc': 0.9992, 'acc': 0.9882}, 'FINANCE': {'precision': 1.0, 'recall': 1.0, 'fscore': 1.0, 'auc': 1.0, 'acc': 1.0}, 'POLITICS': {'precision': 1.0, 'recall': 1.0, 'fscore': 1.0, 'auc': 1.0, 'acc': 1.0}, 'SOCIETY': {'precision': 0.949, 'recall': 0.969, 'fscore': 0.9586, 'auc': 0.997, 'acc': 0.9764}, 'HEALTH': {'precision': 1.0, 'recall': 1.0, 'fscore': 1.0, 'auc': 1.0, 'acc': 1.0}, 'metric': 0.998351336498527, 'fscore': 0.9732822066918176, 'recall': 0.9826665105091037, 'precision': 0.9645207439198855, 'acc': 0.9837962962962963}\n",
            "Max {'DISASTERS': {'precision': 0.9753, 'recall': 0.9924, 'fscore': 0.9835, 'auc': 0.9992, 'acc': 0.9882}, 'FINANCE': {'precision': 1.0, 'recall': 1.0, 'fscore': 1.0, 'auc': 1.0, 'acc': 1.0}, 'POLITICS': {'precision': 1.0, 'recall': 1.0, 'fscore': 1.0, 'auc': 1.0, 'acc': 1.0}, 'SOCIETY': {'precision': 0.949, 'recall': 0.969, 'fscore': 0.9586, 'auc': 0.997, 'acc': 0.9764}, 'HEALTH': {'precision': 1.0, 'recall': 1.0, 'fscore': 1.0, 'auc': 1.0, 'acc': 1.0}, 'metric': 0.998351336498527, 'fscore': 0.9732822066918176, 'recall': 0.9826665105091037, 'precision': 0.9645207439198855, 'acc': 0.9837962962962963}\n",
            "100% 96/96 [00:19<00:00,  4.85it/s]\n",
            "100% 27/27 [00:04<00:00,  5.55it/s]\n",
            "5_domain_concat_type3 - VAL Epoch 5;  VAL_AUC 0.9979909728916477\n",
            "curent {'DISASTERS': {'precision': 0.9753, 'recall': 0.9924, 'fscore': 0.9835, 'auc': 0.9999, 'acc': 0.9882}, 'FINANCE': {'precision': 1.0, 'recall': 1.0, 'fscore': 1.0, 'auc': 1.0, 'acc': 1.0}, 'POLITICS': {'precision': 1.0, 'recall': 1.0, 'fscore': 1.0, 'auc': 1.0, 'acc': 1.0}, 'SOCIETY': {'precision': 0.9511, 'recall': 0.976, 'fscore': 0.963, 'auc': 0.9961, 'acc': 0.9788}, 'HEALTH': {'precision': 0.8333, 'recall': 0.9667, 'fscore': 0.8828, 'auc': 1.0, 'acc': 0.9412}, 'metric': 0.9979909728916477, 'fscore': 0.9734093067426401, 'recall': 0.9851440103063991, 'precision': 0.9626371360578698, 'acc': 0.9837962962962963}\n",
            "Max {'DISASTERS': {'precision': 0.9753, 'recall': 0.9924, 'fscore': 0.9835, 'auc': 0.9992, 'acc': 0.9882}, 'FINANCE': {'precision': 1.0, 'recall': 1.0, 'fscore': 1.0, 'auc': 1.0, 'acc': 1.0}, 'POLITICS': {'precision': 1.0, 'recall': 1.0, 'fscore': 1.0, 'auc': 1.0, 'acc': 1.0}, 'SOCIETY': {'precision': 0.949, 'recall': 0.969, 'fscore': 0.9586, 'auc': 0.997, 'acc': 0.9764}, 'HEALTH': {'precision': 1.0, 'recall': 1.0, 'fscore': 1.0, 'auc': 1.0, 'acc': 1.0}, 'metric': 0.998351336498527, 'fscore': 0.9732822066918176, 'recall': 0.9826665105091037, 'precision': 0.9645207439198855, 'acc': 0.9837962962962963}\n",
            "100% 96/96 [00:19<00:00,  4.86it/s]\n",
            "100% 27/27 [00:04<00:00,  5.58it/s]\n",
            "5_domain_concat_type3 - VAL Epoch 6;  VAL_AUC 0.9981621456049153\n",
            "curent {'DISASTERS': {'precision': 0.9695, 'recall': 0.9905, 'fscore': 0.9795, 'auc': 0.9996, 'acc': 0.9853}, 'FINANCE': {'precision': 1.0, 'recall': 1.0, 'fscore': 1.0, 'auc': 1.0, 'acc': 1.0}, 'POLITICS': {'precision': 0.875, 'recall': 0.9773, 'fscore': 0.9169, 'auc': 0.9848, 'acc': 0.96}, 'SOCIETY': {'precision': 0.9394, 'recall': 0.9732, 'fscore': 0.9552, 'auc': 0.9966, 'acc': 0.9741}, 'HEALTH': {'precision': 1.0, 'recall': 1.0, 'fscore': 1.0, 'auc': 1.0, 'acc': 1.0}, 'metric': 0.9981621456049153, 'fscore': 0.9679390212757598, 'recall': 0.9830223695708971, 'precision': 0.9544414307509748, 'acc': 0.9803240740740741}\n",
            "Max {'DISASTERS': {'precision': 0.9753, 'recall': 0.9924, 'fscore': 0.9835, 'auc': 0.9992, 'acc': 0.9882}, 'FINANCE': {'precision': 1.0, 'recall': 1.0, 'fscore': 1.0, 'auc': 1.0, 'acc': 1.0}, 'POLITICS': {'precision': 1.0, 'recall': 1.0, 'fscore': 1.0, 'auc': 1.0, 'acc': 1.0}, 'SOCIETY': {'precision': 0.949, 'recall': 0.969, 'fscore': 0.9586, 'auc': 0.997, 'acc': 0.9764}, 'HEALTH': {'precision': 1.0, 'recall': 1.0, 'fscore': 1.0, 'auc': 1.0, 'acc': 1.0}, 'metric': 0.998351336498527, 'fscore': 0.9732822066918176, 'recall': 0.9826665105091037, 'precision': 0.9645207439198855, 'acc': 0.9837962962962963}\n",
            "100% 96/96 [00:19<00:00,  4.86it/s]\n",
            "100% 27/27 [00:04<00:00,  5.55it/s]\n",
            "5_domain_concat_type3 - VAL Epoch 7;  VAL_AUC 0.9916575825007433\n",
            "curent {'DISASTERS': {'precision': 0.9748, 'recall': 0.9748, 'fscore': 0.9748, 'auc': 0.9881, 'acc': 0.9824}, 'FINANCE': {'precision': 1.0, 'recall': 1.0, 'fscore': 1.0, 'auc': 1.0, 'acc': 1.0}, 'POLITICS': {'precision': 0.7262, 'recall': 0.7879, 'fscore': 0.7508, 'auc': 0.9697, 'acc': 0.88}, 'SOCIETY': {'precision': 0.9511, 'recall': 0.976, 'fscore': 0.963, 'auc': 0.9957, 'acc': 0.9788}, 'HEALTH': {'precision': 0.8333, 'recall': 0.9667, 'fscore': 0.8828, 'auc': 1.0, 'acc': 0.9412}, 'metric': 0.9916575825007433, 'fscore': 0.9636530299105275, 'recall': 0.9716979432247137, 'precision': 0.9560801393728223, 'acc': 0.9780092592592593}\n",
            "Max {'DISASTERS': {'precision': 0.9753, 'recall': 0.9924, 'fscore': 0.9835, 'auc': 0.9992, 'acc': 0.9882}, 'FINANCE': {'precision': 1.0, 'recall': 1.0, 'fscore': 1.0, 'auc': 1.0, 'acc': 1.0}, 'POLITICS': {'precision': 1.0, 'recall': 1.0, 'fscore': 1.0, 'auc': 1.0, 'acc': 1.0}, 'SOCIETY': {'precision': 0.949, 'recall': 0.969, 'fscore': 0.9586, 'auc': 0.997, 'acc': 0.9764}, 'HEALTH': {'precision': 1.0, 'recall': 1.0, 'fscore': 1.0, 'auc': 1.0, 'acc': 1.0}, 'metric': 0.998351336498527, 'fscore': 0.9732822066918176, 'recall': 0.9826665105091037, 'precision': 0.9645207439198855, 'acc': 0.9837962962962963}\n",
            "100% 13/13 [00:02<00:00,  5.30it/s]\n",
            "/usr/local/lib/python3.7/dist-packages/sklearn/metrics/_classification.py:1318: UndefinedMetricWarning: Precision is ill-defined and being set to 0.0 in labels with no predicted samples. Use `zero_division` parameter to control this behavior.\n",
            "  _warn_prf(average, modifier, msg_start, len(result))\n",
            "/usr/local/lib/python3.7/dist-packages/sklearn/metrics/_classification.py:1318: UndefinedMetricWarning: Precision is ill-defined and being set to 0.0 in labels with no predicted samples. Use `zero_division` parameter to control this behavior.\n",
            "  _warn_prf(average, modifier, msg_start, len(result))\n",
            "{'DISASTERS': {'precision': 0.7184, 'recall': 0.5216, 'fscore': 0.4812, 'auc': 0.7828, 'acc': 0.7683}, 'FINANCE': {'precision': 0.4848, 'recall': 0.5, 'fscore': 0.4923, 'auc': 0.9375, 'acc': 0.9697}, 'POLITICS': {'precision': 0.9, 'recall': 0.6667, 'fscore': 0.6944, 'auc': 0.75, 'acc': 0.8182}, 'SOCIETY': {'precision': 0.8085, 'recall': 0.5907, 'fscore': 0.6156, 'auc': 0.7513, 'acc': 0.8622}, 'HEALTH': {'precision': 0.4167, 'recall': 0.5, 'fscore': 0.4545, 'auc': 0.85, 'acc': 0.8333}, 'metric': 0.7672213622291022, 'fscore': 0.555229716520039, 'recall': 0.5547987616099072, 'precision': 0.7920792079207921, 'acc': 0.8317307692307693}\n"
          ]
        }
      ]
    },
    {
      "cell_type": "code",
      "source": [
        "## sum - lr: 0.001\n",
        "!python3 main.py --model_name mdfend --batchsize 32 --lr 0.001 --type_fusion 3"
      ],
      "metadata": {
        "colab": {
          "base_uri": "https://localhost:8080/"
        },
        "id": "ke8lFti73sTR",
        "outputId": "8e5664bf-b9eb-4443-e5c8-11f0f0524c60"
      },
      "execution_count": 18,
      "outputs": [
        {
          "output_type": "stream",
          "name": "stdout",
          "text": [
            "type_fusion: 3; lr: 0.001; model name: mdfend; emb_type: bert; batchsize: 32; epoch: 50; gpu: 0; emb_dim: 768\n",
            "Special tokens have been added in the vocabulary, make sure the associated word embeddings are fine-tuned or trained.\n",
            "Special tokens have been added in the vocabulary, make sure the associated word embeddings are fine-tuned or trained.\n",
            "Special tokens have been added in the vocabulary, make sure the associated word embeddings are fine-tuned or trained.\n",
            "Some weights of the model checkpoint at vinai/phobert-base were not used when initializing RobertaModel: ['lm_head.layer_norm.weight', 'lm_head.layer_norm.bias', 'lm_head.dense.bias', 'lm_head.decoder.weight', 'lm_head.bias', 'lm_head.decoder.bias', 'lm_head.dense.weight']\n",
            "- This IS expected if you are initializing RobertaModel from the checkpoint of a model trained on another task or with another architecture (e.g. initializing a BertForSequenceClassification model from a BertForPreTraining model).\n",
            "- This IS NOT expected if you are initializing RobertaModel from the checkpoint of a model that you expect to be exactly identical (initializing a BertForSequenceClassification model from a BertForSequenceClassification model).\n",
            "100% 96/96 [00:19<00:00,  4.83it/s]\n",
            "100% 27/27 [00:04<00:00,  5.59it/s]\n",
            "5_domain_sum_type3 - VAL Epoch 1;  VAL_AUC 0.994054000486491\n",
            "curent {'DISASTERS': {'precision': 0.9583, 'recall': 0.9867, 'fscore': 0.9715, 'auc': 0.9968, 'acc': 0.9794}, 'FINANCE': {'precision': 1.0, 'recall': 1.0, 'fscore': 1.0, 'auc': 1.0, 'acc': 1.0}, 'POLITICS': {'precision': 0.8, 'recall': 0.9545, 'fscore': 0.8512, 'auc': 1.0, 'acc': 0.92}, 'SOCIETY': {'precision': 0.9176, 'recall': 0.9802, 'fscore': 0.945, 'auc': 0.9907, 'acc': 0.967}, 'HEALTH': {'precision': 0.8333, 'recall': 0.9667, 'fscore': 0.8828, 'auc': 1.0, 'acc': 0.9412}, 'metric': 0.994054000486491, 'fscore': 0.9558639478949384, 'recall': 0.9830268741159831, 'precision': 0.9337016574585635, 'acc': 0.9722222222222222}\n",
            "Max {'DISASTERS': {'precision': 0.9583, 'recall': 0.9867, 'fscore': 0.9715, 'auc': 0.9968, 'acc': 0.9794}, 'FINANCE': {'precision': 1.0, 'recall': 1.0, 'fscore': 1.0, 'auc': 1.0, 'acc': 1.0}, 'POLITICS': {'precision': 0.8, 'recall': 0.9545, 'fscore': 0.8512, 'auc': 1.0, 'acc': 0.92}, 'SOCIETY': {'precision': 0.9176, 'recall': 0.9802, 'fscore': 0.945, 'auc': 0.9907, 'acc': 0.967}, 'HEALTH': {'precision': 0.8333, 'recall': 0.9667, 'fscore': 0.8828, 'auc': 1.0, 'acc': 0.9412}, 'metric': 0.994054000486491, 'fscore': 0.9558639478949384, 'recall': 0.9830268741159831, 'precision': 0.9337016574585635, 'acc': 0.9722222222222222}\n",
            "100% 96/96 [00:19<00:00,  4.85it/s]\n",
            "100% 27/27 [00:04<00:00,  5.58it/s]\n",
            "5_domain_sum_type3 - VAL Epoch 2;  VAL_AUC 0.9947116640690458\n",
            "curent {'DISASTERS': {'precision': 0.9639, 'recall': 0.9886, 'fscore': 0.9755, 'auc': 0.9968, 'acc': 0.9824}, 'FINANCE': {'precision': 1.0, 'recall': 1.0, 'fscore': 1.0, 'auc': 1.0, 'acc': 1.0}, 'POLITICS': {'precision': 0.8, 'recall': 0.9545, 'fscore': 0.8512, 'auc': 0.9848, 'acc': 0.92}, 'SOCIETY': {'precision': 0.9283, 'recall': 0.9703, 'fscore': 0.9476, 'auc': 0.9905, 'acc': 0.9693}, 'HEALTH': {'precision': 1.0, 'recall': 1.0, 'fscore': 1.0, 'auc': 1.0, 'acc': 1.0}, 'metric': 0.9947116640690458, 'fscore': 0.9607618396780325, 'recall': 0.9801935152568941, 'precision': 0.9439530234882558, 'acc': 0.9756944444444444}\n",
            "Max {'DISASTERS': {'precision': 0.9639, 'recall': 0.9886, 'fscore': 0.9755, 'auc': 0.9968, 'acc': 0.9824}, 'FINANCE': {'precision': 1.0, 'recall': 1.0, 'fscore': 1.0, 'auc': 1.0, 'acc': 1.0}, 'POLITICS': {'precision': 0.8, 'recall': 0.9545, 'fscore': 0.8512, 'auc': 0.9848, 'acc': 0.92}, 'SOCIETY': {'precision': 0.9283, 'recall': 0.9703, 'fscore': 0.9476, 'auc': 0.9905, 'acc': 0.9693}, 'HEALTH': {'precision': 1.0, 'recall': 1.0, 'fscore': 1.0, 'auc': 1.0, 'acc': 1.0}, 'metric': 0.9947116640690458, 'fscore': 0.9607618396780325, 'recall': 0.9801935152568941, 'precision': 0.9439530234882558, 'acc': 0.9756944444444444}\n",
            "100% 96/96 [00:19<00:00,  4.85it/s]\n",
            "100% 27/27 [00:04<00:00,  5.58it/s]\n",
            "5_domain_sum_type3 - VAL Epoch 3;  VAL_AUC 0.9960179821439833\n",
            "curent {'DISASTERS': {'precision': 0.9639, 'recall': 0.9886, 'fscore': 0.9755, 'auc': 0.9989, 'acc': 0.9824}, 'FINANCE': {'precision': 1.0, 'recall': 1.0, 'fscore': 1.0, 'auc': 1.0, 'acc': 1.0}, 'POLITICS': {'precision': 0.8106, 'recall': 0.8106, 'fscore': 0.8106, 'auc': 0.9697, 'acc': 0.92}, 'SOCIETY': {'precision': 0.9552, 'recall': 0.9704, 'fscore': 0.9626, 'auc': 0.9927, 'acc': 0.9788}, 'HEALTH': {'precision': 0.8333, 'recall': 0.9667, 'fscore': 0.8828, 'auc': 1.0, 'acc': 0.9412}, 'metric': 0.9960179821439833, 'fscore': 0.9658119658119658, 'recall': 0.9773601563978054, 'precision': 0.9552143918762188, 'acc': 0.9791666666666666}\n",
            "Max {'DISASTERS': {'precision': 0.9639, 'recall': 0.9886, 'fscore': 0.9755, 'auc': 0.9989, 'acc': 0.9824}, 'FINANCE': {'precision': 1.0, 'recall': 1.0, 'fscore': 1.0, 'auc': 1.0, 'acc': 1.0}, 'POLITICS': {'precision': 0.8106, 'recall': 0.8106, 'fscore': 0.8106, 'auc': 0.9697, 'acc': 0.92}, 'SOCIETY': {'precision': 0.9552, 'recall': 0.9704, 'fscore': 0.9626, 'auc': 0.9927, 'acc': 0.9788}, 'HEALTH': {'precision': 0.8333, 'recall': 0.9667, 'fscore': 0.8828, 'auc': 1.0, 'acc': 0.9412}, 'metric': 0.9960179821439833, 'fscore': 0.9658119658119658, 'recall': 0.9773601563978054, 'precision': 0.9552143918762188, 'acc': 0.9791666666666666}\n",
            "100% 96/96 [00:19<00:00,  4.86it/s]\n",
            "100% 27/27 [00:04<00:00,  5.57it/s]\n",
            "5_domain_sum_type3 - VAL Epoch 4;  VAL_AUC 0.9974594365715006\n",
            "curent {'DISASTERS': {'precision': 0.9639, 'recall': 0.9886, 'fscore': 0.9755, 'auc': 0.9995, 'acc': 0.9824}, 'FINANCE': {'precision': 1.0, 'recall': 1.0, 'fscore': 1.0, 'auc': 1.0, 'acc': 1.0}, 'POLITICS': {'precision': 0.9783, 'recall': 0.8333, 'fscore': 0.8889, 'auc': 0.9697, 'acc': 0.96}, 'SOCIETY': {'precision': 0.9511, 'recall': 0.976, 'fscore': 0.963, 'auc': 0.9955, 'acc': 0.9788}, 'HEALTH': {'precision': 0.8333, 'recall': 0.9667, 'fscore': 0.8828, 'auc': 1.0, 'acc': 0.9412}, 'metric': 0.9974594365715006, 'fscore': 0.9677877076594112, 'recall': 0.9805448697736016, 'precision': 0.9561781609195402, 'acc': 0.9803240740740741}\n",
            "Max {'DISASTERS': {'precision': 0.9639, 'recall': 0.9886, 'fscore': 0.9755, 'auc': 0.9995, 'acc': 0.9824}, 'FINANCE': {'precision': 1.0, 'recall': 1.0, 'fscore': 1.0, 'auc': 1.0, 'acc': 1.0}, 'POLITICS': {'precision': 0.9783, 'recall': 0.8333, 'fscore': 0.8889, 'auc': 0.9697, 'acc': 0.96}, 'SOCIETY': {'precision': 0.9511, 'recall': 0.976, 'fscore': 0.963, 'auc': 0.9955, 'acc': 0.9788}, 'HEALTH': {'precision': 0.8333, 'recall': 0.9667, 'fscore': 0.8828, 'auc': 1.0, 'acc': 0.9412}, 'metric': 0.9974594365715006, 'fscore': 0.9677877076594112, 'recall': 0.9805448697736016, 'precision': 0.9561781609195402, 'acc': 0.9803240740740741}\n",
            "100% 96/96 [00:19<00:00,  4.86it/s]\n",
            "100% 27/27 [00:04<00:00,  5.57it/s]\n",
            "5_domain_sum_type3 - VAL Epoch 5;  VAL_AUC 0.997828809268552\n",
            "curent {'DISASTERS': {'precision': 0.9695, 'recall': 0.9905, 'fscore': 0.9795, 'auc': 0.9998, 'acc': 0.9853}, 'FINANCE': {'precision': 1.0, 'recall': 1.0, 'fscore': 1.0, 'auc': 1.0, 'acc': 1.0}, 'POLITICS': {'precision': 0.7262, 'recall': 0.7879, 'fscore': 0.7508, 'auc': 0.9697, 'acc': 0.88}, 'SOCIETY': {'precision': 0.9416, 'recall': 0.9802, 'fscore': 0.9595, 'auc': 0.9959, 'acc': 0.9764}, 'HEALTH': {'precision': 1.0, 'recall': 1.0, 'fscore': 1.0, 'auc': 1.0, 'acc': 1.0}, 'metric': 0.997828809268552, 'fscore': 0.9661324041811847, 'recall': 0.9823151559923964, 'precision': 0.9517733728260044, 'acc': 0.9791666666666666}\n",
            "Max {'DISASTERS': {'precision': 0.9695, 'recall': 0.9905, 'fscore': 0.9795, 'auc': 0.9998, 'acc': 0.9853}, 'FINANCE': {'precision': 1.0, 'recall': 1.0, 'fscore': 1.0, 'auc': 1.0, 'acc': 1.0}, 'POLITICS': {'precision': 0.7262, 'recall': 0.7879, 'fscore': 0.7508, 'auc': 0.9697, 'acc': 0.88}, 'SOCIETY': {'precision': 0.9416, 'recall': 0.9802, 'fscore': 0.9595, 'auc': 0.9959, 'acc': 0.9764}, 'HEALTH': {'precision': 1.0, 'recall': 1.0, 'fscore': 1.0, 'auc': 1.0, 'acc': 1.0}, 'metric': 0.997828809268552, 'fscore': 0.9661324041811847, 'recall': 0.9823151559923964, 'precision': 0.9517733728260044, 'acc': 0.9791666666666666}\n",
            "100% 96/96 [00:19<00:00,  4.86it/s]\n",
            "100% 27/27 [00:04<00:00,  5.55it/s]\n",
            "5_domain_sum_type3 - VAL Epoch 6;  VAL_AUC 0.9979279092604438\n",
            "curent {'DISASTERS': {'precision': 0.9812, 'recall': 0.9943, 'fscore': 0.9876, 'auc': 0.9992, 'acc': 0.9912}, 'FINANCE': {'precision': 1.0, 'recall': 1.0, 'fscore': 1.0, 'auc': 1.0, 'acc': 1.0}, 'POLITICS': {'precision': 0.9783, 'recall': 0.8333, 'fscore': 0.8889, 'auc': 0.9697, 'acc': 0.96}, 'SOCIETY': {'precision': 0.9512, 'recall': 0.9563, 'fscore': 0.9537, 'auc': 0.9964, 'acc': 0.9741}, 'HEALTH': {'precision': 1.0, 'recall': 1.0, 'fscore': 1.0, 'auc': 1.0, 'acc': 1.0}, 'metric': 0.9979279092604438, 'fscore': 0.9710253148425955, 'recall': 0.9745267975387166, 'precision': 0.9676136363636363, 'acc': 0.9826388888888888}\n",
            "Max {'DISASTERS': {'precision': 0.9812, 'recall': 0.9943, 'fscore': 0.9876, 'auc': 0.9992, 'acc': 0.9912}, 'FINANCE': {'precision': 1.0, 'recall': 1.0, 'fscore': 1.0, 'auc': 1.0, 'acc': 1.0}, 'POLITICS': {'precision': 0.9783, 'recall': 0.8333, 'fscore': 0.8889, 'auc': 0.9697, 'acc': 0.96}, 'SOCIETY': {'precision': 0.9512, 'recall': 0.9563, 'fscore': 0.9537, 'auc': 0.9964, 'acc': 0.9741}, 'HEALTH': {'precision': 1.0, 'recall': 1.0, 'fscore': 1.0, 'auc': 1.0, 'acc': 1.0}, 'metric': 0.9979279092604438, 'fscore': 0.9710253148425955, 'recall': 0.9745267975387166, 'precision': 0.9676136363636363, 'acc': 0.9826388888888888}\n",
            "100% 96/96 [00:19<00:00,  4.86it/s]\n",
            "100% 27/27 [00:04<00:00,  5.59it/s]\n",
            "5_domain_sum_type3 - VAL Epoch 7;  VAL_AUC 0.9984504364904189\n",
            "curent {'DISASTERS': {'precision': 0.9812, 'recall': 0.9943, 'fscore': 0.9876, 'auc': 0.9999, 'acc': 0.9912}, 'FINANCE': {'precision': 1.0, 'recall': 1.0, 'fscore': 1.0, 'auc': 1.0, 'acc': 1.0}, 'POLITICS': {'precision': 0.9783, 'recall': 0.8333, 'fscore': 0.8889, 'auc': 0.9697, 'acc': 0.96}, 'SOCIETY': {'precision': 0.9511, 'recall': 0.976, 'fscore': 0.963, 'auc': 0.9967, 'acc': 0.9788}, 'HEALTH': {'precision': 1.0, 'recall': 1.0, 'fscore': 1.0, 'auc': 1.0, 'acc': 1.0}, 'metric': 0.9984504364904189, 'fscore': 0.9751310204650977, 'recall': 0.9833737240876044, 'precision': 0.967369337979094, 'acc': 0.9849537037037037}\n",
            "Max {'DISASTERS': {'precision': 0.9812, 'recall': 0.9943, 'fscore': 0.9876, 'auc': 0.9999, 'acc': 0.9912}, 'FINANCE': {'precision': 1.0, 'recall': 1.0, 'fscore': 1.0, 'auc': 1.0, 'acc': 1.0}, 'POLITICS': {'precision': 0.9783, 'recall': 0.8333, 'fscore': 0.8889, 'auc': 0.9697, 'acc': 0.96}, 'SOCIETY': {'precision': 0.9511, 'recall': 0.976, 'fscore': 0.963, 'auc': 0.9967, 'acc': 0.9788}, 'HEALTH': {'precision': 1.0, 'recall': 1.0, 'fscore': 1.0, 'auc': 1.0, 'acc': 1.0}, 'metric': 0.9984504364904189, 'fscore': 0.9751310204650977, 'recall': 0.9833737240876044, 'precision': 0.967369337979094, 'acc': 0.9849537037037037}\n",
            "100% 96/96 [00:19<00:00,  4.86it/s]\n",
            "100% 27/27 [00:04<00:00,  5.57it/s]\n",
            "5_domain_sum_type3 - VAL Epoch 8;  VAL_AUC 0.9981080910638835\n",
            "curent {'DISASTERS': {'precision': 0.9873, 'recall': 0.9962, 'fscore': 0.9917, 'auc': 0.9989, 'acc': 0.9941}, 'FINANCE': {'precision': 1.0, 'recall': 1.0, 'fscore': 1.0, 'auc': 1.0, 'acc': 1.0}, 'POLITICS': {'precision': 0.9783, 'recall': 0.8333, 'fscore': 0.8889, 'auc': 0.9697, 'acc': 0.96}, 'SOCIETY': {'precision': 0.9452, 'recall': 0.9746, 'fscore': 0.9591, 'auc': 0.9972, 'acc': 0.9764}, 'HEALTH': {'precision': 1.0, 'recall': 1.0, 'fscore': 1.0, 'auc': 1.0, 'acc': 1.0}, 'metric': 0.9981080910638835, 'fscore': 0.9751310204650977, 'recall': 0.9833737240876044, 'precision': 0.967369337979094, 'acc': 0.9849537037037037}\n",
            "Max {'DISASTERS': {'precision': 0.9812, 'recall': 0.9943, 'fscore': 0.9876, 'auc': 0.9999, 'acc': 0.9912}, 'FINANCE': {'precision': 1.0, 'recall': 1.0, 'fscore': 1.0, 'auc': 1.0, 'acc': 1.0}, 'POLITICS': {'precision': 0.9783, 'recall': 0.8333, 'fscore': 0.8889, 'auc': 0.9697, 'acc': 0.96}, 'SOCIETY': {'precision': 0.9511, 'recall': 0.976, 'fscore': 0.963, 'auc': 0.9967, 'acc': 0.9788}, 'HEALTH': {'precision': 1.0, 'recall': 1.0, 'fscore': 1.0, 'auc': 1.0, 'acc': 1.0}, 'metric': 0.9984504364904189, 'fscore': 0.9751310204650977, 'recall': 0.9833737240876044, 'precision': 0.967369337979094, 'acc': 0.9849537037037037}\n",
            "100% 96/96 [00:19<00:00,  4.86it/s]\n",
            "100% 27/27 [00:04<00:00,  5.59it/s]\n",
            "5_domain_sum_type3 - VAL Epoch 9;  VAL_AUC 0.9981531365147435\n",
            "curent {'DISASTERS': {'precision': 0.9812, 'recall': 0.9943, 'fscore': 0.9876, 'auc': 0.9994, 'acc': 0.9912}, 'FINANCE': {'precision': 1.0, 'recall': 1.0, 'fscore': 1.0, 'auc': 1.0, 'acc': 1.0}, 'POLITICS': {'precision': 0.8106, 'recall': 0.8106, 'fscore': 0.8106, 'auc': 0.9697, 'acc': 0.92}, 'SOCIETY': {'precision': 0.949, 'recall': 0.969, 'fscore': 0.9586, 'auc': 0.9973, 'acc': 0.9764}, 'HEALTH': {'precision': 1.0, 'recall': 1.0, 'fscore': 1.0, 'auc': 1.0, 'acc': 1.0}, 'metric': 0.9981531365147435, 'fscore': 0.9713050236135743, 'recall': 0.9794817971333075, 'precision': 0.9636062717770035, 'acc': 0.9826388888888888}\n",
            "Max {'DISASTERS': {'precision': 0.9812, 'recall': 0.9943, 'fscore': 0.9876, 'auc': 0.9999, 'acc': 0.9912}, 'FINANCE': {'precision': 1.0, 'recall': 1.0, 'fscore': 1.0, 'auc': 1.0, 'acc': 1.0}, 'POLITICS': {'precision': 0.9783, 'recall': 0.8333, 'fscore': 0.8889, 'auc': 0.9697, 'acc': 0.96}, 'SOCIETY': {'precision': 0.9511, 'recall': 0.976, 'fscore': 0.963, 'auc': 0.9967, 'acc': 0.9788}, 'HEALTH': {'precision': 1.0, 'recall': 1.0, 'fscore': 1.0, 'auc': 1.0, 'acc': 1.0}, 'metric': 0.9984504364904189, 'fscore': 0.9751310204650977, 'recall': 0.9833737240876044, 'precision': 0.967369337979094, 'acc': 0.9849537037037037}\n",
            "100% 96/96 [00:19<00:00,  4.86it/s]\n",
            "100% 27/27 [00:04<00:00,  5.58it/s]\n",
            "5_domain_sum_type3 - VAL Epoch 10;  VAL_AUC 0.9985405273921386\n",
            "curent {'DISASTERS': {'precision': 0.9753, 'recall': 0.9924, 'fscore': 0.9835, 'auc': 1.0, 'acc': 0.9882}, 'FINANCE': {'precision': 1.0, 'recall': 1.0, 'fscore': 1.0, 'auc': 1.0, 'acc': 1.0}, 'POLITICS': {'precision': 0.8106, 'recall': 0.8106, 'fscore': 0.8106, 'auc': 0.9697, 'acc': 0.92}, 'SOCIETY': {'precision': 0.9511, 'recall': 0.976, 'fscore': 0.963, 'auc': 0.9973, 'acc': 0.9788}, 'HEALTH': {'precision': 0.8333, 'recall': 0.9667, 'fscore': 0.8828, 'auc': 1.0, 'acc': 0.9412}, 'metric': 0.9985405273921386, 'fscore': 0.9696106362773029, 'recall': 0.9812520833521023, 'precision': 0.9589257639670444, 'acc': 0.9814814814814815}\n",
            "Max {'DISASTERS': {'precision': 0.9753, 'recall': 0.9924, 'fscore': 0.9835, 'auc': 1.0, 'acc': 0.9882}, 'FINANCE': {'precision': 1.0, 'recall': 1.0, 'fscore': 1.0, 'auc': 1.0, 'acc': 1.0}, 'POLITICS': {'precision': 0.8106, 'recall': 0.8106, 'fscore': 0.8106, 'auc': 0.9697, 'acc': 0.92}, 'SOCIETY': {'precision': 0.9511, 'recall': 0.976, 'fscore': 0.963, 'auc': 0.9973, 'acc': 0.9788}, 'HEALTH': {'precision': 0.8333, 'recall': 0.9667, 'fscore': 0.8828, 'auc': 1.0, 'acc': 0.9412}, 'metric': 0.9985405273921386, 'fscore': 0.9696106362773029, 'recall': 0.9812520833521023, 'precision': 0.9589257639670444, 'acc': 0.9814814814814815}\n",
            "100% 96/96 [00:19<00:00,  4.85it/s]\n",
            "100% 27/27 [00:04<00:00,  5.58it/s]\n",
            "5_domain_sum_type3 - VAL Epoch 11;  VAL_AUC 0.9987477364660944\n",
            "curent {'DISASTERS': {'precision': 0.9753, 'recall': 0.9924, 'fscore': 0.9835, 'auc': 0.9999, 'acc': 0.9882}, 'FINANCE': {'precision': 1.0, 'recall': 1.0, 'fscore': 1.0, 'auc': 1.0, 'acc': 1.0}, 'POLITICS': {'precision': 0.8106, 'recall': 0.8106, 'fscore': 0.8106, 'auc': 0.9697, 'acc': 0.92}, 'SOCIETY': {'precision': 0.9511, 'recall': 0.976, 'fscore': 0.963, 'auc': 0.9975, 'acc': 0.9788}, 'HEALTH': {'precision': 1.0, 'recall': 1.0, 'fscore': 1.0, 'auc': 1.0, 'acc': 1.0}, 'metric': 0.9987477364660944, 'fscore': 0.971442107466699, 'recall': 0.981959296930603, 'precision': 0.9617064245520766, 'acc': 0.9826388888888888}\n",
            "Max {'DISASTERS': {'precision': 0.9753, 'recall': 0.9924, 'fscore': 0.9835, 'auc': 0.9999, 'acc': 0.9882}, 'FINANCE': {'precision': 1.0, 'recall': 1.0, 'fscore': 1.0, 'auc': 1.0, 'acc': 1.0}, 'POLITICS': {'precision': 0.8106, 'recall': 0.8106, 'fscore': 0.8106, 'auc': 0.9697, 'acc': 0.92}, 'SOCIETY': {'precision': 0.9511, 'recall': 0.976, 'fscore': 0.963, 'auc': 0.9975, 'acc': 0.9788}, 'HEALTH': {'precision': 1.0, 'recall': 1.0, 'fscore': 1.0, 'auc': 1.0, 'acc': 1.0}, 'metric': 0.9987477364660944, 'fscore': 0.971442107466699, 'recall': 0.981959296930603, 'precision': 0.9617064245520766, 'acc': 0.9826388888888888}\n",
            "100% 96/96 [00:19<00:00,  4.85it/s]\n",
            "100% 27/27 [00:04<00:00,  5.57it/s]\n",
            "5_domain_sum_type3 - VAL Epoch 12;  VAL_AUC 0.998891881908846\n",
            "curent {'DISASTERS': {'precision': 0.9812, 'recall': 0.9943, 'fscore': 0.9876, 'auc': 0.9999, 'acc': 0.9912}, 'FINANCE': {'precision': 1.0, 'recall': 1.0, 'fscore': 1.0, 'auc': 1.0, 'acc': 1.0}, 'POLITICS': {'precision': 0.7262, 'recall': 0.7879, 'fscore': 0.7508, 'auc': 0.9697, 'acc': 0.88}, 'SOCIETY': {'precision': 0.9511, 'recall': 0.976, 'fscore': 0.963, 'auc': 0.998, 'acc': 0.9788}, 'HEALTH': {'precision': 0.8333, 'recall': 0.9667, 'fscore': 0.8828, 'auc': 1.0, 'acc': 0.9412}, 'metric': 0.998891881908846, 'fscore': 0.9696106362773029, 'recall': 0.9812520833521023, 'precision': 0.9589257639670444, 'acc': 0.9814814814814815}\n",
            "Max {'DISASTERS': {'precision': 0.9812, 'recall': 0.9943, 'fscore': 0.9876, 'auc': 0.9999, 'acc': 0.9912}, 'FINANCE': {'precision': 1.0, 'recall': 1.0, 'fscore': 1.0, 'auc': 1.0, 'acc': 1.0}, 'POLITICS': {'precision': 0.7262, 'recall': 0.7879, 'fscore': 0.7508, 'auc': 0.9697, 'acc': 0.88}, 'SOCIETY': {'precision': 0.9511, 'recall': 0.976, 'fscore': 0.963, 'auc': 0.998, 'acc': 0.9788}, 'HEALTH': {'precision': 0.8333, 'recall': 0.9667, 'fscore': 0.8828, 'auc': 1.0, 'acc': 0.9412}, 'metric': 0.998891881908846, 'fscore': 0.9696106362773029, 'recall': 0.9812520833521023, 'precision': 0.9589257639670444, 'acc': 0.9814814814814815}\n",
            "100% 96/96 [00:19<00:00,  4.86it/s]\n",
            "100% 27/27 [00:04<00:00,  5.58it/s]\n",
            "5_domain_sum_type3 - VAL Epoch 13;  VAL_AUC 0.9988017910071263\n",
            "curent {'DISASTERS': {'precision': 0.9695, 'recall': 0.9905, 'fscore': 0.9795, 'auc': 1.0, 'acc': 0.9853}, 'FINANCE': {'precision': 1.0, 'recall': 1.0, 'fscore': 1.0, 'auc': 1.0, 'acc': 1.0}, 'POLITICS': {'precision': 0.7262, 'recall': 0.7879, 'fscore': 0.7508, 'auc': 0.9697, 'acc': 0.88}, 'SOCIETY': {'precision': 0.9511, 'recall': 0.976, 'fscore': 0.963, 'auc': 0.9975, 'acc': 0.9788}, 'HEALTH': {'precision': 0.8333, 'recall': 0.9667, 'fscore': 0.8828, 'auc': 1.0, 'acc': 0.9412}, 'metric': 0.9988017910071263, 'fscore': 0.9659732371808898, 'recall': 0.9798376561951009, 'precision': 0.953463028393853, 'acc': 0.9791666666666666}\n",
            "Max {'DISASTERS': {'precision': 0.9812, 'recall': 0.9943, 'fscore': 0.9876, 'auc': 0.9999, 'acc': 0.9912}, 'FINANCE': {'precision': 1.0, 'recall': 1.0, 'fscore': 1.0, 'auc': 1.0, 'acc': 1.0}, 'POLITICS': {'precision': 0.7262, 'recall': 0.7879, 'fscore': 0.7508, 'auc': 0.9697, 'acc': 0.88}, 'SOCIETY': {'precision': 0.9511, 'recall': 0.976, 'fscore': 0.963, 'auc': 0.998, 'acc': 0.9788}, 'HEALTH': {'precision': 0.8333, 'recall': 0.9667, 'fscore': 0.8828, 'auc': 1.0, 'acc': 0.9412}, 'metric': 0.998891881908846, 'fscore': 0.9696106362773029, 'recall': 0.9812520833521023, 'precision': 0.9589257639670444, 'acc': 0.9814814814814815}\n",
            "100% 96/96 [00:19<00:00,  4.86it/s]\n",
            "100% 27/27 [00:04<00:00,  5.57it/s]\n",
            "5_domain_sum_type3 - VAL Epoch 14;  VAL_AUC 0.9985044910314508\n",
            "curent {'DISASTERS': {'precision': 0.9753, 'recall': 0.9924, 'fscore': 0.9835, 'auc': 1.0, 'acc': 0.9882}, 'FINANCE': {'precision': 1.0, 'recall': 1.0, 'fscore': 1.0, 'auc': 1.0, 'acc': 1.0}, 'POLITICS': {'precision': 0.9783, 'recall': 0.8333, 'fscore': 0.8889, 'auc': 0.9697, 'acc': 0.96}, 'SOCIETY': {'precision': 0.9571, 'recall': 0.9774, 'fscore': 0.9669, 'auc': 0.9974, 'acc': 0.9811}, 'HEALTH': {'precision': 1.0, 'recall': 1.0, 'fscore': 1.0, 'auc': 1.0, 'acc': 1.0}, 'metric': 0.9985044910314508, 'fscore': 0.9751310204650977, 'recall': 0.9833737240876044, 'precision': 0.967369337979094, 'acc': 0.9849537037037037}\n",
            "Max {'DISASTERS': {'precision': 0.9812, 'recall': 0.9943, 'fscore': 0.9876, 'auc': 0.9999, 'acc': 0.9912}, 'FINANCE': {'precision': 1.0, 'recall': 1.0, 'fscore': 1.0, 'auc': 1.0, 'acc': 1.0}, 'POLITICS': {'precision': 0.7262, 'recall': 0.7879, 'fscore': 0.7508, 'auc': 0.9697, 'acc': 0.88}, 'SOCIETY': {'precision': 0.9511, 'recall': 0.976, 'fscore': 0.963, 'auc': 0.998, 'acc': 0.9788}, 'HEALTH': {'precision': 0.8333, 'recall': 0.9667, 'fscore': 0.8828, 'auc': 1.0, 'acc': 0.9412}, 'metric': 0.998891881908846, 'fscore': 0.9696106362773029, 'recall': 0.9812520833521023, 'precision': 0.9589257639670444, 'acc': 0.9814814814814815}\n",
            "100% 96/96 [00:19<00:00,  4.86it/s]\n",
            "100% 27/27 [00:04<00:00,  5.57it/s]\n",
            "5_domain_sum_type3 - VAL Epoch 15;  VAL_AUC 0.9984864728511067\n",
            "curent {'DISASTERS': {'precision': 0.9753, 'recall': 0.9924, 'fscore': 0.9835, 'auc': 1.0, 'acc': 0.9882}, 'FINANCE': {'precision': 1.0, 'recall': 1.0, 'fscore': 1.0, 'auc': 1.0, 'acc': 1.0}, 'POLITICS': {'precision': 0.9783, 'recall': 0.8333, 'fscore': 0.8889, 'auc': 0.9697, 'acc': 0.96}, 'SOCIETY': {'precision': 0.9511, 'recall': 0.976, 'fscore': 0.963, 'auc': 0.997, 'acc': 0.9788}, 'HEALTH': {'precision': 0.8333, 'recall': 0.9667, 'fscore': 0.8828, 'auc': 1.0, 'acc': 0.9412}, 'metric': 0.9984864728511067, 'fscore': 0.971442107466699, 'recall': 0.981959296930603, 'precision': 0.9617064245520766, 'acc': 0.9826388888888888}\n",
            "Max {'DISASTERS': {'precision': 0.9812, 'recall': 0.9943, 'fscore': 0.9876, 'auc': 0.9999, 'acc': 0.9912}, 'FINANCE': {'precision': 1.0, 'recall': 1.0, 'fscore': 1.0, 'auc': 1.0, 'acc': 1.0}, 'POLITICS': {'precision': 0.7262, 'recall': 0.7879, 'fscore': 0.7508, 'auc': 0.9697, 'acc': 0.88}, 'SOCIETY': {'precision': 0.9511, 'recall': 0.976, 'fscore': 0.963, 'auc': 0.998, 'acc': 0.9788}, 'HEALTH': {'precision': 0.8333, 'recall': 0.9667, 'fscore': 0.8828, 'auc': 1.0, 'acc': 0.9412}, 'metric': 0.998891881908846, 'fscore': 0.9696106362773029, 'recall': 0.9812520833521023, 'precision': 0.9589257639670444, 'acc': 0.9814814814814815}\n",
            "100% 13/13 [00:02<00:00,  5.31it/s]\n",
            "/usr/local/lib/python3.7/dist-packages/sklearn/metrics/_classification.py:1318: UndefinedMetricWarning: Precision is ill-defined and being set to 0.0 in labels with no predicted samples. Use `zero_division` parameter to control this behavior.\n",
            "  _warn_prf(average, modifier, msg_start, len(result))\n",
            "/usr/local/lib/python3.7/dist-packages/sklearn/metrics/_classification.py:1318: UndefinedMetricWarning: Precision is ill-defined and being set to 0.0 in labels with no predicted samples. Use `zero_division` parameter to control this behavior.\n",
            "  _warn_prf(average, modifier, msg_start, len(result))\n",
            "{'DISASTERS': {'precision': 0.6344, 'recall': 0.5176, 'fscore': 0.4781, 'auc': 0.7508, 'acc': 0.7622}, 'FINANCE': {'precision': 0.4848, 'recall': 0.5, 'fscore': 0.4923, 'auc': 0.7812, 'acc': 0.9697}, 'POLITICS': {'precision': 0.9, 'recall': 0.6667, 'fscore': 0.6944, 'auc': 0.9167, 'acc': 0.8182}, 'SOCIETY': {'precision': 0.8085, 'recall': 0.5907, 'fscore': 0.6156, 'auc': 0.749, 'acc': 0.8622}, 'HEALTH': {'precision': 0.4167, 'recall': 0.5, 'fscore': 0.4545, 'auc': 0.9, 'acc': 0.8333}, 'metric': 0.6739551083591331, 'fscore': 0.5533443222889289, 'recall': 0.553328173374613, 'precision': 0.7630272952853598, 'acc': 0.8293269230769231}\n"
          ]
        }
      ]
    },
    {
      "cell_type": "code",
      "source": [
        "## avg - lr: 0.001\n",
        "!python3 main.py --model_name mdfend --batchsize 32 --lr 0.001 --type_fusion 3"
      ],
      "metadata": {
        "colab": {
          "base_uri": "https://localhost:8080/"
        },
        "id": "BFXFW-ie3sH1",
        "outputId": "a7865589-7ed7-478d-e679-c46c61053de0"
      },
      "execution_count": 19,
      "outputs": [
        {
          "output_type": "stream",
          "name": "stdout",
          "text": [
            "type_fusion: 3; lr: 0.001; model name: mdfend; emb_type: bert; batchsize: 32; epoch: 50; gpu: 0; emb_dim: 768\n",
            "Special tokens have been added in the vocabulary, make sure the associated word embeddings are fine-tuned or trained.\n",
            "Special tokens have been added in the vocabulary, make sure the associated word embeddings are fine-tuned or trained.\n",
            "Special tokens have been added in the vocabulary, make sure the associated word embeddings are fine-tuned or trained.\n",
            "Some weights of the model checkpoint at vinai/phobert-base were not used when initializing RobertaModel: ['lm_head.decoder.weight', 'lm_head.bias', 'lm_head.dense.weight', 'lm_head.decoder.bias', 'lm_head.dense.bias', 'lm_head.layer_norm.bias', 'lm_head.layer_norm.weight']\n",
            "- This IS expected if you are initializing RobertaModel from the checkpoint of a model trained on another task or with another architecture (e.g. initializing a BertForSequenceClassification model from a BertForPreTraining model).\n",
            "- This IS NOT expected if you are initializing RobertaModel from the checkpoint of a model that you expect to be exactly identical (initializing a BertForSequenceClassification model from a BertForSequenceClassification model).\n",
            "100% 96/96 [00:19<00:00,  4.84it/s]\n",
            "100% 27/27 [00:04<00:00,  5.58it/s]\n",
            "5_domain_avg_type3 - VAL Epoch 1;  VAL_AUC 0.9942341822899305\n",
            "curent {'DISASTERS': {'precision': 0.9583, 'recall': 0.9867, 'fscore': 0.9715, 'auc': 0.9967, 'acc': 0.9794}, 'FINANCE': {'precision': 1.0, 'recall': 1.0, 'fscore': 1.0, 'auc': 1.0, 'acc': 1.0}, 'POLITICS': {'precision': 0.8, 'recall': 0.9545, 'fscore': 0.8512, 'auc': 1.0, 'acc': 0.92}, 'SOCIETY': {'precision': 0.9176, 'recall': 0.9802, 'fscore': 0.945, 'auc': 0.991, 'acc': 0.967}, 'HEALTH': {'precision': 0.8333, 'recall': 0.9667, 'fscore': 0.8828, 'auc': 1.0, 'acc': 0.9412}, 'metric': 0.9942341822899305, 'fscore': 0.9558639478949384, 'recall': 0.9830268741159831, 'precision': 0.9337016574585635, 'acc': 0.9722222222222222}\n",
            "Max {'DISASTERS': {'precision': 0.9583, 'recall': 0.9867, 'fscore': 0.9715, 'auc': 0.9967, 'acc': 0.9794}, 'FINANCE': {'precision': 1.0, 'recall': 1.0, 'fscore': 1.0, 'auc': 1.0, 'acc': 1.0}, 'POLITICS': {'precision': 0.8, 'recall': 0.9545, 'fscore': 0.8512, 'auc': 1.0, 'acc': 0.92}, 'SOCIETY': {'precision': 0.9176, 'recall': 0.9802, 'fscore': 0.945, 'auc': 0.991, 'acc': 0.967}, 'HEALTH': {'precision': 0.8333, 'recall': 0.9667, 'fscore': 0.8828, 'auc': 1.0, 'acc': 0.9412}, 'metric': 0.9942341822899305, 'fscore': 0.9558639478949384, 'recall': 0.9830268741159831, 'precision': 0.9337016574585635, 'acc': 0.9722222222222222}\n",
            "100% 96/96 [00:19<00:00,  4.85it/s]\n",
            "100% 27/27 [00:04<00:00,  5.57it/s]\n",
            "5_domain_avg_type3 - VAL Epoch 2;  VAL_AUC 0.9943693186425102\n",
            "curent {'DISASTERS': {'precision': 0.9583, 'recall': 0.9867, 'fscore': 0.9715, 'auc': 0.9971, 'acc': 0.9794}, 'FINANCE': {'precision': 1.0, 'recall': 1.0, 'fscore': 1.0, 'auc': 1.0, 'acc': 1.0}, 'POLITICS': {'precision': 0.8, 'recall': 0.9545, 'fscore': 0.8512, 'auc': 0.9848, 'acc': 0.92}, 'SOCIETY': {'precision': 0.9452, 'recall': 0.9746, 'fscore': 0.9591, 'auc': 0.99, 'acc': 0.9764}, 'HEALTH': {'precision': 0.8333, 'recall': 0.9667, 'fscore': 0.8828, 'auc': 1.0, 'acc': 0.9412}, 'metric': 0.9943693186425102, 'fscore': 0.962543893874366, 'recall': 0.9809007288353949, 'precision': 0.9465297006098224, 'acc': 0.9768518518518519}\n",
            "Max {'DISASTERS': {'precision': 0.9583, 'recall': 0.9867, 'fscore': 0.9715, 'auc': 0.9971, 'acc': 0.9794}, 'FINANCE': {'precision': 1.0, 'recall': 1.0, 'fscore': 1.0, 'auc': 1.0, 'acc': 1.0}, 'POLITICS': {'precision': 0.8, 'recall': 0.9545, 'fscore': 0.8512, 'auc': 0.9848, 'acc': 0.92}, 'SOCIETY': {'precision': 0.9452, 'recall': 0.9746, 'fscore': 0.9591, 'auc': 0.99, 'acc': 0.9764}, 'HEALTH': {'precision': 0.8333, 'recall': 0.9667, 'fscore': 0.8828, 'auc': 1.0, 'acc': 0.9412}, 'metric': 0.9943693186425102, 'fscore': 0.962543893874366, 'recall': 0.9809007288353949, 'precision': 0.9465297006098224, 'acc': 0.9768518518518519}\n",
            "100% 96/96 [00:19<00:00,  4.85it/s]\n",
            "100% 27/27 [00:04<00:00,  5.57it/s]\n",
            "5_domain_avg_type3 - VAL Epoch 3;  VAL_AUC 0.9958287912503716\n",
            "curent {'DISASTERS': {'precision': 0.9639, 'recall': 0.9886, 'fscore': 0.9755, 'auc': 0.9982, 'acc': 0.9824}, 'FINANCE': {'precision': 0.9909, 'recall': 0.875, 'fscore': 0.924, 'auc': 1.0, 'acc': 0.9828}, 'POLITICS': {'precision': 0.8, 'recall': 0.9545, 'fscore': 0.8512, 'auc': 0.9697, 'acc': 0.92}, 'SOCIETY': {'precision': 0.9394, 'recall': 0.9732, 'fscore': 0.9552, 'auc': 0.9933, 'acc': 0.9741}, 'HEALTH': {'precision': 0.8333, 'recall': 0.9667, 'fscore': 0.8828, 'auc': 1.0, 'acc': 0.9412}, 'metric': 0.9958287912503716, 'fscore': 0.9605797454108558, 'recall': 0.9777160154595987, 'precision': 0.9455067885468478, 'acc': 0.9756944444444444}\n",
            "Max {'DISASTERS': {'precision': 0.9639, 'recall': 0.9886, 'fscore': 0.9755, 'auc': 0.9982, 'acc': 0.9824}, 'FINANCE': {'precision': 0.9909, 'recall': 0.875, 'fscore': 0.924, 'auc': 1.0, 'acc': 0.9828}, 'POLITICS': {'precision': 0.8, 'recall': 0.9545, 'fscore': 0.8512, 'auc': 0.9697, 'acc': 0.92}, 'SOCIETY': {'precision': 0.9394, 'recall': 0.9732, 'fscore': 0.9552, 'auc': 0.9933, 'acc': 0.9741}, 'HEALTH': {'precision': 0.8333, 'recall': 0.9667, 'fscore': 0.8828, 'auc': 1.0, 'acc': 0.9412}, 'metric': 0.9958287912503716, 'fscore': 0.9605797454108558, 'recall': 0.9777160154595987, 'precision': 0.9455067885468478, 'acc': 0.9756944444444444}\n",
            "100% 96/96 [00:19<00:00,  4.86it/s]\n",
            "100% 27/27 [00:04<00:00,  5.57it/s]\n",
            "5_domain_avg_type3 - VAL Epoch 4;  VAL_AUC 0.9976396183749403\n",
            "curent {'DISASTERS': {'precision': 0.9639, 'recall': 0.9886, 'fscore': 0.9755, 'auc': 0.9983, 'acc': 0.9824}, 'FINANCE': {'precision': 1.0, 'recall': 1.0, 'fscore': 1.0, 'auc': 1.0, 'acc': 1.0}, 'POLITICS': {'precision': 0.9783, 'recall': 0.8333, 'fscore': 0.8889, 'auc': 0.9697, 'acc': 0.96}, 'SOCIETY': {'precision': 0.9571, 'recall': 0.9774, 'fscore': 0.9669, 'auc': 0.9964, 'acc': 0.9811}, 'HEALTH': {'precision': 0.8333, 'recall': 0.9667, 'fscore': 0.8828, 'auc': 1.0, 'acc': 0.9412}, 'metric': 0.9976396183749403, 'fscore': 0.9696106362773029, 'recall': 0.9812520833521023, 'precision': 0.9589257639670444, 'acc': 0.9814814814814815}\n",
            "Max {'DISASTERS': {'precision': 0.9639, 'recall': 0.9886, 'fscore': 0.9755, 'auc': 0.9983, 'acc': 0.9824}, 'FINANCE': {'precision': 1.0, 'recall': 1.0, 'fscore': 1.0, 'auc': 1.0, 'acc': 1.0}, 'POLITICS': {'precision': 0.9783, 'recall': 0.8333, 'fscore': 0.8889, 'auc': 0.9697, 'acc': 0.96}, 'SOCIETY': {'precision': 0.9571, 'recall': 0.9774, 'fscore': 0.9669, 'auc': 0.9964, 'acc': 0.9811}, 'HEALTH': {'precision': 0.8333, 'recall': 0.9667, 'fscore': 0.8828, 'auc': 1.0, 'acc': 0.9412}, 'metric': 0.9976396183749403, 'fscore': 0.9696106362773029, 'recall': 0.9812520833521023, 'precision': 0.9589257639670444, 'acc': 0.9814814814814815}\n",
            "100% 96/96 [00:19<00:00,  4.85it/s]\n",
            "100% 27/27 [00:04<00:00,  5.56it/s]\n",
            "5_domain_avg_type3 - VAL Epoch 5;  VAL_AUC 0.998387372859215\n",
            "curent {'DISASTERS': {'precision': 0.9695, 'recall': 0.9905, 'fscore': 0.9795, 'auc': 0.9999, 'acc': 0.9853}, 'FINANCE': {'precision': 1.0, 'recall': 1.0, 'fscore': 1.0, 'auc': 1.0, 'acc': 1.0}, 'POLITICS': {'precision': 0.8106, 'recall': 0.8106, 'fscore': 0.8106, 'auc': 0.9697, 'acc': 0.92}, 'SOCIETY': {'precision': 0.9394, 'recall': 0.9732, 'fscore': 0.9552, 'auc': 0.9966, 'acc': 0.9741}, 'HEALTH': {'precision': 0.8333, 'recall': 0.9667, 'fscore': 0.8828, 'auc': 1.0, 'acc': 0.9412}, 'metric': 0.998387372859215, 'fscore': 0.9641671414258491, 'recall': 0.9791304426166001, 'precision': 0.9507797931852857, 'acc': 0.9780092592592593}\n",
            "Max {'DISASTERS': {'precision': 0.9695, 'recall': 0.9905, 'fscore': 0.9795, 'auc': 0.9999, 'acc': 0.9853}, 'FINANCE': {'precision': 1.0, 'recall': 1.0, 'fscore': 1.0, 'auc': 1.0, 'acc': 1.0}, 'POLITICS': {'precision': 0.8106, 'recall': 0.8106, 'fscore': 0.8106, 'auc': 0.9697, 'acc': 0.92}, 'SOCIETY': {'precision': 0.9394, 'recall': 0.9732, 'fscore': 0.9552, 'auc': 0.9966, 'acc': 0.9741}, 'HEALTH': {'precision': 0.8333, 'recall': 0.9667, 'fscore': 0.8828, 'auc': 1.0, 'acc': 0.9412}, 'metric': 0.998387372859215, 'fscore': 0.9641671414258491, 'recall': 0.9791304426166001, 'precision': 0.9507797931852857, 'acc': 0.9780092592592593}\n",
            "100% 96/96 [00:19<00:00,  4.85it/s]\n",
            "100% 27/27 [00:04<00:00,  5.56it/s]\n",
            "5_domain_avg_type3 - VAL Epoch 6;  VAL_AUC 0.9989459364498778\n",
            "curent {'DISASTERS': {'precision': 0.9695, 'recall': 0.9905, 'fscore': 0.9795, 'auc': 0.9998, 'acc': 0.9853}, 'FINANCE': {'precision': 1.0, 'recall': 1.0, 'fscore': 1.0, 'auc': 1.0, 'acc': 1.0}, 'POLITICS': {'precision': 0.9783, 'recall': 0.8333, 'fscore': 0.8889, 'auc': 0.9697, 'acc': 0.96}, 'SOCIETY': {'precision': 0.9571, 'recall': 0.9774, 'fscore': 0.9669, 'auc': 0.9982, 'acc': 0.9811}, 'HEALTH': {'precision': 0.8333, 'recall': 0.9667, 'fscore': 0.8828, 'auc': 1.0, 'acc': 0.9412}, 'metric': 0.9989459364498778, 'fscore': 0.971442107466699, 'recall': 0.981959296930603, 'precision': 0.9617064245520766, 'acc': 0.9826388888888888}\n",
            "Max {'DISASTERS': {'precision': 0.9695, 'recall': 0.9905, 'fscore': 0.9795, 'auc': 0.9998, 'acc': 0.9853}, 'FINANCE': {'precision': 1.0, 'recall': 1.0, 'fscore': 1.0, 'auc': 1.0, 'acc': 1.0}, 'POLITICS': {'precision': 0.9783, 'recall': 0.8333, 'fscore': 0.8889, 'auc': 0.9697, 'acc': 0.96}, 'SOCIETY': {'precision': 0.9571, 'recall': 0.9774, 'fscore': 0.9669, 'auc': 0.9982, 'acc': 0.9811}, 'HEALTH': {'precision': 0.8333, 'recall': 0.9667, 'fscore': 0.8828, 'auc': 1.0, 'acc': 0.9412}, 'metric': 0.9989459364498778, 'fscore': 0.971442107466699, 'recall': 0.981959296930603, 'precision': 0.9617064245520766, 'acc': 0.9826388888888888}\n",
            "100% 96/96 [00:19<00:00,  4.85it/s]\n",
            "100% 27/27 [00:04<00:00,  5.56it/s]\n",
            "5_domain_avg_type3 - VAL Epoch 7;  VAL_AUC 0.9990540455319417\n",
            "curent {'DISASTERS': {'precision': 0.9753, 'recall': 0.9924, 'fscore': 0.9835, 'auc': 1.0, 'acc': 0.9882}, 'FINANCE': {'precision': 1.0, 'recall': 1.0, 'fscore': 1.0, 'auc': 1.0, 'acc': 1.0}, 'POLITICS': {'precision': 0.9783, 'recall': 0.8333, 'fscore': 0.8889, 'auc': 0.9697, 'acc': 0.96}, 'SOCIETY': {'precision': 0.9571, 'recall': 0.9774, 'fscore': 0.9669, 'auc': 0.9981, 'acc': 0.9811}, 'HEALTH': {'precision': 1.0, 'recall': 1.0, 'fscore': 1.0, 'auc': 1.0, 'acc': 1.0}, 'metric': 0.9990540455319417, 'fscore': 0.9751310204650977, 'recall': 0.9833737240876044, 'precision': 0.967369337979094, 'acc': 0.9849537037037037}\n",
            "Max {'DISASTERS': {'precision': 0.9753, 'recall': 0.9924, 'fscore': 0.9835, 'auc': 1.0, 'acc': 0.9882}, 'FINANCE': {'precision': 1.0, 'recall': 1.0, 'fscore': 1.0, 'auc': 1.0, 'acc': 1.0}, 'POLITICS': {'precision': 0.9783, 'recall': 0.8333, 'fscore': 0.8889, 'auc': 0.9697, 'acc': 0.96}, 'SOCIETY': {'precision': 0.9571, 'recall': 0.9774, 'fscore': 0.9669, 'auc': 0.9981, 'acc': 0.9811}, 'HEALTH': {'precision': 1.0, 'recall': 1.0, 'fscore': 1.0, 'auc': 1.0, 'acc': 1.0}, 'metric': 0.9990540455319417, 'fscore': 0.9751310204650977, 'recall': 0.9833737240876044, 'precision': 0.967369337979094, 'acc': 0.9849537037037037}\n",
            "100% 96/96 [00:19<00:00,  4.85it/s]\n",
            "100% 27/27 [00:04<00:00,  5.56it/s]\n",
            "5_domain_avg_type3 - VAL Epoch 8;  VAL_AUC 0.9984504364904188\n",
            "curent {'DISASTERS': {'precision': 0.9853, 'recall': 0.9897, 'fscore': 0.9875, 'auc': 0.9993, 'acc': 0.9912}, 'FINANCE': {'precision': 1.0, 'recall': 1.0, 'fscore': 1.0, 'auc': 1.0, 'acc': 1.0}, 'POLITICS': {'precision': 0.9783, 'recall': 0.8333, 'fscore': 0.8889, 'auc': 0.9697, 'acc': 0.96}, 'SOCIETY': {'precision': 0.9511, 'recall': 0.976, 'fscore': 0.963, 'auc': 0.9975, 'acc': 0.9788}, 'HEALTH': {'precision': 1.0, 'recall': 1.0, 'fscore': 1.0, 'auc': 1.0, 'acc': 1.0}, 'metric': 0.9984504364904188, 'fscore': 0.9750106235997429, 'recall': 0.980896224290309, 'precision': 0.9693732193732194, 'acc': 0.9849537037037037}\n",
            "Max {'DISASTERS': {'precision': 0.9753, 'recall': 0.9924, 'fscore': 0.9835, 'auc': 1.0, 'acc': 0.9882}, 'FINANCE': {'precision': 1.0, 'recall': 1.0, 'fscore': 1.0, 'auc': 1.0, 'acc': 1.0}, 'POLITICS': {'precision': 0.9783, 'recall': 0.8333, 'fscore': 0.8889, 'auc': 0.9697, 'acc': 0.96}, 'SOCIETY': {'precision': 0.9571, 'recall': 0.9774, 'fscore': 0.9669, 'auc': 0.9981, 'acc': 0.9811}, 'HEALTH': {'precision': 1.0, 'recall': 1.0, 'fscore': 1.0, 'auc': 1.0, 'acc': 1.0}, 'metric': 0.9990540455319417, 'fscore': 0.9751310204650977, 'recall': 0.9833737240876044, 'precision': 0.967369337979094, 'acc': 0.9849537037037037}\n",
            "100% 96/96 [00:19<00:00,  4.86it/s]\n",
            "100% 27/27 [00:04<00:00,  5.56it/s]\n",
            "5_domain_avg_type3 - VAL Epoch 9;  VAL_AUC 0.9987567455562663\n",
            "curent {'DISASTERS': {'precision': 0.9812, 'recall': 0.9943, 'fscore': 0.9876, 'auc': 0.9995, 'acc': 0.9912}, 'FINANCE': {'precision': 1.0, 'recall': 1.0, 'fscore': 1.0, 'auc': 1.0, 'acc': 1.0}, 'POLITICS': {'precision': 0.9783, 'recall': 0.8333, 'fscore': 0.8889, 'auc': 0.9697, 'acc': 0.96}, 'SOCIETY': {'precision': 0.9511, 'recall': 0.976, 'fscore': 0.963, 'auc': 0.9978, 'acc': 0.9788}, 'HEALTH': {'precision': 1.0, 'recall': 1.0, 'fscore': 1.0, 'auc': 1.0, 'acc': 1.0}, 'metric': 0.9987567455562663, 'fscore': 0.9751310204650977, 'recall': 0.9833737240876044, 'precision': 0.967369337979094, 'acc': 0.9849537037037037}\n",
            "Max {'DISASTERS': {'precision': 0.9753, 'recall': 0.9924, 'fscore': 0.9835, 'auc': 1.0, 'acc': 0.9882}, 'FINANCE': {'precision': 1.0, 'recall': 1.0, 'fscore': 1.0, 'auc': 1.0, 'acc': 1.0}, 'POLITICS': {'precision': 0.9783, 'recall': 0.8333, 'fscore': 0.8889, 'auc': 0.9697, 'acc': 0.96}, 'SOCIETY': {'precision': 0.9571, 'recall': 0.9774, 'fscore': 0.9669, 'auc': 0.9981, 'acc': 0.9811}, 'HEALTH': {'precision': 1.0, 'recall': 1.0, 'fscore': 1.0, 'auc': 1.0, 'acc': 1.0}, 'metric': 0.9990540455319417, 'fscore': 0.9751310204650977, 'recall': 0.9833737240876044, 'precision': 0.967369337979094, 'acc': 0.9849537037037037}\n",
            "100% 96/96 [00:19<00:00,  4.86it/s]\n",
            "100% 27/27 [00:04<00:00,  5.56it/s]\n",
            "5_domain_avg_type3 - VAL Epoch 10;  VAL_AUC 0.9985945819331705\n",
            "curent {'DISASTERS': {'precision': 0.9812, 'recall': 0.9943, 'fscore': 0.9876, 'auc': 0.9992, 'acc': 0.9912}, 'FINANCE': {'precision': 1.0, 'recall': 1.0, 'fscore': 1.0, 'auc': 1.0, 'acc': 1.0}, 'POLITICS': {'precision': 0.9783, 'recall': 0.8333, 'fscore': 0.8889, 'auc': 0.9697, 'acc': 0.96}, 'SOCIETY': {'precision': 0.9571, 'recall': 0.9774, 'fscore': 0.9669, 'auc': 0.9982, 'acc': 0.9811}, 'HEALTH': {'precision': 0.8333, 'recall': 0.9667, 'fscore': 0.8828, 'auc': 1.0, 'acc': 0.9412}, 'metric': 0.9985945819331705, 'fscore': 0.9751310204650977, 'recall': 0.9833737240876044, 'precision': 0.967369337979094, 'acc': 0.9849537037037037}\n",
            "Max {'DISASTERS': {'precision': 0.9753, 'recall': 0.9924, 'fscore': 0.9835, 'auc': 1.0, 'acc': 0.9882}, 'FINANCE': {'precision': 1.0, 'recall': 1.0, 'fscore': 1.0, 'auc': 1.0, 'acc': 1.0}, 'POLITICS': {'precision': 0.9783, 'recall': 0.8333, 'fscore': 0.8889, 'auc': 0.9697, 'acc': 0.96}, 'SOCIETY': {'precision': 0.9571, 'recall': 0.9774, 'fscore': 0.9669, 'auc': 0.9981, 'acc': 0.9811}, 'HEALTH': {'precision': 1.0, 'recall': 1.0, 'fscore': 1.0, 'auc': 1.0, 'acc': 1.0}, 'metric': 0.9990540455319417, 'fscore': 0.9751310204650977, 'recall': 0.9833737240876044, 'precision': 0.967369337979094, 'acc': 0.9849537037037037}\n",
            "100% 13/13 [00:02<00:00,  5.33it/s]\n",
            "/usr/local/lib/python3.7/dist-packages/sklearn/metrics/_classification.py:1318: UndefinedMetricWarning: Precision is ill-defined and being set to 0.0 in labels with no predicted samples. Use `zero_division` parameter to control this behavior.\n",
            "  _warn_prf(average, modifier, msg_start, len(result))\n",
            "/usr/local/lib/python3.7/dist-packages/sklearn/metrics/_classification.py:1318: UndefinedMetricWarning: Precision is ill-defined and being set to 0.0 in labels with no predicted samples. Use `zero_division` parameter to control this behavior.\n",
            "  _warn_prf(average, modifier, msg_start, len(result))\n",
            "{'DISASTERS': {'precision': 0.6344, 'recall': 0.5176, 'fscore': 0.4781, 'auc': 0.8392, 'acc': 0.7622}, 'FINANCE': {'precision': 0.4848, 'recall': 0.5, 'fscore': 0.4923, 'auc': 0.6875, 'acc': 0.9697}, 'POLITICS': {'precision': 0.9, 'recall': 0.6667, 'fscore': 0.6944, 'auc': 0.7917, 'acc': 0.8182}, 'SOCIETY': {'precision': 0.8085, 'recall': 0.5907, 'fscore': 0.6156, 'auc': 0.7943, 'acc': 0.8622}, 'HEALTH': {'precision': 0.4167, 'recall': 0.5, 'fscore': 0.4545, 'auc': 0.4, 'acc': 0.8333}, 'metric': 0.8020123839009287, 'fscore': 0.5533443222889289, 'recall': 0.553328173374613, 'precision': 0.7630272952853598, 'acc': 0.8293269230769231}\n"
          ]
        }
      ]
    },
    {
      "cell_type": "markdown",
      "source": [
        "## 4. v3MFND + meta - 5domain"
      ],
      "metadata": {
        "id": "OAvsTLHY3kBz"
      }
    },
    {
      "cell_type": "code",
      "source": [
        "## concat - lr: 0.01\n",
        "!python3 main.py --model_name mdfend --batchsize 32 --lr 0.01 --type_fusion 2"
      ],
      "metadata": {
        "colab": {
          "base_uri": "https://localhost:8080/"
        },
        "id": "sa4cJIUR3xE1",
        "outputId": "29fbffef-0a1d-4f62-d970-03e251bb9403"
      },
      "execution_count": 20,
      "outputs": [
        {
          "output_type": "stream",
          "name": "stdout",
          "text": [
            "type_fusion: 2; lr: 0.01; model name: mdfend; emb_type: bert; batchsize: 32; epoch: 50; gpu: 0; emb_dim: 768\n",
            "Special tokens have been added in the vocabulary, make sure the associated word embeddings are fine-tuned or trained.\n",
            "Special tokens have been added in the vocabulary, make sure the associated word embeddings are fine-tuned or trained.\n",
            "Special tokens have been added in the vocabulary, make sure the associated word embeddings are fine-tuned or trained.\n",
            "Some weights of the model checkpoint at vinai/phobert-base were not used when initializing RobertaModel: ['lm_head.dense.weight', 'lm_head.layer_norm.weight', 'lm_head.layer_norm.bias', 'lm_head.dense.bias', 'lm_head.decoder.bias', 'lm_head.bias', 'lm_head.decoder.weight']\n",
            "- This IS expected if you are initializing RobertaModel from the checkpoint of a model trained on another task or with another architecture (e.g. initializing a BertForSequenceClassification model from a BertForPreTraining model).\n",
            "- This IS NOT expected if you are initializing RobertaModel from the checkpoint of a model that you expect to be exactly identical (initializing a BertForSequenceClassification model from a BertForSequenceClassification model).\n",
            "100% 96/96 [00:20<00:00,  4.76it/s]\n",
            "100% 27/27 [00:04<00:00,  5.56it/s]\n",
            "5_domain_concat_type2 - VAL Epoch 1;  VAL_AUC 0.9957747367093397\n",
            "curent {'DISASTERS': {'precision': 0.9853, 'recall': 0.9897, 'fscore': 0.9875, 'auc': 0.9972, 'acc': 0.9912}, 'FINANCE': {'precision': 1.0, 'recall': 1.0, 'fscore': 1.0, 'auc': 1.0, 'acc': 1.0}, 'POLITICS': {'precision': 0.8106, 'recall': 0.8106, 'fscore': 0.8106, 'auc': 0.9697, 'acc': 0.92}, 'SOCIETY': {'precision': 0.9452, 'recall': 0.9746, 'fscore': 0.9591, 'auc': 0.9942, 'acc': 0.9764}, 'HEALTH': {'precision': 0.8333, 'recall': 0.9667, 'fscore': 0.8828, 'auc': 1.0, 'acc': 0.9412}, 'metric': 0.9957747367093397, 'fscore': 0.969465379076363, 'recall': 0.9787745835548067, 'precision': 0.9607751333073221, 'acc': 0.9814814814814815}\n",
            "Max {'DISASTERS': {'precision': 0.9853, 'recall': 0.9897, 'fscore': 0.9875, 'auc': 0.9972, 'acc': 0.9912}, 'FINANCE': {'precision': 1.0, 'recall': 1.0, 'fscore': 1.0, 'auc': 1.0, 'acc': 1.0}, 'POLITICS': {'precision': 0.8106, 'recall': 0.8106, 'fscore': 0.8106, 'auc': 0.9697, 'acc': 0.92}, 'SOCIETY': {'precision': 0.9452, 'recall': 0.9746, 'fscore': 0.9591, 'auc': 0.9942, 'acc': 0.9764}, 'HEALTH': {'precision': 0.8333, 'recall': 0.9667, 'fscore': 0.8828, 'auc': 1.0, 'acc': 0.9412}, 'metric': 0.9957747367093397, 'fscore': 0.969465379076363, 'recall': 0.9787745835548067, 'precision': 0.9607751333073221, 'acc': 0.9814814814814815}\n",
            "100% 96/96 [00:20<00:00,  4.78it/s]\n",
            "100% 27/27 [00:04<00:00,  5.54it/s]\n",
            "5_domain_concat_type2 - VAL Epoch 2;  VAL_AUC 0.9988558455481581\n",
            "curent {'DISASTERS': {'precision': 0.9812, 'recall': 0.9943, 'fscore': 0.9876, 'auc': 0.9999, 'acc': 0.9912}, 'FINANCE': {'precision': 0.9909, 'recall': 0.875, 'fscore': 0.924, 'auc': 1.0, 'acc': 0.9828}, 'POLITICS': {'precision': 0.9783, 'recall': 0.8333, 'fscore': 0.8889, 'auc': 0.9848, 'acc': 0.96}, 'SOCIETY': {'precision': 0.987, 'recall': 0.9704, 'fscore': 0.9785, 'auc': 0.9988, 'acc': 0.9882}, 'HEALTH': {'precision': 1.0, 'recall': 1.0, 'fscore': 1.0, 'auc': 1.0, 'acc': 1.0}, 'metric': 0.9988558455481581, 'fscore': 0.9804432855280314, 'recall': 0.9780628654312201, 'precision': 0.9828654624869193, 'acc': 0.9884259259259259}\n",
            "Max {'DISASTERS': {'precision': 0.9812, 'recall': 0.9943, 'fscore': 0.9876, 'auc': 0.9999, 'acc': 0.9912}, 'FINANCE': {'precision': 0.9909, 'recall': 0.875, 'fscore': 0.924, 'auc': 1.0, 'acc': 0.9828}, 'POLITICS': {'precision': 0.9783, 'recall': 0.8333, 'fscore': 0.8889, 'auc': 0.9848, 'acc': 0.96}, 'SOCIETY': {'precision': 0.987, 'recall': 0.9704, 'fscore': 0.9785, 'auc': 0.9988, 'acc': 0.9882}, 'HEALTH': {'precision': 1.0, 'recall': 1.0, 'fscore': 1.0, 'auc': 1.0, 'acc': 1.0}, 'metric': 0.9988558455481581, 'fscore': 0.9804432855280314, 'recall': 0.9780628654312201, 'precision': 0.9828654624869193, 'acc': 0.9884259259259259}\n",
            "100% 96/96 [00:20<00:00,  4.77it/s]\n",
            "100% 27/27 [00:04<00:00,  5.55it/s]\n",
            "5_domain_concat_type2 - VAL Epoch 3;  VAL_AUC 0.9992612546058973\n",
            "curent {'DISASTERS': {'precision': 0.9812, 'recall': 0.9943, 'fscore': 0.9876, 'auc': 1.0, 'acc': 0.9912}, 'FINANCE': {'precision': 1.0, 'recall': 1.0, 'fscore': 1.0, 'auc': 1.0, 'acc': 1.0}, 'POLITICS': {'precision': 0.8106, 'recall': 0.8106, 'fscore': 0.8106, 'auc': 0.9697, 'acc': 0.92}, 'SOCIETY': {'precision': 0.9652, 'recall': 0.9859, 'fscore': 0.9752, 'auc': 0.9984, 'acc': 0.9858}, 'HEALTH': {'precision': 1.0, 'recall': 1.0, 'fscore': 1.0, 'auc': 1.0, 'acc': 1.0}, 'metric': 0.9992612546058973, 'fscore': 0.9789570173166212, 'recall': 0.9872656510419013, 'precision': 0.9711324041811846, 'acc': 0.9872685185185185}\n",
            "Max {'DISASTERS': {'precision': 0.9812, 'recall': 0.9943, 'fscore': 0.9876, 'auc': 1.0, 'acc': 0.9912}, 'FINANCE': {'precision': 1.0, 'recall': 1.0, 'fscore': 1.0, 'auc': 1.0, 'acc': 1.0}, 'POLITICS': {'precision': 0.8106, 'recall': 0.8106, 'fscore': 0.8106, 'auc': 0.9697, 'acc': 0.92}, 'SOCIETY': {'precision': 0.9652, 'recall': 0.9859, 'fscore': 0.9752, 'auc': 0.9984, 'acc': 0.9858}, 'HEALTH': {'precision': 1.0, 'recall': 1.0, 'fscore': 1.0, 'auc': 1.0, 'acc': 1.0}, 'metric': 0.9992612546058973, 'fscore': 0.9789570173166212, 'recall': 0.9872656510419013, 'precision': 0.9711324041811846, 'acc': 0.9872685185185185}\n",
            "100% 96/96 [00:20<00:00,  4.78it/s]\n",
            "100% 27/27 [00:04<00:00,  5.56it/s]\n",
            "5_domain_concat_type2 - VAL Epoch 4;  VAL_AUC 0.99890990008919\n",
            "curent {'DISASTERS': {'precision': 0.9853, 'recall': 0.9897, 'fscore': 0.9875, 'auc': 0.9996, 'acc': 0.9912}, 'FINANCE': {'precision': 0.9909, 'recall': 0.875, 'fscore': 0.924, 'auc': 1.0, 'acc': 0.9828}, 'POLITICS': {'precision': 0.9783, 'recall': 0.8333, 'fscore': 0.8889, 'auc': 0.9697, 'acc': 0.96}, 'SOCIETY': {'precision': 0.9799, 'recall': 0.969, 'fscore': 0.9743, 'auc': 0.9984, 'acc': 0.9858}, 'HEALTH': {'precision': 1.0, 'recall': 1.0, 'fscore': 1.0, 'auc': 1.0, 'acc': 1.0}, 'metric': 0.99890990008919, 'fscore': 0.9784336728789367, 'recall': 0.9748781520554239, 'precision': 0.9820834095481983, 'acc': 0.9872685185185185}\n",
            "Max {'DISASTERS': {'precision': 0.9812, 'recall': 0.9943, 'fscore': 0.9876, 'auc': 1.0, 'acc': 0.9912}, 'FINANCE': {'precision': 1.0, 'recall': 1.0, 'fscore': 1.0, 'auc': 1.0, 'acc': 1.0}, 'POLITICS': {'precision': 0.8106, 'recall': 0.8106, 'fscore': 0.8106, 'auc': 0.9697, 'acc': 0.92}, 'SOCIETY': {'precision': 0.9652, 'recall': 0.9859, 'fscore': 0.9752, 'auc': 0.9984, 'acc': 0.9858}, 'HEALTH': {'precision': 1.0, 'recall': 1.0, 'fscore': 1.0, 'auc': 1.0, 'acc': 1.0}, 'metric': 0.9992612546058973, 'fscore': 0.9789570173166212, 'recall': 0.9872656510419013, 'precision': 0.9711324041811846, 'acc': 0.9872685185185185}\n",
            "100% 96/96 [00:20<00:00,  4.78it/s]\n",
            "100% 27/27 [00:04<00:00,  5.56it/s]\n",
            "5_domain_concat_type2 - VAL Epoch 5;  VAL_AUC 0.998882872818674\n",
            "curent {'DISASTERS': {'precision': 0.9812, 'recall': 0.9943, 'fscore': 0.9876, 'auc': 0.9997, 'acc': 0.9912}, 'FINANCE': {'precision': 0.9909, 'recall': 0.875, 'fscore': 0.924, 'auc': 1.0, 'acc': 0.9828}, 'POLITICS': {'precision': 0.9783, 'recall': 0.8333, 'fscore': 0.8889, 'auc': 0.9697, 'acc': 0.96}, 'SOCIETY': {'precision': 0.9511, 'recall': 0.976, 'fscore': 0.963, 'auc': 0.9982, 'acc': 0.9788}, 'HEALTH': {'precision': 1.0, 'recall': 1.0, 'fscore': 1.0, 'auc': 1.0, 'acc': 1.0}, 'metric': 0.998882872818674, 'fscore': 0.9731534090909091, 'recall': 0.9801890107118082, 'precision': 0.9664720863271575, 'acc': 0.9837962962962963}\n",
            "Max {'DISASTERS': {'precision': 0.9812, 'recall': 0.9943, 'fscore': 0.9876, 'auc': 1.0, 'acc': 0.9912}, 'FINANCE': {'precision': 1.0, 'recall': 1.0, 'fscore': 1.0, 'auc': 1.0, 'acc': 1.0}, 'POLITICS': {'precision': 0.8106, 'recall': 0.8106, 'fscore': 0.8106, 'auc': 0.9697, 'acc': 0.92}, 'SOCIETY': {'precision': 0.9652, 'recall': 0.9859, 'fscore': 0.9752, 'auc': 0.9984, 'acc': 0.9858}, 'HEALTH': {'precision': 1.0, 'recall': 1.0, 'fscore': 1.0, 'auc': 1.0, 'acc': 1.0}, 'metric': 0.9992612546058973, 'fscore': 0.9789570173166212, 'recall': 0.9872656510419013, 'precision': 0.9711324041811846, 'acc': 0.9872685185185185}\n",
            "100% 96/96 [00:20<00:00,  4.78it/s]\n",
            "100% 27/27 [00:04<00:00,  5.56it/s]\n",
            "5_domain_concat_type2 - VAL Epoch 6;  VAL_AUC 0.9979819638014757\n",
            "curent {'DISASTERS': {'precision': 0.9753, 'recall': 0.9924, 'fscore': 0.9835, 'auc': 0.9997, 'acc': 0.9882}, 'FINANCE': {'precision': 0.9909, 'recall': 0.875, 'fscore': 0.924, 'auc': 1.0, 'acc': 0.9828}, 'POLITICS': {'precision': 0.9783, 'recall': 0.8333, 'fscore': 0.8889, 'auc': 0.9697, 'acc': 0.96}, 'SOCIETY': {'precision': 0.9698, 'recall': 0.9802, 'fscore': 0.9749, 'auc': 0.9968, 'acc': 0.9858}, 'HEALTH': {'precision': 1.0, 'recall': 1.0, 'fscore': 1.0, 'auc': 1.0, 'acc': 1.0}, 'metric': 0.9979819638014757, 'fscore': 0.976876756322762, 'recall': 0.9816034378688097, 'precision': 0.9723103292897344, 'acc': 0.9861111111111112}\n",
            "Max {'DISASTERS': {'precision': 0.9812, 'recall': 0.9943, 'fscore': 0.9876, 'auc': 1.0, 'acc': 0.9912}, 'FINANCE': {'precision': 1.0, 'recall': 1.0, 'fscore': 1.0, 'auc': 1.0, 'acc': 1.0}, 'POLITICS': {'precision': 0.8106, 'recall': 0.8106, 'fscore': 0.8106, 'auc': 0.9697, 'acc': 0.92}, 'SOCIETY': {'precision': 0.9652, 'recall': 0.9859, 'fscore': 0.9752, 'auc': 0.9984, 'acc': 0.9858}, 'HEALTH': {'precision': 1.0, 'recall': 1.0, 'fscore': 1.0, 'auc': 1.0, 'acc': 1.0}, 'metric': 0.9992612546058973, 'fscore': 0.9789570173166212, 'recall': 0.9872656510419013, 'precision': 0.9711324041811846, 'acc': 0.9872685185185185}\n",
            "100% 13/13 [00:02<00:00,  5.30it/s]\n",
            "/usr/local/lib/python3.7/dist-packages/sklearn/metrics/_classification.py:1318: UndefinedMetricWarning: Precision is ill-defined and being set to 0.0 in labels with no predicted samples. Use `zero_division` parameter to control this behavior.\n",
            "  _warn_prf(average, modifier, msg_start, len(result))\n",
            "/usr/local/lib/python3.7/dist-packages/sklearn/metrics/_classification.py:1318: UndefinedMetricWarning: Precision is ill-defined and being set to 0.0 in labels with no predicted samples. Use `zero_division` parameter to control this behavior.\n",
            "  _warn_prf(average, modifier, msg_start, len(result))\n",
            "{'DISASTERS': {'precision': 0.6327, 'recall': 0.5088, 'fscore': 0.4564, 'auc': 0.72, 'acc': 0.7622}, 'FINANCE': {'precision': 0.4848, 'recall': 0.5, 'fscore': 0.4923, 'auc': 0.1562, 'acc': 0.9697}, 'POLITICS': {'precision': 0.9, 'recall': 0.6667, 'fscore': 0.6944, 'auc': 0.9167, 'acc': 0.8182}, 'SOCIETY': {'precision': 0.8482, 'recall': 0.5776, 'fscore': 0.5971, 'auc': 0.6325, 'acc': 0.8622}, 'HEALTH': {'precision': 0.4167, 'recall': 0.5, 'fscore': 0.4545, 'auc': 0.9, 'acc': 0.8333}, 'metric': 0.6748452012383901, 'fscore': 0.5348295141349713, 'recall': 0.5431114551083591, 'precision': 0.8041223041223041, 'acc': 0.8293269230769231}\n"
          ]
        }
      ]
    },
    {
      "cell_type": "code",
      "source": [
        "## sum - lr: 0.01\n",
        "!python3 main.py --model_name mdfend --batchsize 32 --lr 0.01 --type_fusion 2"
      ],
      "metadata": {
        "colab": {
          "base_uri": "https://localhost:8080/"
        },
        "id": "7WyeYHHz3w7B",
        "outputId": "f4a6d167-7e93-4e5b-cfab-1d2a806845ab"
      },
      "execution_count": 21,
      "outputs": [
        {
          "output_type": "stream",
          "name": "stdout",
          "text": [
            "type_fusion: 2; lr: 0.01; model name: mdfend; emb_type: bert; batchsize: 32; epoch: 50; gpu: 0; emb_dim: 768\n",
            "Special tokens have been added in the vocabulary, make sure the associated word embeddings are fine-tuned or trained.\n",
            "Special tokens have been added in the vocabulary, make sure the associated word embeddings are fine-tuned or trained.\n",
            "Special tokens have been added in the vocabulary, make sure the associated word embeddings are fine-tuned or trained.\n",
            "Some weights of the model checkpoint at vinai/phobert-base were not used when initializing RobertaModel: ['lm_head.decoder.bias', 'lm_head.bias', 'lm_head.layer_norm.weight', 'lm_head.decoder.weight', 'lm_head.dense.bias', 'lm_head.layer_norm.bias', 'lm_head.dense.weight']\n",
            "- This IS expected if you are initializing RobertaModel from the checkpoint of a model trained on another task or with another architecture (e.g. initializing a BertForSequenceClassification model from a BertForPreTraining model).\n",
            "- This IS NOT expected if you are initializing RobertaModel from the checkpoint of a model that you expect to be exactly identical (initializing a BertForSequenceClassification model from a BertForSequenceClassification model).\n",
            "100% 96/96 [00:20<00:00,  4.66it/s]\n",
            "100% 27/27 [00:04<00:00,  5.41it/s]\n",
            "5_domain_sum_type2 - VAL Epoch 1;  VAL_AUC 0.9957657276191678\n",
            "curent {'DISASTERS': {'precision': 0.9639, 'recall': 0.9886, 'fscore': 0.9755, 'auc': 0.9964, 'acc': 0.9824}, 'FINANCE': {'precision': 1.0, 'recall': 1.0, 'fscore': 1.0, 'auc': 1.0, 'acc': 1.0}, 'POLITICS': {'precision': 0.875, 'recall': 0.9773, 'fscore': 0.9169, 'auc': 0.9848, 'acc': 0.96}, 'SOCIETY': {'precision': 0.9306, 'recall': 0.9774, 'fscore': 0.9519, 'auc': 0.9947, 'acc': 0.9717}, 'HEALTH': {'precision': 0.8333, 'recall': 0.9667, 'fscore': 0.8828, 'auc': 1.0, 'acc': 0.9412}, 'metric': 0.9957657276191678, 'fscore': 0.9627161942900542, 'recall': 0.9833782286326904, 'precision': 0.9449885963093511, 'acc': 0.9768518518518519}\n",
            "Max {'DISASTERS': {'precision': 0.9639, 'recall': 0.9886, 'fscore': 0.9755, 'auc': 0.9964, 'acc': 0.9824}, 'FINANCE': {'precision': 1.0, 'recall': 1.0, 'fscore': 1.0, 'auc': 1.0, 'acc': 1.0}, 'POLITICS': {'precision': 0.875, 'recall': 0.9773, 'fscore': 0.9169, 'auc': 0.9848, 'acc': 0.96}, 'SOCIETY': {'precision': 0.9306, 'recall': 0.9774, 'fscore': 0.9519, 'auc': 0.9947, 'acc': 0.9717}, 'HEALTH': {'precision': 0.8333, 'recall': 0.9667, 'fscore': 0.8828, 'auc': 1.0, 'acc': 0.9412}, 'metric': 0.9957657276191678, 'fscore': 0.9627161942900542, 'recall': 0.9833782286326904, 'precision': 0.9449885963093511, 'acc': 0.9768518518518519}\n",
            "100% 96/96 [00:20<00:00,  4.66it/s]\n",
            "100% 27/27 [00:04<00:00,  5.42it/s]\n",
            "5_domain_sum_type2 - VAL Epoch 2;  VAL_AUC 0.9978017819980359\n",
            "curent {'DISASTERS': {'precision': 0.9695, 'recall': 0.9905, 'fscore': 0.9795, 'auc': 0.9997, 'acc': 0.9853}, 'FINANCE': {'precision': 1.0, 'recall': 1.0, 'fscore': 1.0, 'auc': 1.0, 'acc': 1.0}, 'POLITICS': {'precision': 0.9783, 'recall': 0.8333, 'fscore': 0.8889, 'auc': 0.9697, 'acc': 0.96}, 'SOCIETY': {'precision': 0.9431, 'recall': 0.9675, 'fscore': 0.9547, 'auc': 0.9957, 'acc': 0.9741}, 'HEALTH': {'precision': 1.0, 'recall': 1.0, 'fscore': 1.0, 'auc': 1.0, 'acc': 1.0}, 'metric': 0.9978017819980359, 'fscore': 0.9676343884622589, 'recall': 0.9780673699763061, 'precision': 0.9579780439810819, 'acc': 0.9803240740740741}\n",
            "Max {'DISASTERS': {'precision': 0.9695, 'recall': 0.9905, 'fscore': 0.9795, 'auc': 0.9997, 'acc': 0.9853}, 'FINANCE': {'precision': 1.0, 'recall': 1.0, 'fscore': 1.0, 'auc': 1.0, 'acc': 1.0}, 'POLITICS': {'precision': 0.9783, 'recall': 0.8333, 'fscore': 0.8889, 'auc': 0.9697, 'acc': 0.96}, 'SOCIETY': {'precision': 0.9431, 'recall': 0.9675, 'fscore': 0.9547, 'auc': 0.9957, 'acc': 0.9741}, 'HEALTH': {'precision': 1.0, 'recall': 1.0, 'fscore': 1.0, 'auc': 1.0, 'acc': 1.0}, 'metric': 0.9978017819980359, 'fscore': 0.9676343884622589, 'recall': 0.9780673699763061, 'precision': 0.9579780439810819, 'acc': 0.9803240740740741}\n",
            "100% 96/96 [00:20<00:00,  4.67it/s]\n",
            "100% 27/27 [00:04<00:00,  5.41it/s]\n",
            "5_domain_sum_type2 - VAL Epoch 3;  VAL_AUC 0.9960900548653592\n",
            "curent {'DISASTERS': {'precision': 0.9835, 'recall': 0.9416, 'fscore': 0.9606, 'auc': 0.9964, 'acc': 0.9735}, 'FINANCE': {'precision': 0.9909, 'recall': 0.875, 'fscore': 0.924, 'auc': 1.0, 'acc': 0.9828}, 'POLITICS': {'precision': 0.9783, 'recall': 0.8333, 'fscore': 0.8889, 'auc': 0.9697, 'acc': 0.96}, 'SOCIETY': {'precision': 0.9781, 'recall': 0.9282, 'fscore': 0.951, 'auc': 0.998, 'acc': 0.9741}, 'HEALTH': {'precision': 0.9688, 'recall': 0.75, 'fscore': 0.8172, 'auc': 1.0, 'acc': 0.9412}, 'metric': 0.9960900548653592, 'fscore': 0.9527369159600909, 'recall': 0.9292290921539834, 'precision': 0.9812136393018747, 'acc': 0.9733796296296297}\n",
            "Max {'DISASTERS': {'precision': 0.9695, 'recall': 0.9905, 'fscore': 0.9795, 'auc': 0.9997, 'acc': 0.9853}, 'FINANCE': {'precision': 1.0, 'recall': 1.0, 'fscore': 1.0, 'auc': 1.0, 'acc': 1.0}, 'POLITICS': {'precision': 0.9783, 'recall': 0.8333, 'fscore': 0.8889, 'auc': 0.9697, 'acc': 0.96}, 'SOCIETY': {'precision': 0.9431, 'recall': 0.9675, 'fscore': 0.9547, 'auc': 0.9957, 'acc': 0.9741}, 'HEALTH': {'precision': 1.0, 'recall': 1.0, 'fscore': 1.0, 'auc': 1.0, 'acc': 1.0}, 'metric': 0.9978017819980359, 'fscore': 0.9676343884622589, 'recall': 0.9780673699763061, 'precision': 0.9579780439810819, 'acc': 0.9803240740740741}\n",
            "100% 96/96 [00:20<00:00,  4.68it/s]\n",
            "100% 27/27 [00:04<00:00,  5.42it/s]\n",
            "5_domain_sum_type2 - VAL Epoch 4;  VAL_AUC 0.9992432364255533\n",
            "curent {'DISASTERS': {'precision': 0.9873, 'recall': 0.9962, 'fscore': 0.9917, 'auc': 1.0, 'acc': 0.9941}, 'FINANCE': {'precision': 0.9909, 'recall': 0.875, 'fscore': 0.924, 'auc': 1.0, 'acc': 0.9828}, 'POLITICS': {'precision': 0.9783, 'recall': 0.8333, 'fscore': 0.8889, 'auc': 0.9697, 'acc': 0.96}, 'SOCIETY': {'precision': 0.9615, 'recall': 0.9718, 'fscore': 0.9665, 'auc': 0.9986, 'acc': 0.9811}, 'HEALTH': {'precision': 1.0, 'recall': 1.0, 'fscore': 1.0, 'auc': 1.0, 'acc': 1.0}, 'metric': 0.9992432364255533, 'fscore': 0.9767633664431454, 'recall': 0.9791259380715142, 'precision': 0.9744413220928676, 'acc': 0.9861111111111112}\n",
            "Max {'DISASTERS': {'precision': 0.9873, 'recall': 0.9962, 'fscore': 0.9917, 'auc': 1.0, 'acc': 0.9941}, 'FINANCE': {'precision': 0.9909, 'recall': 0.875, 'fscore': 0.924, 'auc': 1.0, 'acc': 0.9828}, 'POLITICS': {'precision': 0.9783, 'recall': 0.8333, 'fscore': 0.8889, 'auc': 0.9697, 'acc': 0.96}, 'SOCIETY': {'precision': 0.9615, 'recall': 0.9718, 'fscore': 0.9665, 'auc': 0.9986, 'acc': 0.9811}, 'HEALTH': {'precision': 1.0, 'recall': 1.0, 'fscore': 1.0, 'auc': 1.0, 'acc': 1.0}, 'metric': 0.9992432364255533, 'fscore': 0.9767633664431454, 'recall': 0.9791259380715142, 'precision': 0.9744413220928676, 'acc': 0.9861111111111112}\n",
            "100% 96/96 [00:20<00:00,  4.67it/s]\n",
            "100% 27/27 [00:05<00:00,  5.40it/s]\n",
            "5_domain_sum_type2 - VAL Epoch 5;  VAL_AUC 0.9985765637528267\n",
            "curent {'DISASTERS': {'precision': 0.9853, 'recall': 0.9897, 'fscore': 0.9875, 'auc': 0.9994, 'acc': 0.9912}, 'FINANCE': {'precision': 0.9909, 'recall': 0.875, 'fscore': 0.924, 'auc': 1.0, 'acc': 0.9828}, 'POLITICS': {'precision': 0.9783, 'recall': 0.8333, 'fscore': 0.8889, 'auc': 0.9697, 'acc': 0.96}, 'SOCIETY': {'precision': 0.9577, 'recall': 0.9577, 'fscore': 0.9577, 'auc': 0.9979, 'acc': 0.9764}, 'HEALTH': {'precision': 1.0, 'recall': 1.0, 'fscore': 1.0, 'auc': 1.0, 'acc': 1.0}, 'metric': 0.9985765637528267, 'fscore': 0.9707379853012565, 'recall': 0.9695717979441256, 'precision': 0.9719143850499783, 'acc': 0.9826388888888888}\n",
            "Max {'DISASTERS': {'precision': 0.9873, 'recall': 0.9962, 'fscore': 0.9917, 'auc': 1.0, 'acc': 0.9941}, 'FINANCE': {'precision': 0.9909, 'recall': 0.875, 'fscore': 0.924, 'auc': 1.0, 'acc': 0.9828}, 'POLITICS': {'precision': 0.9783, 'recall': 0.8333, 'fscore': 0.8889, 'auc': 0.9697, 'acc': 0.96}, 'SOCIETY': {'precision': 0.9615, 'recall': 0.9718, 'fscore': 0.9665, 'auc': 0.9986, 'acc': 0.9811}, 'HEALTH': {'precision': 1.0, 'recall': 1.0, 'fscore': 1.0, 'auc': 1.0, 'acc': 1.0}, 'metric': 0.9992432364255533, 'fscore': 0.9767633664431454, 'recall': 0.9791259380715142, 'precision': 0.9744413220928676, 'acc': 0.9861111111111112}\n",
            "100% 96/96 [00:20<00:00,  4.68it/s]\n",
            "100% 27/27 [00:04<00:00,  5.41it/s]\n",
            "5_domain_sum_type2 - VAL Epoch 6;  VAL_AUC 0.9991441364336615\n",
            "curent {'DISASTERS': {'precision': 0.9873, 'recall': 0.9962, 'fscore': 0.9917, 'auc': 0.9999, 'acc': 0.9941}, 'FINANCE': {'precision': 1.0, 'recall': 1.0, 'fscore': 1.0, 'auc': 1.0, 'acc': 1.0}, 'POLITICS': {'precision': 0.9783, 'recall': 0.8333, 'fscore': 0.8889, 'auc': 0.9697, 'acc': 0.96}, 'SOCIETY': {'precision': 0.9571, 'recall': 0.9774, 'fscore': 0.9669, 'auc': 0.9983, 'acc': 0.9811}, 'HEALTH': {'precision': 1.0, 'recall': 1.0, 'fscore': 1.0, 'auc': 1.0, 'acc': 1.0}, 'metric': 0.9991441364336615, 'fscore': 0.9788551430459362, 'recall': 0.9847881512446058, 'precision': 0.9731718898385565, 'acc': 0.9872685185185185}\n",
            "Max {'DISASTERS': {'precision': 0.9873, 'recall': 0.9962, 'fscore': 0.9917, 'auc': 1.0, 'acc': 0.9941}, 'FINANCE': {'precision': 0.9909, 'recall': 0.875, 'fscore': 0.924, 'auc': 1.0, 'acc': 0.9828}, 'POLITICS': {'precision': 0.9783, 'recall': 0.8333, 'fscore': 0.8889, 'auc': 0.9697, 'acc': 0.96}, 'SOCIETY': {'precision': 0.9615, 'recall': 0.9718, 'fscore': 0.9665, 'auc': 0.9986, 'acc': 0.9811}, 'HEALTH': {'precision': 1.0, 'recall': 1.0, 'fscore': 1.0, 'auc': 1.0, 'acc': 1.0}, 'metric': 0.9992432364255533, 'fscore': 0.9767633664431454, 'recall': 0.9791259380715142, 'precision': 0.9744413220928676, 'acc': 0.9861111111111112}\n",
            "100% 96/96 [00:20<00:00,  4.68it/s]\n",
            "100% 27/27 [00:04<00:00,  5.42it/s]\n",
            "5_domain_sum_type2 - VAL Epoch 7;  VAL_AUC 0.9990270182614258\n",
            "curent {'DISASTERS': {'precision': 0.9936, 'recall': 0.9981, 'fscore': 0.9958, 'auc': 0.9997, 'acc': 0.9971}, 'FINANCE': {'precision': 0.9909, 'recall': 0.875, 'fscore': 0.924, 'auc': 1.0, 'acc': 0.9828}, 'POLITICS': {'precision': 0.9783, 'recall': 0.8333, 'fscore': 0.8889, 'auc': 0.9848, 'acc': 0.96}, 'SOCIETY': {'precision': 0.9783, 'recall': 0.962, 'fscore': 0.9699, 'auc': 0.9981, 'acc': 0.9835}, 'HEALTH': {'precision': 1.0, 'recall': 1.0, 'fscore': 1.0, 'auc': 1.0, 'acc': 1.0}, 'metric': 0.9990270182614258, 'fscore': 0.9803448746530781, 'recall': 0.9755853656339246, 'precision': 0.9852734342682221, 'acc': 0.9884259259259259}\n",
            "Max {'DISASTERS': {'precision': 0.9873, 'recall': 0.9962, 'fscore': 0.9917, 'auc': 1.0, 'acc': 0.9941}, 'FINANCE': {'precision': 0.9909, 'recall': 0.875, 'fscore': 0.924, 'auc': 1.0, 'acc': 0.9828}, 'POLITICS': {'precision': 0.9783, 'recall': 0.8333, 'fscore': 0.8889, 'auc': 0.9697, 'acc': 0.96}, 'SOCIETY': {'precision': 0.9615, 'recall': 0.9718, 'fscore': 0.9665, 'auc': 0.9986, 'acc': 0.9811}, 'HEALTH': {'precision': 1.0, 'recall': 1.0, 'fscore': 1.0, 'auc': 1.0, 'acc': 1.0}, 'metric': 0.9992432364255533, 'fscore': 0.9767633664431454, 'recall': 0.9791259380715142, 'precision': 0.9744413220928676, 'acc': 0.9861111111111112}\n",
            "100% 13/13 [00:02<00:00,  5.14it/s]\n",
            "/usr/local/lib/python3.7/dist-packages/sklearn/metrics/_classification.py:1318: UndefinedMetricWarning: Precision is ill-defined and being set to 0.0 in labels with no predicted samples. Use `zero_division` parameter to control this behavior.\n",
            "  _warn_prf(average, modifier, msg_start, len(result))\n",
            "/usr/local/lib/python3.7/dist-packages/sklearn/metrics/_classification.py:1318: UndefinedMetricWarning: Precision is ill-defined and being set to 0.0 in labels with no predicted samples. Use `zero_division` parameter to control this behavior.\n",
            "  _warn_prf(average, modifier, msg_start, len(result))\n",
            "{'DISASTERS': {'precision': 0.6344, 'recall': 0.5176, 'fscore': 0.4781, 'auc': 0.7301, 'acc': 0.7622}, 'FINANCE': {'precision': 0.4848, 'recall': 0.5, 'fscore': 0.4923, 'auc': 0.5625, 'acc': 0.9697}, 'POLITICS': {'precision': 0.9, 'recall': 0.6667, 'fscore': 0.6944, 'auc': 0.9167, 'acc': 0.8182}, 'SOCIETY': {'precision': 0.7884, 'recall': 0.5746, 'fscore': 0.592, 'auc': 0.6647, 'acc': 0.8571}, 'HEALTH': {'precision': 0.4167, 'recall': 0.5, 'fscore': 0.4545, 'auc': 1.0, 'acc': 0.8333}, 'metric': 0.7073529411764705, 'fscore': 0.5425219941348974, 'recall': 0.5467492260061919, 'precision': 0.7491749174917491, 'acc': 0.8269230769230769}\n"
          ]
        }
      ]
    },
    {
      "cell_type": "code",
      "source": [
        "## avg - lr: 0.01\n",
        "!python3 main.py --model_name mdfend --batchsize 32 --lr 0.01 --type_fusion 2"
      ],
      "metadata": {
        "colab": {
          "base_uri": "https://localhost:8080/"
        },
        "id": "86YisFxZ3wy6",
        "outputId": "5e1e0b75-56d8-4338-b73d-83f8a7950ea0"
      },
      "execution_count": 22,
      "outputs": [
        {
          "output_type": "stream",
          "name": "stdout",
          "text": [
            "type_fusion: 2; lr: 0.01; model name: mdfend; emb_type: bert; batchsize: 32; epoch: 50; gpu: 0; emb_dim: 768\n",
            "Special tokens have been added in the vocabulary, make sure the associated word embeddings are fine-tuned or trained.\n",
            "Special tokens have been added in the vocabulary, make sure the associated word embeddings are fine-tuned or trained.\n",
            "Special tokens have been added in the vocabulary, make sure the associated word embeddings are fine-tuned or trained.\n",
            "Some weights of the model checkpoint at vinai/phobert-base were not used when initializing RobertaModel: ['lm_head.layer_norm.bias', 'lm_head.decoder.bias', 'lm_head.dense.weight', 'lm_head.decoder.weight', 'lm_head.dense.bias', 'lm_head.layer_norm.weight', 'lm_head.bias']\n",
            "- This IS expected if you are initializing RobertaModel from the checkpoint of a model trained on another task or with another architecture (e.g. initializing a BertForSequenceClassification model from a BertForPreTraining model).\n",
            "- This IS NOT expected if you are initializing RobertaModel from the checkpoint of a model that you expect to be exactly identical (initializing a BertForSequenceClassification model from a BertForSequenceClassification model).\n",
            "100% 96/96 [00:20<00:00,  4.76it/s]\n",
            "100% 27/27 [00:04<00:00,  5.53it/s]\n",
            "5_domain_avg_type2 - VAL Epoch 1;  VAL_AUC 0.9966531230011081\n",
            "curent {'DISASTERS': {'precision': 0.9695, 'recall': 0.9905, 'fscore': 0.9795, 'auc': 0.9985, 'acc': 0.9853}, 'FINANCE': {'precision': 1.0, 'recall': 1.0, 'fscore': 1.0, 'auc': 1.0, 'acc': 1.0}, 'POLITICS': {'precision': 0.875, 'recall': 0.9773, 'fscore': 0.9169, 'auc': 0.9848, 'acc': 0.96}, 'SOCIETY': {'precision': 0.9254, 'recall': 0.976, 'fscore': 0.9482, 'auc': 0.9946, 'acc': 0.9693}, 'HEALTH': {'precision': 0.8333, 'recall': 0.9667, 'fscore': 0.8828, 'auc': 1.0, 'acc': 0.9412}, 'metric': 0.9966531230011081, 'fscore': 0.9627161942900542, 'recall': 0.9833782286326904, 'precision': 0.9449885963093511, 'acc': 0.9768518518518519}\n",
            "Max {'DISASTERS': {'precision': 0.9695, 'recall': 0.9905, 'fscore': 0.9795, 'auc': 0.9985, 'acc': 0.9853}, 'FINANCE': {'precision': 1.0, 'recall': 1.0, 'fscore': 1.0, 'auc': 1.0, 'acc': 1.0}, 'POLITICS': {'precision': 0.875, 'recall': 0.9773, 'fscore': 0.9169, 'auc': 0.9848, 'acc': 0.96}, 'SOCIETY': {'precision': 0.9254, 'recall': 0.976, 'fscore': 0.9482, 'auc': 0.9946, 'acc': 0.9693}, 'HEALTH': {'precision': 0.8333, 'recall': 0.9667, 'fscore': 0.8828, 'auc': 1.0, 'acc': 0.9412}, 'metric': 0.9966531230011081, 'fscore': 0.9627161942900542, 'recall': 0.9833782286326904, 'precision': 0.9449885963093511, 'acc': 0.9768518518518519}\n",
            "100% 96/96 [00:20<00:00,  4.77it/s]\n",
            "100% 27/27 [00:04<00:00,  5.57it/s]\n",
            "5_domain_avg_type2 - VAL Epoch 2;  VAL_AUC 0.9986666546545464\n",
            "curent {'DISASTERS': {'precision': 0.9812, 'recall': 0.9943, 'fscore': 0.9876, 'auc': 0.9996, 'acc': 0.9912}, 'FINANCE': {'precision': 1.0, 'recall': 1.0, 'fscore': 1.0, 'auc': 1.0, 'acc': 1.0}, 'POLITICS': {'precision': 0.9783, 'recall': 0.8333, 'fscore': 0.8889, 'auc': 0.9697, 'acc': 0.96}, 'SOCIETY': {'precision': 0.9552, 'recall': 0.9704, 'fscore': 0.9626, 'auc': 0.9976, 'acc': 0.9788}, 'HEALTH': {'precision': 1.0, 'recall': 1.0, 'fscore': 1.0, 'auc': 1.0, 'acc': 1.0}, 'metric': 0.9986666546545464, 'fscore': 0.9750106235997429, 'recall': 0.980896224290309, 'precision': 0.9693732193732194, 'acc': 0.9849537037037037}\n",
            "Max {'DISASTERS': {'precision': 0.9812, 'recall': 0.9943, 'fscore': 0.9876, 'auc': 0.9996, 'acc': 0.9912}, 'FINANCE': {'precision': 1.0, 'recall': 1.0, 'fscore': 1.0, 'auc': 1.0, 'acc': 1.0}, 'POLITICS': {'precision': 0.9783, 'recall': 0.8333, 'fscore': 0.8889, 'auc': 0.9697, 'acc': 0.96}, 'SOCIETY': {'precision': 0.9552, 'recall': 0.9704, 'fscore': 0.9626, 'auc': 0.9976, 'acc': 0.9788}, 'HEALTH': {'precision': 1.0, 'recall': 1.0, 'fscore': 1.0, 'auc': 1.0, 'acc': 1.0}, 'metric': 0.9986666546545464, 'fscore': 0.9750106235997429, 'recall': 0.980896224290309, 'precision': 0.9693732193732194, 'acc': 0.9849537037037037}\n",
            "100% 96/96 [00:20<00:00,  4.77it/s]\n",
            "100% 27/27 [00:04<00:00,  5.54it/s]\n",
            "5_domain_avg_type2 - VAL Epoch 3;  VAL_AUC 0.9980630456130235\n",
            "curent {'DISASTERS': {'precision': 0.9791, 'recall': 0.9702, 'fscore': 0.9746, 'auc': 0.9989, 'acc': 0.9824}, 'FINANCE': {'precision': 0.9909, 'recall': 0.875, 'fscore': 0.924, 'auc': 1.0, 'acc': 0.9828}, 'POLITICS': {'precision': 0.9783, 'recall': 0.8333, 'fscore': 0.8889, 'auc': 0.9697, 'acc': 0.96}, 'SOCIETY': {'precision': 0.968, 'recall': 0.9732, 'fscore': 0.9706, 'auc': 0.9981, 'acc': 0.9835}, 'HEALTH': {'precision': 1.0, 'recall': 1.0, 'fscore': 1.0, 'auc': 1.0, 'acc': 1.0}, 'metric': 0.9980630456130235, 'fscore': 0.970591372107641, 'recall': 0.9670942981468302, 'precision': 0.9741814523504664, 'acc': 0.9826388888888888}\n",
            "Max {'DISASTERS': {'precision': 0.9812, 'recall': 0.9943, 'fscore': 0.9876, 'auc': 0.9996, 'acc': 0.9912}, 'FINANCE': {'precision': 1.0, 'recall': 1.0, 'fscore': 1.0, 'auc': 1.0, 'acc': 1.0}, 'POLITICS': {'precision': 0.9783, 'recall': 0.8333, 'fscore': 0.8889, 'auc': 0.9697, 'acc': 0.96}, 'SOCIETY': {'precision': 0.9552, 'recall': 0.9704, 'fscore': 0.9626, 'auc': 0.9976, 'acc': 0.9788}, 'HEALTH': {'precision': 1.0, 'recall': 1.0, 'fscore': 1.0, 'auc': 1.0, 'acc': 1.0}, 'metric': 0.9986666546545464, 'fscore': 0.9750106235997429, 'recall': 0.980896224290309, 'precision': 0.9693732193732194, 'acc': 0.9849537037037037}\n",
            "100% 96/96 [00:20<00:00,  4.78it/s]\n",
            "100% 27/27 [00:04<00:00,  5.54it/s]\n",
            "5_domain_avg_type2 - VAL Epoch 4;  VAL_AUC 0.9989819728105659\n",
            "curent {'DISASTERS': {'precision': 0.9916, 'recall': 0.9916, 'fscore': 0.9916, 'auc': 0.9998, 'acc': 0.9941}, 'FINANCE': {'precision': 0.9909, 'recall': 0.875, 'fscore': 0.924, 'auc': 1.0, 'acc': 0.9828}, 'POLITICS': {'precision': 0.9783, 'recall': 0.8333, 'fscore': 0.8889, 'auc': 0.9697, 'acc': 0.96}, 'SOCIETY': {'precision': 0.9695, 'recall': 0.9535, 'fscore': 0.9613, 'auc': 0.9983, 'acc': 0.9788}, 'HEALTH': {'precision': 1.0, 'recall': 1.0, 'fscore': 1.0, 'auc': 1.0, 'acc': 1.0}, 'metric': 0.9989819728105659, 'fscore': 0.9743837106672962, 'recall': 0.9685087253038316, 'precision': 0.9805218805440568, 'acc': 0.9849537037037037}\n",
            "Max {'DISASTERS': {'precision': 0.9916, 'recall': 0.9916, 'fscore': 0.9916, 'auc': 0.9998, 'acc': 0.9941}, 'FINANCE': {'precision': 0.9909, 'recall': 0.875, 'fscore': 0.924, 'auc': 1.0, 'acc': 0.9828}, 'POLITICS': {'precision': 0.9783, 'recall': 0.8333, 'fscore': 0.8889, 'auc': 0.9697, 'acc': 0.96}, 'SOCIETY': {'precision': 0.9695, 'recall': 0.9535, 'fscore': 0.9613, 'auc': 0.9983, 'acc': 0.9788}, 'HEALTH': {'precision': 1.0, 'recall': 1.0, 'fscore': 1.0, 'auc': 1.0, 'acc': 1.0}, 'metric': 0.9989819728105659, 'fscore': 0.9743837106672962, 'recall': 0.9685087253038316, 'precision': 0.9805218805440568, 'acc': 0.9849537037037037}\n",
            "100% 96/96 [00:20<00:00,  4.77it/s]\n",
            "100% 27/27 [00:04<00:00,  5.54it/s]\n",
            "/usr/local/lib/python3.7/dist-packages/sklearn/metrics/_classification.py:1318: UndefinedMetricWarning: Precision is ill-defined and being set to 0.0 in labels with no predicted samples. Use `zero_division` parameter to control this behavior.\n",
            "  _warn_prf(average, modifier, msg_start, len(result))\n",
            "5_domain_avg_type2 - VAL Epoch 5;  VAL_AUC 0.9915494734186796\n",
            "curent {'DISASTERS': {'precision': 0.9705, 'recall': 0.9202, 'fscore': 0.9424, 'auc': 0.9874, 'acc': 0.9618}, 'FINANCE': {'precision': 0.9909, 'recall': 0.875, 'fscore': 0.924, 'auc': 1.0, 'acc': 0.9828}, 'POLITICS': {'precision': 0.9783, 'recall': 0.8333, 'fscore': 0.8889, 'auc': 0.9697, 'acc': 0.96}, 'SOCIETY': {'precision': 0.9703, 'recall': 0.9267, 'fscore': 0.9468, 'auc': 0.9966, 'acc': 0.9717}, 'HEALTH': {'precision': 0.4412, 'recall': 0.5, 'fscore': 0.4688, 'auc': 1.0, 'acc': 0.8824}, 'metric': 0.9915494734186796, 'fscore': 0.9400813550567118, 'recall': 0.9150758114937972, 'precision': 0.9709977509711716, 'acc': 0.9664351851851852}\n",
            "Max {'DISASTERS': {'precision': 0.9916, 'recall': 0.9916, 'fscore': 0.9916, 'auc': 0.9998, 'acc': 0.9941}, 'FINANCE': {'precision': 0.9909, 'recall': 0.875, 'fscore': 0.924, 'auc': 1.0, 'acc': 0.9828}, 'POLITICS': {'precision': 0.9783, 'recall': 0.8333, 'fscore': 0.8889, 'auc': 0.9697, 'acc': 0.96}, 'SOCIETY': {'precision': 0.9695, 'recall': 0.9535, 'fscore': 0.9613, 'auc': 0.9983, 'acc': 0.9788}, 'HEALTH': {'precision': 1.0, 'recall': 1.0, 'fscore': 1.0, 'auc': 1.0, 'acc': 1.0}, 'metric': 0.9989819728105659, 'fscore': 0.9743837106672962, 'recall': 0.9685087253038316, 'precision': 0.9805218805440568, 'acc': 0.9849537037037037}\n",
            "100% 96/96 [00:20<00:00,  4.78it/s]\n",
            "100% 27/27 [00:04<00:00,  5.55it/s]\n",
            "5_domain_avg_type2 - VAL Epoch 6;  VAL_AUC 0.9939188641339112\n",
            "curent {'DISASTERS': {'precision': 0.9812, 'recall': 0.9767, 'fscore': 0.9789, 'auc': 0.9913, 'acc': 0.9853}, 'FINANCE': {'precision': 1.0, 'recall': 1.0, 'fscore': 1.0, 'auc': 1.0, 'acc': 1.0}, 'POLITICS': {'precision': 0.9783, 'recall': 0.8333, 'fscore': 0.8889, 'auc': 0.9697, 'acc': 0.96}, 'SOCIETY': {'precision': 0.9644, 'recall': 0.9591, 'fscore': 0.9617, 'auc': 0.9976, 'acc': 0.9788}, 'HEALTH': {'precision': 1.0, 'recall': 1.0, 'fscore': 1.0, 'auc': 1.0, 'acc': 1.0}, 'metric': 0.9939188641339112, 'fscore': 0.970591372107641, 'recall': 0.9670942981468302, 'precision': 0.9741814523504664, 'acc': 0.9826388888888888}\n",
            "Max {'DISASTERS': {'precision': 0.9916, 'recall': 0.9916, 'fscore': 0.9916, 'auc': 0.9998, 'acc': 0.9941}, 'FINANCE': {'precision': 0.9909, 'recall': 0.875, 'fscore': 0.924, 'auc': 1.0, 'acc': 0.9828}, 'POLITICS': {'precision': 0.9783, 'recall': 0.8333, 'fscore': 0.8889, 'auc': 0.9697, 'acc': 0.96}, 'SOCIETY': {'precision': 0.9695, 'recall': 0.9535, 'fscore': 0.9613, 'auc': 0.9983, 'acc': 0.9788}, 'HEALTH': {'precision': 1.0, 'recall': 1.0, 'fscore': 1.0, 'auc': 1.0, 'acc': 1.0}, 'metric': 0.9989819728105659, 'fscore': 0.9743837106672962, 'recall': 0.9685087253038316, 'precision': 0.9805218805440568, 'acc': 0.9849537037037037}\n",
            "100% 96/96 [00:20<00:00,  4.78it/s]\n",
            "100% 27/27 [00:04<00:00,  5.54it/s]\n",
            "5_domain_avg_type2 - VAL Epoch 7;  VAL_AUC 0.9991261182533177\n",
            "curent {'DISASTERS': {'precision': 0.9753, 'recall': 0.9924, 'fscore': 0.9835, 'auc': 1.0, 'acc': 0.9882}, 'FINANCE': {'precision': 0.9909, 'recall': 0.875, 'fscore': 0.924, 'auc': 1.0, 'acc': 0.9828}, 'POLITICS': {'precision': 0.9783, 'recall': 0.8333, 'fscore': 0.8889, 'auc': 0.9697, 'acc': 0.96}, 'SOCIETY': {'precision': 0.968, 'recall': 0.9732, 'fscore': 0.9706, 'auc': 0.9986, 'acc': 0.9835}, 'HEALTH': {'precision': 1.0, 'recall': 1.0, 'fscore': 1.0, 'auc': 1.0, 'acc': 1.0}, 'metric': 0.9991261182533177, 'fscore': 0.9748886061969161, 'recall': 0.9784187244930135, 'precision': 0.9714488636363636, 'acc': 0.9849537037037037}\n",
            "Max {'DISASTERS': {'precision': 0.9753, 'recall': 0.9924, 'fscore': 0.9835, 'auc': 1.0, 'acc': 0.9882}, 'FINANCE': {'precision': 0.9909, 'recall': 0.875, 'fscore': 0.924, 'auc': 1.0, 'acc': 0.9828}, 'POLITICS': {'precision': 0.9783, 'recall': 0.8333, 'fscore': 0.8889, 'auc': 0.9697, 'acc': 0.96}, 'SOCIETY': {'precision': 0.968, 'recall': 0.9732, 'fscore': 0.9706, 'auc': 0.9986, 'acc': 0.9835}, 'HEALTH': {'precision': 1.0, 'recall': 1.0, 'fscore': 1.0, 'auc': 1.0, 'acc': 1.0}, 'metric': 0.9991261182533177, 'fscore': 0.9748886061969161, 'recall': 0.9784187244930135, 'precision': 0.9714488636363636, 'acc': 0.9849537037037037}\n",
            "100% 96/96 [00:20<00:00,  4.78it/s]\n",
            "100% 27/27 [00:04<00:00,  5.54it/s]\n",
            "5_domain_avg_type2 - VAL Epoch 8;  VAL_AUC 0.9991081000729737\n",
            "curent {'DISASTERS': {'precision': 0.9936, 'recall': 0.9981, 'fscore': 0.9958, 'auc': 0.9999, 'acc': 0.9971}, 'FINANCE': {'precision': 0.9909, 'recall': 0.875, 'fscore': 0.924, 'auc': 1.0, 'acc': 0.9828}, 'POLITICS': {'precision': 0.9783, 'recall': 0.8333, 'fscore': 0.8889, 'auc': 0.9697, 'acc': 0.96}, 'SOCIETY': {'precision': 0.9799, 'recall': 0.969, 'fscore': 0.9743, 'auc': 0.9985, 'acc': 0.9858}, 'HEALTH': {'precision': 1.0, 'recall': 1.0, 'fscore': 1.0, 'auc': 1.0, 'acc': 1.0}, 'metric': 0.9991081000729737, 'fscore': 0.9823548232645847, 'recall': 0.9787700790097208, 'precision': 0.9860343881470642, 'acc': 0.9895833333333334}\n",
            "Max {'DISASTERS': {'precision': 0.9753, 'recall': 0.9924, 'fscore': 0.9835, 'auc': 1.0, 'acc': 0.9882}, 'FINANCE': {'precision': 0.9909, 'recall': 0.875, 'fscore': 0.924, 'auc': 1.0, 'acc': 0.9828}, 'POLITICS': {'precision': 0.9783, 'recall': 0.8333, 'fscore': 0.8889, 'auc': 0.9697, 'acc': 0.96}, 'SOCIETY': {'precision': 0.968, 'recall': 0.9732, 'fscore': 0.9706, 'auc': 0.9986, 'acc': 0.9835}, 'HEALTH': {'precision': 1.0, 'recall': 1.0, 'fscore': 1.0, 'auc': 1.0, 'acc': 1.0}, 'metric': 0.9991261182533177, 'fscore': 0.9748886061969161, 'recall': 0.9784187244930135, 'precision': 0.9714488636363636, 'acc': 0.9849537037037037}\n",
            "100% 96/96 [00:20<00:00,  4.78it/s]\n",
            "100% 27/27 [00:04<00:00,  5.52it/s]\n",
            "5_domain_avg_type2 - VAL Epoch 9;  VAL_AUC 0.9992792727862413\n",
            "curent {'DISASTERS': {'precision': 0.9873, 'recall': 0.9962, 'fscore': 0.9917, 'auc': 1.0, 'acc': 0.9941}, 'FINANCE': {'precision': 0.9909, 'recall': 0.875, 'fscore': 0.924, 'auc': 1.0, 'acc': 0.9828}, 'POLITICS': {'precision': 0.9783, 'recall': 0.8333, 'fscore': 0.8889, 'auc': 0.9697, 'acc': 0.96}, 'SOCIETY': {'precision': 0.9662, 'recall': 0.9662, 'fscore': 0.9662, 'auc': 0.9988, 'acc': 0.9811}, 'HEALTH': {'precision': 1.0, 'recall': 1.0, 'fscore': 1.0, 'auc': 1.0, 'acc': 1.0}, 'metric': 0.9992792727862413, 'fscore': 0.9766484382742187, 'recall': 0.9766484382742187, 'precision': 0.9766484382742187, 'acc': 0.9861111111111112}\n",
            "Max {'DISASTERS': {'precision': 0.9873, 'recall': 0.9962, 'fscore': 0.9917, 'auc': 1.0, 'acc': 0.9941}, 'FINANCE': {'precision': 0.9909, 'recall': 0.875, 'fscore': 0.924, 'auc': 1.0, 'acc': 0.9828}, 'POLITICS': {'precision': 0.9783, 'recall': 0.8333, 'fscore': 0.8889, 'auc': 0.9697, 'acc': 0.96}, 'SOCIETY': {'precision': 0.9662, 'recall': 0.9662, 'fscore': 0.9662, 'auc': 0.9988, 'acc': 0.9811}, 'HEALTH': {'precision': 1.0, 'recall': 1.0, 'fscore': 1.0, 'auc': 1.0, 'acc': 1.0}, 'metric': 0.9992792727862413, 'fscore': 0.9766484382742187, 'recall': 0.9766484382742187, 'precision': 0.9766484382742187, 'acc': 0.9861111111111112}\n",
            "100% 96/96 [00:20<00:00,  4.76it/s]\n",
            "100% 27/27 [00:04<00:00,  5.53it/s]\n",
            "5_domain_avg_type2 - VAL Epoch 10;  VAL_AUC 0.9991621546140056\n",
            "curent {'DISASTERS': {'precision': 0.9812, 'recall': 0.9943, 'fscore': 0.9876, 'auc': 1.0, 'acc': 0.9912}, 'FINANCE': {'precision': 1.0, 'recall': 1.0, 'fscore': 1.0, 'auc': 1.0, 'acc': 1.0}, 'POLITICS': {'precision': 0.8106, 'recall': 0.8106, 'fscore': 0.8106, 'auc': 0.9545, 'acc': 0.92}, 'SOCIETY': {'precision': 0.9698, 'recall': 0.9802, 'fscore': 0.9749, 'auc': 0.9987, 'acc': 0.9858}, 'HEALTH': {'precision': 1.0, 'recall': 1.0, 'fscore': 1.0, 'auc': 1.0, 'acc': 1.0}, 'metric': 0.9991621546140056, 'fscore': 0.9788551430459362, 'recall': 0.9847881512446058, 'precision': 0.9731718898385565, 'acc': 0.9872685185185185}\n",
            "Max {'DISASTERS': {'precision': 0.9873, 'recall': 0.9962, 'fscore': 0.9917, 'auc': 1.0, 'acc': 0.9941}, 'FINANCE': {'precision': 0.9909, 'recall': 0.875, 'fscore': 0.924, 'auc': 1.0, 'acc': 0.9828}, 'POLITICS': {'precision': 0.9783, 'recall': 0.8333, 'fscore': 0.8889, 'auc': 0.9697, 'acc': 0.96}, 'SOCIETY': {'precision': 0.9662, 'recall': 0.9662, 'fscore': 0.9662, 'auc': 0.9988, 'acc': 0.9811}, 'HEALTH': {'precision': 1.0, 'recall': 1.0, 'fscore': 1.0, 'auc': 1.0, 'acc': 1.0}, 'metric': 0.9992792727862413, 'fscore': 0.9766484382742187, 'recall': 0.9766484382742187, 'precision': 0.9766484382742187, 'acc': 0.9861111111111112}\n",
            "100% 96/96 [00:20<00:00,  4.78it/s]\n",
            "100% 27/27 [00:04<00:00,  5.54it/s]\n",
            "5_domain_avg_type2 - VAL Epoch 11;  VAL_AUC 0.9939008459535671\n",
            "curent {'DISASTERS': {'precision': 0.9896, 'recall': 0.9851, 'fscore': 0.9873, 'auc': 0.9911, 'acc': 0.9912}, 'FINANCE': {'precision': 1.0, 'recall': 1.0, 'fscore': 1.0, 'auc': 1.0, 'acc': 1.0}, 'POLITICS': {'precision': 0.9783, 'recall': 0.8333, 'fscore': 0.8889, 'auc': 0.9697, 'acc': 0.96}, 'SOCIETY': {'precision': 0.9661, 'recall': 0.9394, 'fscore': 0.9521, 'auc': 0.9972, 'acc': 0.9741}, 'HEALTH': {'precision': 1.0, 'recall': 1.0, 'fscore': 1.0, 'auc': 1.0, 'acc': 1.0}, 'metric': 0.9939008459535671, 'fscore': 0.970292059315021, 'recall': 0.9621392985522392, 'precision': 0.9789635854341737, 'acc': 0.9826388888888888}\n",
            "Max {'DISASTERS': {'precision': 0.9873, 'recall': 0.9962, 'fscore': 0.9917, 'auc': 1.0, 'acc': 0.9941}, 'FINANCE': {'precision': 0.9909, 'recall': 0.875, 'fscore': 0.924, 'auc': 1.0, 'acc': 0.9828}, 'POLITICS': {'precision': 0.9783, 'recall': 0.8333, 'fscore': 0.8889, 'auc': 0.9697, 'acc': 0.96}, 'SOCIETY': {'precision': 0.9662, 'recall': 0.9662, 'fscore': 0.9662, 'auc': 0.9988, 'acc': 0.9811}, 'HEALTH': {'precision': 1.0, 'recall': 1.0, 'fscore': 1.0, 'auc': 1.0, 'acc': 1.0}, 'metric': 0.9992792727862413, 'fscore': 0.9766484382742187, 'recall': 0.9766484382742187, 'precision': 0.9766484382742187, 'acc': 0.9861111111111112}\n",
            "100% 96/96 [00:20<00:00,  4.78it/s]\n",
            "100% 27/27 [00:04<00:00,  5.53it/s]\n",
            "5_domain_avg_type2 - VAL Epoch 12;  VAL_AUC 0.9991711637041775\n",
            "curent {'DISASTERS': {'precision': 0.9812, 'recall': 0.9943, 'fscore': 0.9876, 'auc': 1.0, 'acc': 0.9912}, 'FINANCE': {'precision': 0.9909, 'recall': 0.875, 'fscore': 0.924, 'auc': 1.0, 'acc': 0.9828}, 'POLITICS': {'precision': 0.7262, 'recall': 0.7879, 'fscore': 0.7508, 'auc': 0.9697, 'acc': 0.88}, 'SOCIETY': {'precision': 0.9652, 'recall': 0.9859, 'fscore': 0.9752, 'auc': 0.9988, 'acc': 0.9858}, 'HEALTH': {'precision': 1.0, 'recall': 1.0, 'fscore': 1.0, 'auc': 1.0, 'acc': 1.0}, 'metric': 0.9991711637041775, 'fscore': 0.9751310204650977, 'recall': 0.9833737240876044, 'precision': 0.967369337979094, 'acc': 0.9849537037037037}\n",
            "Max {'DISASTERS': {'precision': 0.9873, 'recall': 0.9962, 'fscore': 0.9917, 'auc': 1.0, 'acc': 0.9941}, 'FINANCE': {'precision': 0.9909, 'recall': 0.875, 'fscore': 0.924, 'auc': 1.0, 'acc': 0.9828}, 'POLITICS': {'precision': 0.9783, 'recall': 0.8333, 'fscore': 0.8889, 'auc': 0.9697, 'acc': 0.96}, 'SOCIETY': {'precision': 0.9662, 'recall': 0.9662, 'fscore': 0.9662, 'auc': 0.9988, 'acc': 0.9811}, 'HEALTH': {'precision': 1.0, 'recall': 1.0, 'fscore': 1.0, 'auc': 1.0, 'acc': 1.0}, 'metric': 0.9992792727862413, 'fscore': 0.9766484382742187, 'recall': 0.9766484382742187, 'precision': 0.9766484382742187, 'acc': 0.9861111111111112}\n",
            "100% 13/13 [00:02<00:00,  5.29it/s]\n",
            "/usr/local/lib/python3.7/dist-packages/sklearn/metrics/_classification.py:1318: UndefinedMetricWarning: Precision is ill-defined and being set to 0.0 in labels with no predicted samples. Use `zero_division` parameter to control this behavior.\n",
            "  _warn_prf(average, modifier, msg_start, len(result))\n",
            "/usr/local/lib/python3.7/dist-packages/sklearn/metrics/_classification.py:1318: UndefinedMetricWarning: Precision is ill-defined and being set to 0.0 in labels with no predicted samples. Use `zero_division` parameter to control this behavior.\n",
            "  _warn_prf(average, modifier, msg_start, len(result))\n",
            "/usr/local/lib/python3.7/dist-packages/sklearn/metrics/_classification.py:1318: UndefinedMetricWarning: Precision is ill-defined and being set to 0.0 in labels with no predicted samples. Use `zero_division` parameter to control this behavior.\n",
            "  _warn_prf(average, modifier, msg_start, len(result))\n",
            "{'DISASTERS': {'precision': 0.6327, 'recall': 0.5088, 'fscore': 0.4564, 'auc': 0.7807, 'acc': 0.7622}, 'FINANCE': {'precision': 0.4848, 'recall': 0.5, 'fscore': 0.4923, 'auc': 0.9062, 'acc': 0.9697}, 'POLITICS': {'precision': 0.3636, 'recall': 0.5, 'fscore': 0.4211, 'auc': 0.7917, 'acc': 0.7273}, 'SOCIETY': {'precision': 0.7884, 'recall': 0.5746, 'fscore': 0.592, 'auc': 0.7932, 'acc': 0.8571}, 'HEALTH': {'precision': 0.4167, 'recall': 0.5, 'fscore': 0.4545, 'auc': 0.7, 'acc': 0.8333}, 'metric': 0.7867260061919504, 'fscore': 0.5217261201669423, 'recall': 0.535061919504644, 'precision': 0.7473382473382473, 'acc': 0.8245192307692307}\n"
          ]
        }
      ]
    }
  ]
}